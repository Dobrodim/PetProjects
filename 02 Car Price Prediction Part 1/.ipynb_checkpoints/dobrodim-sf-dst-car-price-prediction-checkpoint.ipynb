{
 "cells": [
  {
   "cell_type": "markdown",
   "metadata": {
    "papermill": {
     "duration": 0.029718,
     "end_time": "2020-10-26T12:46:41.276296",
     "exception": false,
     "start_time": "2020-10-26T12:46:41.246578",
     "status": "completed"
    },
    "tags": []
   },
   "source": [
    "<img src=\"https://profitrealestate.ru/storage/3731/HsLGQiJk2xQjSVv62p.jpg\"/>\n"
   ]
  },
  {
   "cell_type": "markdown",
   "metadata": {},
   "source": [
    "# Прогноз стоимости автомобилей"
   ]
  },
  {
   "cell_type": "markdown",
   "metadata": {},
   "source": [
    "**Задача:** спрогнозировать стоимость автомобилей, используя данные с сайта www.auto.ru"
   ]
  },
  {
   "cell_type": "code",
   "execution_count": 330,
   "metadata": {
    "execution": {
     "iopub.execute_input": "2021-06-10T16:28:13.730715Z",
     "iopub.status.busy": "2021-06-10T16:28:13.730228Z",
     "iopub.status.idle": "2021-06-10T16:28:13.748271Z",
     "shell.execute_reply": "2021-06-10T16:28:13.747551Z",
     "shell.execute_reply.started": "2021-06-10T16:28:13.730679Z"
    }
   },
   "outputs": [],
   "source": [
    "# Импортируем библиотеки:\n",
    "import pandas as pd\n",
    "import numpy as np\n",
    "import time\n",
    "import os\n",
    "\n",
    "from pandas import Series\n",
    "import re\n",
    "\n",
    "import pandas_profiling\n",
    "import matplotlib.pyplot as plt\n",
    "import seaborn as sns\n",
    "\n",
    "from sklearn.feature_selection import f_classif, mutual_info_classif\n",
    "from sklearn.preprocessing import LabelEncoder, OneHotEncoder, StandardScaler\n",
    "from sklearn.model_selection import train_test_split\n",
    "from sklearn.linear_model import LinearRegression\n",
    "from sklearn.metrics import mean_absolute_error\n",
    "\n",
    "from sklearn.ensemble import StackingRegressor\n",
    "\n",
    "from sklearn.base import clone\n",
    "from sklearn.neighbors import KNeighborsClassifier\n",
    "from sklearn.neighbors import KNeighborsRegressor\n",
    "from sklearn.model_selection import KFold\n",
    "\n",
    "from tqdm import tqdm\n",
    "from datetime import timedelta, datetime, date\n",
    "\n",
    "from catboost import CatBoostRegressor\n",
    "from sklearn.ensemble import (AdaBoostClassifier, GradientBoostingClassifier,\n",
    "                              RandomForestClassifier, ExtraTreesClassifier)\n",
    "from sklearn.ensemble import GradientBoostingRegressor, ExtraTreesRegressor, RandomForestRegressor\n",
    "from sklearn.model_selection import RandomizedSearchCV\n",
    "\n",
    "pd.options.mode.chained_assignment = None"
   ]
  },
  {
   "cell_type": "code",
   "execution_count": 328,
   "metadata": {
    "execution": {
     "iopub.execute_input": "2021-06-10T16:28:14.893343Z",
     "iopub.status.busy": "2021-06-10T16:28:14.892780Z",
     "iopub.status.idle": "2021-06-10T16:28:14.903176Z",
     "shell.execute_reply": "2021-06-10T16:28:14.902485Z",
     "shell.execute_reply.started": "2021-06-10T16:28:14.893292Z"
    }
   },
   "outputs": [],
   "source": [
    "# Функции для обработки данных:\n",
    "def visualizing_number(column): # визуализация для численных признаков\n",
    "    bins = 100\n",
    "    if column.nunique() < 100:\n",
    "        bins = column.nunique()\n",
    "    column.hist(bins = bins)\n",
    "    plt.show()\n",
    "    sns.boxplot(y = column,data=data)\n",
    "    plt.show()\n",
    "    \n",
    "\n",
    "def get_outliers(column):  # подсчет количества выбросов\n",
    "    Q1 = column.quantile(0.25)\n",
    "    Q3 = column.quantile(0.75)\n",
    "    IQR = Q3 - Q1\n",
    "    min_out = Q1 - 1.5 * IQR\n",
    "    max_out = Q3 + 1.5 * IQR\n",
    "    return (column < min_out).sum() + (column > max_out).sum(), min_out, max_out\n",
    "\n",
    "# Напишем функцию для подсчёта метрики MAPE:\n",
    "def mape(y_test, y_pred):\n",
    "    return np.mean(np.abs((y_test - y_pred) / y_test))\n",
    "\n",
    "# Напишем функцию для отображения метрики MAPE и времени, затраченного на обучение:\n",
    "def print_learn_report(start, y_test, y_pred):\n",
    "    print('\\nВремя выполнения - ', datetime.now() - start)\n",
    "    print(f\"Точность по метрике MAPE:{(mape(y_test, y_pred))*100:0.2f}%\")"
   ]
  },
  {
   "cell_type": "markdown",
   "metadata": {},
   "source": [
    "# Первичный осмотр данных\n",
    "В текущем проекте у нас есть только данные для теста, поэтому мы предварительно скачали данные для трейна отдельно. Проанализируем данные:\n"
   ]
  },
  {
   "cell_type": "code",
   "execution_count": 153,
   "metadata": {},
   "outputs": [],
   "source": [
    "test = pd.read_csv('test.csv')\n",
    "train = pd.read_csv('train.csv')\n",
    "sample_submission = pd.read_csv('sample_submission.csv')"
   ]
  },
  {
   "cell_type": "code",
   "execution_count": 154,
   "metadata": {
    "execution": {
     "iopub.execute_input": "2021-06-10T14:11:19.720434Z",
     "iopub.status.busy": "2021-06-10T14:11:19.71997Z",
     "iopub.status.idle": "2021-06-10T14:11:19.748052Z",
     "shell.execute_reply": "2021-06-10T14:11:19.746917Z",
     "shell.execute_reply.started": "2021-06-10T14:11:19.720376Z"
    }
   },
   "outputs": [
    {
     "data": {
      "text/html": [
       "<div>\n",
       "<style scoped>\n",
       "    .dataframe tbody tr th:only-of-type {\n",
       "        vertical-align: middle;\n",
       "    }\n",
       "\n",
       "    .dataframe tbody tr th {\n",
       "        vertical-align: top;\n",
       "    }\n",
       "\n",
       "    .dataframe thead th {\n",
       "        text-align: right;\n",
       "    }\n",
       "</style>\n",
       "<table border=\"1\" class=\"dataframe\">\n",
       "  <thead>\n",
       "    <tr style=\"text-align: right;\">\n",
       "      <th></th>\n",
       "      <th>bodyType</th>\n",
       "      <th>brand</th>\n",
       "      <th>car_url</th>\n",
       "      <th>color</th>\n",
       "      <th>complectation_dict</th>\n",
       "      <th>description</th>\n",
       "      <th>engineDisplacement</th>\n",
       "      <th>enginePower</th>\n",
       "      <th>equipment_dict</th>\n",
       "      <th>fuelType</th>\n",
       "      <th>...</th>\n",
       "      <th>vehicleConfiguration</th>\n",
       "      <th>vehicleTransmission</th>\n",
       "      <th>vendor</th>\n",
       "      <th>Владельцы</th>\n",
       "      <th>Владение</th>\n",
       "      <th>ПТС</th>\n",
       "      <th>Привод</th>\n",
       "      <th>Руль</th>\n",
       "      <th>Состояние</th>\n",
       "      <th>Таможня</th>\n",
       "    </tr>\n",
       "  </thead>\n",
       "  <tbody>\n",
       "    <tr>\n",
       "      <th>5839</th>\n",
       "      <td>седан</td>\n",
       "      <td>HONDA</td>\n",
       "      <td>https://auto.ru/cars/used/sale/honda/accord/10...</td>\n",
       "      <td>красный</td>\n",
       "      <td>NaN</td>\n",
       "      <td>Продаю надежный, семейный автомобиль! За время...</td>\n",
       "      <td>2.4 LTR</td>\n",
       "      <td>201 N12</td>\n",
       "      <td>{\"esp\":true,\"aux\":true,\"usb\":true,\"light-senso...</td>\n",
       "      <td>бензин</td>\n",
       "      <td>...</td>\n",
       "      <td>SEDAN AUTOMATIC 2.4</td>\n",
       "      <td>автоматическая</td>\n",
       "      <td>JAPANESE</td>\n",
       "      <td>3 или более</td>\n",
       "      <td>NaN</td>\n",
       "      <td>Оригинал</td>\n",
       "      <td>передний</td>\n",
       "      <td>Левый</td>\n",
       "      <td>Не требует ремонта</td>\n",
       "      <td>Растаможен</td>\n",
       "    </tr>\n",
       "    <tr>\n",
       "      <th>15960</th>\n",
       "      <td>седан</td>\n",
       "      <td>MERCEDES</td>\n",
       "      <td>https://auto.ru/cars/used/sale/mercedes/e_klas...</td>\n",
       "      <td>серый</td>\n",
       "      <td>NaN</td>\n",
       "      <td>Автомобиль в идеальном состоянии. Один владеле...</td>\n",
       "      <td>3.0 LTR</td>\n",
       "      <td>333 N12</td>\n",
       "      <td>NaN</td>\n",
       "      <td>бензин</td>\n",
       "      <td>...</td>\n",
       "      <td>SEDAN AUTOMATIC 3.0</td>\n",
       "      <td>автоматическая</td>\n",
       "      <td>EUROPEAN</td>\n",
       "      <td>1 владелец</td>\n",
       "      <td>3 года и 10 месяцев</td>\n",
       "      <td>Оригинал</td>\n",
       "      <td>полный</td>\n",
       "      <td>Левый</td>\n",
       "      <td>Не требует ремонта</td>\n",
       "      <td>Растаможен</td>\n",
       "    </tr>\n",
       "    <tr>\n",
       "      <th>11549</th>\n",
       "      <td>внедорожник 5 дв.</td>\n",
       "      <td>NISSAN</td>\n",
       "      <td>https://auto.ru/cars/used/sale/nissan/qashqai/...</td>\n",
       "      <td>красный</td>\n",
       "      <td>{\"id\":\"21156560\",\"name\":\"SE+\",\"available_optio...</td>\n",
       "      <td>Состояние отличное, замечаний нет, любые прове...</td>\n",
       "      <td>2.0 LTR</td>\n",
       "      <td>144 N12</td>\n",
       "      <td>{\"cruise-control\":true,\"tinted-glass\":true,\"es...</td>\n",
       "      <td>бензин</td>\n",
       "      <td>...</td>\n",
       "      <td>ALLROAD_5_DOORS VARIATOR 2.0</td>\n",
       "      <td>вариатор</td>\n",
       "      <td>JAPANESE</td>\n",
       "      <td>1 владелец</td>\n",
       "      <td>3 года</td>\n",
       "      <td>Оригинал</td>\n",
       "      <td>передний</td>\n",
       "      <td>Левый</td>\n",
       "      <td>Не требует ремонта</td>\n",
       "      <td>Растаможен</td>\n",
       "    </tr>\n",
       "  </tbody>\n",
       "</table>\n",
       "<p>3 rows × 32 columns</p>\n",
       "</div>"
      ],
      "text/plain": [
       "                bodyType     brand  \\\n",
       "5839               седан     HONDA   \n",
       "15960              седан  MERCEDES   \n",
       "11549  внедорожник 5 дв.    NISSAN   \n",
       "\n",
       "                                                 car_url    color  \\\n",
       "5839   https://auto.ru/cars/used/sale/honda/accord/10...  красный   \n",
       "15960  https://auto.ru/cars/used/sale/mercedes/e_klas...    серый   \n",
       "11549  https://auto.ru/cars/used/sale/nissan/qashqai/...  красный   \n",
       "\n",
       "                                      complectation_dict  \\\n",
       "5839                                                 NaN   \n",
       "15960                                                NaN   \n",
       "11549  {\"id\":\"21156560\",\"name\":\"SE+\",\"available_optio...   \n",
       "\n",
       "                                             description engineDisplacement  \\\n",
       "5839   Продаю надежный, семейный автомобиль! За время...            2.4 LTR   \n",
       "15960  Автомобиль в идеальном состоянии. Один владеле...            3.0 LTR   \n",
       "11549  Состояние отличное, замечаний нет, любые прове...            2.0 LTR   \n",
       "\n",
       "      enginePower                                     equipment_dict fuelType  \\\n",
       "5839      201 N12  {\"esp\":true,\"aux\":true,\"usb\":true,\"light-senso...   бензин   \n",
       "15960     333 N12                                                NaN   бензин   \n",
       "11549     144 N12  {\"cruise-control\":true,\"tinted-glass\":true,\"es...   бензин   \n",
       "\n",
       "       ...          vehicleConfiguration  vehicleTransmission    vendor  \\\n",
       "5839   ...           SEDAN AUTOMATIC 2.4       автоматическая  JAPANESE   \n",
       "15960  ...           SEDAN AUTOMATIC 3.0       автоматическая  EUROPEAN   \n",
       "11549  ...  ALLROAD_5_DOORS VARIATOR 2.0             вариатор  JAPANESE   \n",
       "\n",
       "         Владельцы             Владение       ПТС    Привод   Руль  \\\n",
       "5839   3 или более                  NaN  Оригинал  передний  Левый   \n",
       "15960   1 владелец  3 года и 10 месяцев  Оригинал    полный  Левый   \n",
       "11549   1 владелец               3 года  Оригинал  передний  Левый   \n",
       "\n",
       "                Состояние     Таможня  \n",
       "5839   Не требует ремонта  Растаможен  \n",
       "15960  Не требует ремонта  Растаможен  \n",
       "11549  Не требует ремонта  Растаможен  \n",
       "\n",
       "[3 rows x 32 columns]"
      ]
     },
     "execution_count": 154,
     "metadata": {},
     "output_type": "execute_result"
    }
   ],
   "source": [
    "test.sample(3)"
   ]
  },
  {
   "cell_type": "code",
   "execution_count": 155,
   "metadata": {
    "execution": {
     "iopub.execute_input": "2021-06-10T14:11:19.749727Z",
     "iopub.status.busy": "2021-06-10T14:11:19.749438Z",
     "iopub.status.idle": "2021-06-10T14:11:19.852361Z",
     "shell.execute_reply": "2021-06-10T14:11:19.851514Z",
     "shell.execute_reply.started": "2021-06-10T14:11:19.749699Z"
    }
   },
   "outputs": [
    {
     "name": "stdout",
     "output_type": "stream",
     "text": [
      "<class 'pandas.core.frame.DataFrame'>\n",
      "RangeIndex: 34686 entries, 0 to 34685\n",
      "Data columns (total 32 columns):\n",
      " #   Column                Non-Null Count  Dtype \n",
      "---  ------                --------------  ----- \n",
      " 0   bodyType              34686 non-null  object\n",
      " 1   brand                 34686 non-null  object\n",
      " 2   car_url               34686 non-null  object\n",
      " 3   color                 34686 non-null  object\n",
      " 4   complectation_dict    6418 non-null   object\n",
      " 5   description           34686 non-null  object\n",
      " 6   engineDisplacement    34686 non-null  object\n",
      " 7   enginePower           34686 non-null  object\n",
      " 8   equipment_dict        24690 non-null  object\n",
      " 9   fuelType              34686 non-null  object\n",
      " 10  image                 34686 non-null  object\n",
      " 11  mileage               34686 non-null  int64 \n",
      " 12  modelDate             34686 non-null  int64 \n",
      " 13  model_info            34686 non-null  object\n",
      " 14  model_name            34686 non-null  object\n",
      " 15  name                  34686 non-null  object\n",
      " 16  numberOfDoors         34686 non-null  int64 \n",
      " 17  parsing_unixtime      34686 non-null  int64 \n",
      " 18  priceCurrency         34686 non-null  object\n",
      " 19  productionDate        34686 non-null  int64 \n",
      " 20  sell_id               34686 non-null  int64 \n",
      " 21  super_gen             34686 non-null  object\n",
      " 22  vehicleConfiguration  34686 non-null  object\n",
      " 23  vehicleTransmission   34686 non-null  object\n",
      " 24  vendor                34686 non-null  object\n",
      " 25  Владельцы             34686 non-null  object\n",
      " 26  Владение              11995 non-null  object\n",
      " 27  ПТС                   34685 non-null  object\n",
      " 28  Привод                34686 non-null  object\n",
      " 29  Руль                  34686 non-null  object\n",
      " 30  Состояние             34686 non-null  object\n",
      " 31  Таможня               34686 non-null  object\n",
      "dtypes: int64(6), object(26)\n",
      "memory usage: 8.5+ MB\n"
     ]
    }
   ],
   "source": [
    "test.info()"
   ]
  },
  {
   "cell_type": "code",
   "execution_count": 156,
   "metadata": {
    "execution": {
     "iopub.execute_input": "2021-06-10T14:11:19.853759Z",
     "iopub.status.busy": "2021-06-10T14:11:19.853477Z",
     "iopub.status.idle": "2021-06-10T14:11:19.888622Z",
     "shell.execute_reply": "2021-06-10T14:11:19.887579Z",
     "shell.execute_reply.started": "2021-06-10T14:11:19.853733Z"
    }
   },
   "outputs": [
    {
     "data": {
      "text/html": [
       "<div>\n",
       "<style scoped>\n",
       "    .dataframe tbody tr th:only-of-type {\n",
       "        vertical-align: middle;\n",
       "    }\n",
       "\n",
       "    .dataframe tbody tr th {\n",
       "        vertical-align: top;\n",
       "    }\n",
       "\n",
       "    .dataframe thead th {\n",
       "        text-align: right;\n",
       "    }\n",
       "</style>\n",
       "<table border=\"1\" class=\"dataframe\">\n",
       "  <thead>\n",
       "    <tr style=\"text-align: right;\">\n",
       "      <th></th>\n",
       "      <th>Unnamed: 0</th>\n",
       "      <th>bodyType</th>\n",
       "      <th>brand</th>\n",
       "      <th>color</th>\n",
       "      <th>fuelType</th>\n",
       "      <th>modelDate</th>\n",
       "      <th>name</th>\n",
       "      <th>numberOfDoors</th>\n",
       "      <th>productionDate</th>\n",
       "      <th>vehicleConfiguration</th>\n",
       "      <th>...</th>\n",
       "      <th>description</th>\n",
       "      <th>mileage</th>\n",
       "      <th>Комплектация</th>\n",
       "      <th>Привод</th>\n",
       "      <th>Руль</th>\n",
       "      <th>Владельцы</th>\n",
       "      <th>ПТС</th>\n",
       "      <th>Таможня</th>\n",
       "      <th>Владение</th>\n",
       "      <th>Price</th>\n",
       "    </tr>\n",
       "  </thead>\n",
       "  <tbody>\n",
       "    <tr>\n",
       "      <th>77938</th>\n",
       "      <td>77938</td>\n",
       "      <td>Внедорожник 5 дв.</td>\n",
       "      <td>BMW</td>\n",
       "      <td>040001</td>\n",
       "      <td>дизель</td>\n",
       "      <td>2014.0</td>\n",
       "      <td>30d 3.0d AT (249 л.с.) 4WD</td>\n",
       "      <td>5.0</td>\n",
       "      <td>2018</td>\n",
       "      <td>AUTOMATIC</td>\n",
       "      <td>...</td>\n",
       "      <td>Внимание! Данный автомобиль Вы можете приобрес...</td>\n",
       "      <td>36972</td>\n",
       "      <td>{'id': '21075602', 'name': 'xDrive30d', 'avail...</td>\n",
       "      <td>полный</td>\n",
       "      <td>LEFT</td>\n",
       "      <td>2.0</td>\n",
       "      <td>ORIGINAL</td>\n",
       "      <td>True</td>\n",
       "      <td>NaN</td>\n",
       "      <td>3542000</td>\n",
       "    </tr>\n",
       "    <tr>\n",
       "      <th>53984</th>\n",
       "      <td>53984</td>\n",
       "      <td>Фургон</td>\n",
       "      <td>VOLKSWAGEN</td>\n",
       "      <td>0000CC</td>\n",
       "      <td>бензин</td>\n",
       "      <td>1990.0</td>\n",
       "      <td>2.0 MT (84 л.с.)</td>\n",
       "      <td>3.0</td>\n",
       "      <td>1998</td>\n",
       "      <td>MECHANICAL</td>\n",
       "      <td>...</td>\n",
       "      <td>Рабочая лошадка. Контрактный двигатель. Брал п...</td>\n",
       "      <td>340000</td>\n",
       "      <td>{'id': '0'}</td>\n",
       "      <td>передний</td>\n",
       "      <td>LEFT</td>\n",
       "      <td>3.0</td>\n",
       "      <td>ORIGINAL</td>\n",
       "      <td>True</td>\n",
       "      <td>NaN</td>\n",
       "      <td>335000</td>\n",
       "    </tr>\n",
       "    <tr>\n",
       "      <th>67637</th>\n",
       "      <td>67637</td>\n",
       "      <td>Седан</td>\n",
       "      <td>MERCEDES</td>\n",
       "      <td>97948F</td>\n",
       "      <td>бензин</td>\n",
       "      <td>2016.0</td>\n",
       "      <td>200 2.0 AT (184 л.с.)</td>\n",
       "      <td>4.0</td>\n",
       "      <td>2016</td>\n",
       "      <td>AUTOMATIC</td>\n",
       "      <td>...</td>\n",
       "      <td>Автомобиль в идеальном состоянии. В дтп не уча...</td>\n",
       "      <td>67000</td>\n",
       "      <td>{'id': '0'}</td>\n",
       "      <td>задний</td>\n",
       "      <td>LEFT</td>\n",
       "      <td>2.0</td>\n",
       "      <td>ORIGINAL</td>\n",
       "      <td>True</td>\n",
       "      <td>{'year': 2016, 'month': 5}</td>\n",
       "      <td>2100000</td>\n",
       "    </tr>\n",
       "  </tbody>\n",
       "</table>\n",
       "<p>3 rows × 22 columns</p>\n",
       "</div>"
      ],
      "text/plain": [
       "       Unnamed: 0           bodyType       brand   color fuelType  modelDate  \\\n",
       "77938       77938  Внедорожник 5 дв.         BMW  040001   дизель     2014.0   \n",
       "53984       53984             Фургон  VOLKSWAGEN  0000CC   бензин     1990.0   \n",
       "67637       67637              Седан    MERCEDES  97948F   бензин     2016.0   \n",
       "\n",
       "                             name  numberOfDoors  productionDate  \\\n",
       "77938  30d 3.0d AT (249 л.с.) 4WD            5.0            2018   \n",
       "53984            2.0 MT (84 л.с.)            3.0            1998   \n",
       "67637       200 2.0 AT (184 л.с.)            4.0            2016   \n",
       "\n",
       "      vehicleConfiguration  ...  \\\n",
       "77938            AUTOMATIC  ...   \n",
       "53984           MECHANICAL  ...   \n",
       "67637            AUTOMATIC  ...   \n",
       "\n",
       "                                             description  mileage  \\\n",
       "77938  Внимание! Данный автомобиль Вы можете приобрес...    36972   \n",
       "53984  Рабочая лошадка. Контрактный двигатель. Брал п...   340000   \n",
       "67637  Автомобиль в идеальном состоянии. В дтп не уча...    67000   \n",
       "\n",
       "                                            Комплектация    Привод  Руль  \\\n",
       "77938  {'id': '21075602', 'name': 'xDrive30d', 'avail...    полный  LEFT   \n",
       "53984                                        {'id': '0'}  передний  LEFT   \n",
       "67637                                        {'id': '0'}    задний  LEFT   \n",
       "\n",
       "      Владельцы       ПТС  Таможня                    Владение    Price  \n",
       "77938       2.0  ORIGINAL     True                         NaN  3542000  \n",
       "53984       3.0  ORIGINAL     True                         NaN   335000  \n",
       "67637       2.0  ORIGINAL     True  {'year': 2016, 'month': 5}  2100000  \n",
       "\n",
       "[3 rows x 22 columns]"
      ]
     },
     "execution_count": 156,
     "metadata": {},
     "output_type": "execute_result"
    }
   ],
   "source": [
    "train.sample(3)"
   ]
  },
  {
   "cell_type": "code",
   "execution_count": 157,
   "metadata": {
    "execution": {
     "iopub.execute_input": "2021-06-10T14:11:19.891317Z",
     "iopub.status.busy": "2021-06-10T14:11:19.890745Z",
     "iopub.status.idle": "2021-06-10T14:11:20.041185Z",
     "shell.execute_reply": "2021-06-10T14:11:20.040488Z",
     "shell.execute_reply.started": "2021-06-10T14:11:19.891272Z"
    }
   },
   "outputs": [
    {
     "name": "stdout",
     "output_type": "stream",
     "text": [
      "<class 'pandas.core.frame.DataFrame'>\n",
      "RangeIndex: 109080 entries, 0 to 109079\n",
      "Data columns (total 22 columns):\n",
      " #   Column                Non-Null Count   Dtype  \n",
      "---  ------                --------------   -----  \n",
      " 0   Unnamed: 0            109080 non-null  int64  \n",
      " 1   bodyType              109079 non-null  object \n",
      " 2   brand                 109080 non-null  object \n",
      " 3   color                 109080 non-null  object \n",
      " 4   fuelType              109080 non-null  object \n",
      " 5   modelDate             109079 non-null  float64\n",
      " 6   name                  109079 non-null  object \n",
      " 7   numberOfDoors         109079 non-null  float64\n",
      " 8   productionDate        109080 non-null  int64  \n",
      " 9   vehicleConfiguration  109079 non-null  object \n",
      " 10  engineDisplacement    109079 non-null  object \n",
      " 11  enginePower           109079 non-null  float64\n",
      " 12  description           105829 non-null  object \n",
      " 13  mileage               109080 non-null  int64  \n",
      " 14  Комплектация          109080 non-null  object \n",
      " 15  Привод                109079 non-null  object \n",
      " 16  Руль                  109080 non-null  object \n",
      " 17  Владельцы             109073 non-null  float64\n",
      " 18  ПТС                   109078 non-null  object \n",
      " 19  Таможня               109080 non-null  bool   \n",
      " 20  Владение              39889 non-null   object \n",
      " 21  Price                 109080 non-null  int64  \n",
      "dtypes: bool(1), float64(4), int64(4), object(13)\n",
      "memory usage: 17.6+ MB\n"
     ]
    }
   ],
   "source": [
    "train.info()"
   ]
  },
  {
   "cell_type": "code",
   "execution_count": 158,
   "metadata": {
    "execution": {
     "iopub.execute_input": "2021-06-10T14:11:20.188757Z",
     "iopub.status.busy": "2021-06-10T14:11:20.188178Z",
     "iopub.status.idle": "2021-06-10T14:11:20.193508Z",
     "shell.execute_reply": "2021-06-10T14:11:20.192659Z",
     "shell.execute_reply.started": "2021-06-10T14:11:20.188722Z"
    }
   },
   "outputs": [],
   "source": [
    "# Целевая переменная - Price. Видим, что в трейне нет пропущенных значений с ценой. \n",
    "# Создадим в тесте переменную Price и заполним её Nan.\n",
    "test['Price'] = np.nan"
   ]
  },
  {
   "cell_type": "code",
   "execution_count": 159,
   "metadata": {
    "execution": {
     "iopub.execute_input": "2021-06-10T14:11:20.82473Z",
     "iopub.status.busy": "2021-06-10T14:11:20.824314Z",
     "iopub.status.idle": "2021-06-10T14:11:20.830701Z",
     "shell.execute_reply": "2021-06-10T14:11:20.829539Z",
     "shell.execute_reply.started": "2021-06-10T14:11:20.824694Z"
    }
   },
   "outputs": [],
   "source": [
    "# Создадим в трейне sell_id по аналогии с тестом и заполним её Nan:\n",
    "train['sell_id'] = np.nan"
   ]
  },
  {
   "cell_type": "code",
   "execution_count": 160,
   "metadata": {
    "execution": {
     "iopub.execute_input": "2021-06-10T14:11:21.965584Z",
     "iopub.status.busy": "2021-06-10T14:11:21.965183Z",
     "iopub.status.idle": "2021-06-10T14:11:21.971863Z",
     "shell.execute_reply": "2021-06-10T14:11:21.970504Z",
     "shell.execute_reply.started": "2021-06-10T14:11:21.965548Z"
    }
   },
   "outputs": [],
   "source": [
    "# Создадим список общих переменных для теста и трейна:\n",
    "columns = ['sell_id', 'bodyType', 'brand', 'color', 'fuelType', 'modelDate',\n",
    "           'name', 'numberOfDoors', 'productionDate', 'vehicleConfiguration',\n",
    "           'engineDisplacement', 'enginePower', 'description', 'mileage',\n",
    "           'Привод', 'Руль', 'Владельцы', 'ПТС', 'Таможня','Владение', 'Price']"
   ]
  },
  {
   "cell_type": "code",
   "execution_count": 161,
   "metadata": {
    "execution": {
     "iopub.execute_input": "2021-06-10T14:11:23.461519Z",
     "iopub.status.busy": "2021-06-10T14:11:23.460949Z",
     "iopub.status.idle": "2021-06-10T14:11:23.468772Z",
     "shell.execute_reply": "2021-06-10T14:11:23.467914Z",
     "shell.execute_reply.started": "2021-06-10T14:11:23.461472Z"
    }
   },
   "outputs": [
    {
     "data": {
      "text/plain": [
       "Index(['bodyType', 'brand', 'car_url', 'color', 'complectation_dict',\n",
       "       'description', 'engineDisplacement', 'enginePower', 'equipment_dict',\n",
       "       'fuelType', 'image', 'mileage', 'modelDate', 'model_info', 'model_name',\n",
       "       'name', 'numberOfDoors', 'parsing_unixtime', 'priceCurrency',\n",
       "       'productionDate', 'sell_id', 'super_gen', 'vehicleConfiguration',\n",
       "       'vehicleTransmission', 'vendor', 'Владельцы', 'Владение', 'ПТС',\n",
       "       'Привод', 'Руль', 'Состояние', 'Таможня', 'Price'],\n",
       "      dtype='object')"
      ]
     },
     "execution_count": 161,
     "metadata": {},
     "output_type": "execute_result"
    }
   ],
   "source": [
    "test.columns"
   ]
  },
  {
   "cell_type": "code",
   "execution_count": 162,
   "metadata": {
    "execution": {
     "iopub.execute_input": "2021-06-10T14:11:25.135242Z",
     "iopub.status.busy": "2021-06-10T14:11:25.134708Z",
     "iopub.status.idle": "2021-06-10T14:11:25.17182Z",
     "shell.execute_reply": "2021-06-10T14:11:25.171019Z",
     "shell.execute_reply.started": "2021-06-10T14:11:25.13521Z"
    }
   },
   "outputs": [],
   "source": [
    "# Приведём датасеты тест и трейн к единому содержанию переменных:\n",
    "df_train = train[columns]\n",
    "df_test = test[columns]"
   ]
  },
  {
   "cell_type": "code",
   "execution_count": 163,
   "metadata": {
    "execution": {
     "iopub.execute_input": "2021-06-10T14:11:25.71516Z",
     "iopub.status.busy": "2021-06-10T14:11:25.714614Z",
     "iopub.status.idle": "2021-06-10T14:11:25.721036Z",
     "shell.execute_reply": "2021-06-10T14:11:25.720107Z",
     "shell.execute_reply.started": "2021-06-10T14:11:25.715129Z"
    }
   },
   "outputs": [],
   "source": [
    "df_train['sample'] = 1 # помечаем, где у нас трейн\n",
    "df_test['sample'] = 0 # помечаем, где у нас тест"
   ]
  },
  {
   "cell_type": "markdown",
   "metadata": {},
   "source": [
    "Проанализируем бренды автомобилей в тесте и трейне - удостоверимся, что они совпадают. "
   ]
  },
  {
   "cell_type": "code",
   "execution_count": 164,
   "metadata": {
    "execution": {
     "iopub.execute_input": "2021-06-10T14:11:26.923912Z",
     "iopub.status.busy": "2021-06-10T14:11:26.923542Z",
     "iopub.status.idle": "2021-06-10T14:11:26.936981Z",
     "shell.execute_reply": "2021-06-10T14:11:26.936129Z",
     "shell.execute_reply.started": "2021-06-10T14:11:26.923882Z"
    }
   },
   "outputs": [
    {
     "data": {
      "text/plain": [
       "array(['AUDI', 'BMW', 'HONDA', 'INFINITI', 'LEXUS', 'MERCEDES',\n",
       "       'MITSUBISHI', 'NISSAN', 'SKODA', 'SUZUKI', 'TOYOTA', 'VOLKSWAGEN',\n",
       "       'VOLVO'], dtype=object)"
      ]
     },
     "execution_count": 164,
     "metadata": {},
     "output_type": "execute_result"
    }
   ],
   "source": [
    "df_train.brand.unique()"
   ]
  },
  {
   "cell_type": "code",
   "execution_count": 165,
   "metadata": {
    "execution": {
     "iopub.execute_input": "2021-06-10T14:11:27.567949Z",
     "iopub.status.busy": "2021-06-10T14:11:27.567343Z",
     "iopub.status.idle": "2021-06-10T14:11:27.576298Z",
     "shell.execute_reply": "2021-06-10T14:11:27.575448Z",
     "shell.execute_reply.started": "2021-06-10T14:11:27.567915Z"
    }
   },
   "outputs": [
    {
     "data": {
      "text/plain": [
       "array(['SKODA', 'AUDI', 'HONDA', 'VOLVO', 'BMW', 'NISSAN', 'INFINITI',\n",
       "       'MERCEDES', 'TOYOTA', 'LEXUS', 'VOLKSWAGEN', 'MITSUBISHI'],\n",
       "      dtype=object)"
      ]
     },
     "execution_count": 165,
     "metadata": {},
     "output_type": "execute_result"
    }
   ],
   "source": [
    "df_test.brand.unique()"
   ]
  },
  {
   "cell_type": "code",
   "execution_count": 166,
   "metadata": {
    "execution": {
     "iopub.execute_input": "2021-06-10T14:11:27.986092Z",
     "iopub.status.busy": "2021-06-10T14:11:27.985504Z",
     "iopub.status.idle": "2021-06-10T14:11:28.032819Z",
     "shell.execute_reply": "2021-06-10T14:11:28.031994Z",
     "shell.execute_reply.started": "2021-06-10T14:11:27.986044Z"
    }
   },
   "outputs": [],
   "source": [
    "# Удалим бренд SUZUKI из нашего трейна:\n",
    "df_train = df_train.loc[df_train['brand'] != 'SUZUKI']"
   ]
  },
  {
   "cell_type": "markdown",
   "metadata": {},
   "source": [
    "### Дубликаты\n",
    "Посмотрим, есть ли дубликаты в трейне и тесте:"
   ]
  },
  {
   "cell_type": "code",
   "execution_count": 167,
   "metadata": {
    "execution": {
     "iopub.execute_input": "2021-06-10T14:11:28.921597Z",
     "iopub.status.busy": "2021-06-10T14:11:28.921023Z",
     "iopub.status.idle": "2021-06-10T14:11:29.236024Z",
     "shell.execute_reply": "2021-06-10T14:11:29.23478Z",
     "shell.execute_reply.started": "2021-06-10T14:11:28.921549Z"
    }
   },
   "outputs": [
    {
     "data": {
      "text/plain": [
       "818"
      ]
     },
     "execution_count": 167,
     "metadata": {},
     "output_type": "execute_result"
    }
   ],
   "source": [
    "# Видим, что в трейне есть 818 дубликатов:\n",
    "len(df_train) - len(df_train.drop_duplicates())"
   ]
  },
  {
   "cell_type": "code",
   "execution_count": 168,
   "metadata": {
    "execution": {
     "iopub.execute_input": "2021-06-10T14:11:29.538309Z",
     "iopub.status.busy": "2021-06-10T14:11:29.537945Z",
     "iopub.status.idle": "2021-06-10T14:11:29.760248Z",
     "shell.execute_reply": "2021-06-10T14:11:29.759481Z",
     "shell.execute_reply.started": "2021-06-10T14:11:29.538274Z"
    }
   },
   "outputs": [],
   "source": [
    "# Удалим их:\n",
    "df_train = df_train.drop_duplicates()"
   ]
  },
  {
   "cell_type": "code",
   "execution_count": 169,
   "metadata": {
    "execution": {
     "iopub.execute_input": "2021-06-10T14:11:29.926376Z",
     "iopub.status.busy": "2021-06-10T14:11:29.925811Z",
     "iopub.status.idle": "2021-06-10T14:11:30.189882Z",
     "shell.execute_reply": "2021-06-10T14:11:30.188597Z",
     "shell.execute_reply.started": "2021-06-10T14:11:29.926322Z"
    }
   },
   "outputs": [
    {
     "data": {
      "text/plain": [
       "0"
      ]
     },
     "execution_count": 169,
     "metadata": {},
     "output_type": "execute_result"
    }
   ],
   "source": [
    "# В тесте дубликатов нет:\n",
    "len(df_test) - len(df_test.drop_duplicates())"
   ]
  },
  {
   "cell_type": "code",
   "execution_count": 170,
   "metadata": {},
   "outputs": [],
   "source": [
    "# Заранее обработаем признак \"Владельцы\" в тесте:\n",
    "df_test['Владельцы'] = df_test['Владельцы'].str.extract('(\\d)', expand=False).str.strip()"
   ]
  },
  {
   "cell_type": "code",
   "execution_count": 171,
   "metadata": {
    "execution": {
     "iopub.execute_input": "2021-06-10T14:11:30.505469Z",
     "iopub.status.busy": "2021-06-10T14:11:30.505087Z",
     "iopub.status.idle": "2021-06-10T14:11:30.614894Z",
     "shell.execute_reply": "2021-06-10T14:11:30.613992Z",
     "shell.execute_reply.started": "2021-06-10T14:11:30.505438Z"
    }
   },
   "outputs": [],
   "source": [
    "# Объединяем трейн и тест в один датасет, оставив только пересекающиеся признаки.\n",
    "# Это необходимо для корректной работы с данными в будущем:\n",
    "data = df_test.append(df_train, sort=False).reset_index(drop=True)"
   ]
  },
  {
   "cell_type": "markdown",
   "metadata": {},
   "source": [
    "## Примечание 1\n",
    "При слиянии трейна и теста мы отказались от следующих параметров:\n",
    "- **car_url, image** - это ссылки, они не предоставляют ценность для нашей модели,\n",
    "- **complectation_dict, equipment_dict, super_gen, model_info** - это словари данных, сложны в обработке + с большим количеством пропусков,\n",
    "- **parsing_unixtime** - время парсинга данных, не предоставляет ценность,\n",
    "- **priceCurrency, Состояние** - перманентные и неизменные величины, не имеют ценности для модели,\n",
    "- **vendor** - продавец, 2 параметра - европейский и японский (на данном этапе сложно оценить значимость признака),\n",
    "- **model_name** - модель автомобиля (на данном этапе сложно оценить значимость признака),\n",
    "- **vehicleTransmission** - трансмиссия (на данном этапе сложно оценить значимость признака).\n",
    "\n",
    "То есть большинство признаков, от которых мы отказались при слиянии трейна и теста, - незначительны. Логически важным \"потерянным\" признаком стал столбец с трансмиссией автомобиля. Подумаем позже, учитывать ли его при обучении модели или лучше будет извлечь данные из признака **name** (технические характеристики - мощность двигателя, трансмиссия)."
   ]
  },
  {
   "cell_type": "markdown",
   "metadata": {},
   "source": [
    "## Примечание 2\n",
    "\n",
    "Данные для теста были спарсены в промежутке с 19 по 26 октября 2020 года, а данные для трейна мы взяли из датасета на kaggle - они были спарсены с 6 марта по 13 апреля 2020 года. \n",
    "\n",
    "Курс доллара в марте / апреле и в октябре 2020 года в среднем составлял около 78 RUB, поэтому делаем предположение, что эконометрические события при создании модели были учтены."
   ]
  },
  {
   "cell_type": "code",
   "execution_count": 172,
   "metadata": {
    "execution": {
     "iopub.execute_input": "2021-06-10T14:11:32.146794Z",
     "iopub.status.busy": "2021-06-10T14:11:32.146262Z",
     "iopub.status.idle": "2021-06-10T14:11:32.153364Z",
     "shell.execute_reply": "2021-06-10T14:11:32.152429Z",
     "shell.execute_reply.started": "2021-06-10T14:11:32.146755Z"
    }
   },
   "outputs": [
    {
     "name": "stdout",
     "output_type": "stream",
     "text": [
      "1603107306\n",
      "1603710264\n"
     ]
    }
   ],
   "source": [
    "print(test.parsing_unixtime.min())\n",
    "print(test.parsing_unixtime.max())"
   ]
  },
  {
   "cell_type": "markdown",
   "metadata": {},
   "source": [
    "# EDA"
   ]
  },
  {
   "cell_type": "markdown",
   "metadata": {},
   "source": [
    "Для начала приведём названия всех столбцов к общему типу:"
   ]
  },
  {
   "cell_type": "code",
   "execution_count": 173,
   "metadata": {
    "execution": {
     "iopub.execute_input": "2021-06-10T14:11:34.424539Z",
     "iopub.status.busy": "2021-06-10T14:11:34.423851Z",
     "iopub.status.idle": "2021-06-10T14:11:34.43279Z",
     "shell.execute_reply": "2021-06-10T14:11:34.431897Z",
     "shell.execute_reply.started": "2021-06-10T14:11:34.424487Z"
    }
   },
   "outputs": [],
   "source": [
    "data.rename(columns={'bodyType': 'body_type', \n",
    "                     'engineDisplacement': 'engine_volume',\n",
    "                     'enginePower': 'engine_power',\n",
    "                     'fuelType': 'fuel_type',\n",
    "                     'modelDate': 'model_date',\n",
    "                     'numberOfDoors': 'number_of_doors',\n",
    "                     'productionDate': 'production_date',\n",
    "                     'vehicleConfiguration': 'vehicle_configuration',\n",
    "                     'Владельцы': 'owners_qty',\n",
    "                     'Владение': 'ownership_time',\n",
    "                     'ПТС': 'licence',\n",
    "                     'Привод': 'type_of_drive',\n",
    "                     'Руль': 'steering_wheel',\n",
    "                     'Таможня': 'customs', \n",
    "                     'Price': 'price',}, inplace=True)"
   ]
  },
  {
   "cell_type": "markdown",
   "metadata": {},
   "source": [
    "## Признаки датасета\n",
    "\n",
    "- body_type - тип кузова,\n",
    "- brand - марка автомобиля,\n",
    "- color - цвет автомобиля,\n",
    "- description - описание в объявлении,\n",
    "- engine_displacement - объём двигателя,\n",
    "- engine_power - мощность двигателя,\n",
    "- fuel_type - тип топлива,\n",
    "- mileage - пробег,\n",
    "- model_date - дата релиза модели,\n",
    "- name - мощность двигателя, трансмиссия,\n",
    "- number_of_doors - количество дверей, \n",
    "- production_date - дата производства автомобиля,\n",
    "- sell_id - id объявления,\n",
    "- vehicle_configuration - конфигурация транспортного средства (ТС),\n",
    "- owners_qty - количество владельцев,\n",
    "- ownership_time - период владения ТС,\n",
    "- licence - паспорт ТС,\n",
    "- type_of_drive - тип привода,\n",
    "- steering_wheel - сторона руля,\n",
    "- customs - этап растаможки,\n",
    "- price - цена автомобиля, целевой параметр,\n",
    "- sample - индикатор принадлежности данных к тесту (0) и трейну (1)."
   ]
  },
  {
   "cell_type": "markdown",
   "metadata": {},
   "source": [
    "## Pandas Profiling\n",
    "\n",
    "Pandas Profiling позволит нам произвести быстрый и углубленный EDA ещё не очищенных данных. После знакомства с отчётом сделаем выводы."
   ]
  },
  {
   "cell_type": "code",
   "execution_count": 174,
   "metadata": {
    "execution": {
     "iopub.execute_input": "2021-06-08T17:30:21.983406Z",
     "iopub.status.busy": "2021-06-08T17:30:21.982715Z",
     "iopub.status.idle": "2021-06-08T17:38:56.469586Z",
     "shell.execute_reply": "2021-06-08T17:38:56.468552Z",
     "shell.execute_reply.started": "2021-06-08T17:30:21.983366Z"
    }
   },
   "outputs": [],
   "source": [
    "# pandas_profiling.ProfileReport(data)"
   ]
  },
  {
   "cell_type": "markdown",
   "metadata": {},
   "source": [
    "## Итак:\n",
    "1) В датасете представлено 22 признака, из них:\n",
    "- категориальных переменных - 12,\n",
    "- числовых переменных - 6,\n",
    "- неподдерживаемых признаков - 3.\n",
    "\n",
    "2) Больше всего **пропусков** в переменных:\n",
    "- sell_id (75.4%) - это логично - в трейне у нас не было этого признака, поэтому мы его добавили сами, \n",
    "- description (2.3%),\n",
    "- ownership_time (64.0%),\n",
    "- price (24.6%) - это логично - в тесте целевой признак неизвестен.\n",
    "\n",
    "3) **Высокая вариативность** замечена в следующих категориальных признаках: body_type (132 уникальных значения), name (3723), vehicle_configuration (638), engine_volume (480), ownership_time (564). Для dummy переменных столько значений - это много. Подумаем в будущем над группировкой значений для уменьшения вариативности. \n",
    "\n",
    "4) Столбец с **перманентными значениями** customs позже удалим, так как он не имеет ценности для нашей модели.\n",
    "\n",
    "5) **description** - интересный признак, в будущем посмотрим на него поближе и решим, будем ли извлекать из него информацию с помощью регулярных выражений или нет.\n",
    "\n",
    "6) **Сильно скоррелированные между собой признаки**:\n",
    "- model_date / production_date, в будущем решим, будем ли удалять один из этих признаков или нет,\n",
    "- milage / production_date (model_date),\n",
    "- **у целевой переменной price** сильная корелляция с признаками mileage и production_date (model_date) - это ценные признаки для будущей модели, подумаем над обработкой дат и созданием новых признаков на их базе (Feature Engineering).\n",
    "\n",
    "\n"
   ]
  },
  {
   "cell_type": "markdown",
   "metadata": {},
   "source": [
    "## Обработка признаков"
   ]
  },
  {
   "cell_type": "code",
   "execution_count": 175,
   "metadata": {
    "execution": {
     "iopub.execute_input": "2021-06-10T14:11:39.022919Z",
     "iopub.status.busy": "2021-06-10T14:11:39.022548Z",
     "iopub.status.idle": "2021-06-10T14:11:39.029719Z",
     "shell.execute_reply": "2021-06-10T14:11:39.028515Z",
     "shell.execute_reply.started": "2021-06-10T14:11:39.022887Z"
    }
   },
   "outputs": [
    {
     "data": {
      "text/plain": [
       "Index(['sell_id', 'body_type', 'brand', 'color', 'fuel_type', 'model_date',\n",
       "       'name', 'number_of_doors', 'production_date', 'vehicle_configuration',\n",
       "       'engine_volume', 'engine_power', 'description', 'mileage',\n",
       "       'type_of_drive', 'steering_wheel', 'owners_qty', 'licence', 'customs',\n",
       "       'ownership_time', 'price', 'sample'],\n",
       "      dtype='object')"
      ]
     },
     "execution_count": 175,
     "metadata": {},
     "output_type": "execute_result"
    }
   ],
   "source": [
    "data.columns"
   ]
  },
  {
   "cell_type": "code",
   "execution_count": 176,
   "metadata": {
    "execution": {
     "iopub.execute_input": "2021-06-10T14:11:39.66862Z",
     "iopub.status.busy": "2021-06-10T14:11:39.667995Z",
     "iopub.status.idle": "2021-06-10T14:11:39.672686Z",
     "shell.execute_reply": "2021-06-10T14:11:39.671689Z",
     "shell.execute_reply.started": "2021-06-10T14:11:39.668583Z"
    }
   },
   "outputs": [],
   "source": [
    "# Создадим пустые списки категориальных и чиленных признаков. Постепенно будем их заполнять:\n",
    "cat_cols = []\n",
    "num_cols = []"
   ]
  },
  {
   "cell_type": "markdown",
   "metadata": {},
   "source": [
    "## 1. sell_id\n",
    "Оставляем без изменений"
   ]
  },
  {
   "cell_type": "markdown",
   "metadata": {
    "_cell_guid": "b1076dfc-b9ad-4769-8c92-a6c4dae69d19",
    "_uuid": "8f2839f25d086af736a60e9eeb907d3b93b6e0e5",
    "execution": {
     "iopub.execute_input": "2020-10-26T12:46:41.400302Z",
     "iopub.status.busy": "2020-10-26T12:46:41.399317Z",
     "iopub.status.idle": "2020-10-26T12:46:42.581426Z",
     "shell.execute_reply": "2020-10-26T12:46:42.580431Z"
    },
    "papermill": {
     "duration": 1.219772,
     "end_time": "2020-10-26T12:46:42.581597",
     "exception": false,
     "start_time": "2020-10-26T12:46:41.361825",
     "status": "completed"
    },
    "tags": []
   },
   "source": [
    "## 2. body_type"
   ]
  },
  {
   "cell_type": "code",
   "execution_count": 177,
   "metadata": {
    "execution": {
     "iopub.execute_input": "2021-06-10T14:11:40.801502Z",
     "iopub.status.busy": "2021-06-10T14:11:40.800934Z",
     "iopub.status.idle": "2021-06-10T14:11:40.824915Z",
     "shell.execute_reply": "2021-06-10T14:11:40.823919Z",
     "shell.execute_reply.started": "2021-06-10T14:11:40.801447Z"
    }
   },
   "outputs": [
    {
     "data": {
      "text/plain": [
       "array(['лифтбек', 'внедорожник 5 дв.', 'хэтчбек 5 дв.', 'седан',\n",
       "       'компактвэн', 'универсал 5 дв.', 'пикап одинарная кабина',\n",
       "       'хэтчбек 3 дв.', 'купе', 'кабриолет', 'минивэн',\n",
       "       'пикап двойная кабина', 'внедорожник 3 дв.', 'родстер', 'микровэн',\n",
       "       'седан 2 дв.', 'купе-хардтоп', 'фастбек', 'тарга',\n",
       "       'внедорожник открытый', 'лимузин', 'пикап полуторная кабина',\n",
       "       'седан-хардтоп', 'фургон', 'Седан', 'Универсал 5 дв.',\n",
       "       'Хэтчбек 5 дв. Sportback', 'Хэтчбек 3 дв.', 'Хэтчбек 5 дв.',\n",
       "       'Кабриолет', 'Седан Long', 'Купе', 'Лифтбек Sportback', 'Лифтбек',\n",
       "       'Внедорожник 5 дв.', 'Родстер', 'Кабриолет Roadster', 'Компактвэн',\n",
       "       'Компактвэн Gran Tourer', 'Лифтбек Gran Turismo',\n",
       "       'Хэтчбек 3 дв. Compact', 'Седан 2 дв.', 'Лифтбек Gran Coupe',\n",
       "       'Седан Gran Coupe', 'Купе-хардтоп', 'Родстер Roadster',\n",
       "       'Седан Type-S', 'Седан US Market', 'Микровэн',\n",
       "       'Универсал 5 дв. Shuttle', 'Родстер del Sol', 'Минивэн',\n",
       "       'Компактвэн Spike', 'Внедорожник 3 дв.', 'Пикап Двойная кабина',\n",
       "       'Минивэн Spada', 'Внедорожник 5 дв. Arctic Trucks',\n",
       "       'Внедорожник 5 дв. L', 'Хэтчбек 5 дв. Long',\n",
       "       'Универсал 5 дв. All-Terrain', 'Внедорожник открытый',\n",
       "       'Минивэн Long', 'Лимузин Pullman', 'Минивэн L', 'Минивэн XL',\n",
       "       'Минивэн Marco Polo', 'Минивэн Extra Lang', 'Минивэн Lang',\n",
       "       'Минивэн Extralang', 'Минивэн L2', 'Минивэн L1', 'Минивэн L3',\n",
       "       'Универсал 5 дв. Plus', 'Минивэн Cargo', 'Пикап Полуторная кабина',\n",
       "       'Купе Asti', 'Тарга', 'Пикап Полуторная кабина King Cab',\n",
       "       'Минивэн Caravan Elgrand', 'Универсал 5 дв. California',\n",
       "       'Седан Latio', 'Седан 120', 'Хэтчбек 5 дв. Scout',\n",
       "       'Пикап Одинарная кабина', 'Универсал 5 дв. Scout',\n",
       "       'Компактвэн Scout', 'Универсал 5 дв. Gita',\n",
       "       'Пикап Полуторная кабина Open deck', 'Универсал 5 дв. Gracia',\n",
       "       'Седан Japan Market', 'Седан Gracia', 'Седан-хардтоп',\n",
       "       'Универсал 5 дв. Fielder', 'Лифтбек Liftback',\n",
       "       'Седан-хардтоп Ceres', 'Хэтчбек 5 дв. Runx', 'Седан Premio',\n",
       "       'Лифтбек T150', 'Минивэн Lucida', 'Минивэн Emina',\n",
       "       'Пикап Двойная кабина Arctic Trucks',\n",
       "       'Пикап Двойная кабина Double cab', 'Пикап Одинарная кабина 79',\n",
       "       'Пикап Двойная кабина 79', 'Внедорожник 5 дв. 76',\n",
       "       'Внедорожник 3 дв. 78', 'Компактвэн Noah',\n",
       "       'Универсал 5 дв. Qualis', 'Универсал 5 дв. Blit',\n",
       "       'Внедорожник 5 дв. Long', 'Пикап Двойная кабина CrewMax',\n",
       "       'Пикап Двойная кабина Double Cab',\n",
       "       'Пикап Полуторная кабина Long Bed', 'Универсал 5 дв. Ardeo',\n",
       "       'Компактвэн Life', 'Компактвэн Maxi', 'Компактвэн Life Maxi',\n",
       "       'Минивэн SWB', 'Минивэн LWB', 'Универсал 5 дв. Alltrack',\n",
       "       'Хэтчбек 5 дв. Cross', 'Внедорожник 5 дв. Allspace',\n",
       "       'Компактвэн Cross', 'Фургон', 'Фургон Kasten',\n",
       "       'Универсал 5 дв. Plug-in-Hybrid', 'Универсал 5 дв. XC',\n",
       "       'Пикап Одинарная кабина Single Cab', 'Универсал 5 дв. Spaceback',\n",
       "       nan, 'Внедорожник 5 дв. RS', 'Седан T140', 'Внедорожник 5 дв. 4x4'],\n",
       "      dtype=object)"
      ]
     },
     "execution_count": 177,
     "metadata": {},
     "output_type": "execute_result"
    }
   ],
   "source": [
    "# Посмотрим на уникальные данные признака:\n",
    "data.body_type.unique()"
   ]
  },
  {
   "cell_type": "code",
   "execution_count": 178,
   "metadata": {
    "execution": {
     "iopub.execute_input": "2021-06-10T14:11:41.178857Z",
     "iopub.status.busy": "2021-06-10T14:11:41.178299Z",
     "iopub.status.idle": "2021-06-10T14:11:41.379806Z",
     "shell.execute_reply": "2021-06-10T14:11:41.37897Z",
     "shell.execute_reply.started": "2021-06-10T14:11:41.178824Z"
    }
   },
   "outputs": [],
   "source": [
    "# Унифицируем названия кузовов: \n",
    "data['body_type'] = data['body_type'].astype(str).apply(lambda x: None if x.strip()=='' else x)\n",
    "data['body_type'] = data['body_type'].apply(lambda x: x.split(' ')[0].lower())"
   ]
  },
  {
   "cell_type": "code",
   "execution_count": 179,
   "metadata": {
    "execution": {
     "iopub.execute_input": "2021-06-10T14:11:41.552827Z",
     "iopub.status.busy": "2021-06-10T14:11:41.552237Z",
     "iopub.status.idle": "2021-06-10T14:11:41.607729Z",
     "shell.execute_reply": "2021-06-10T14:11:41.606542Z",
     "shell.execute_reply.started": "2021-06-10T14:11:41.552776Z"
    }
   },
   "outputs": [
    {
     "data": {
      "text/plain": [
       "внедорожник      53435\n",
       "седан            52698\n",
       "хэтчбек          10143\n",
       "лифтбек           8496\n",
       "универсал         4851\n",
       "минивэн           3712\n",
       "купе              2910\n",
       "компактвэн        1768\n",
       "пикап             1207\n",
       "купе-хардтоп       646\n",
       "фургон             366\n",
       "родстер            330\n",
       "кабриолет          256\n",
       "седан-хардтоп       43\n",
       "микровэн            26\n",
       "лимузин             12\n",
       "тарга                6\n",
       "nan                  1\n",
       "фастбек              1\n",
       "Name: body_type, dtype: int64"
      ]
     },
     "execution_count": 179,
     "metadata": {},
     "output_type": "execute_result"
    }
   ],
   "source": [
    "data['body_type'].value_counts()"
   ]
  },
  {
   "cell_type": "code",
   "execution_count": 180,
   "metadata": {
    "execution": {
     "iopub.execute_input": "2021-06-10T14:11:42.028658Z",
     "iopub.status.busy": "2021-06-10T14:11:42.02674Z",
     "iopub.status.idle": "2021-06-10T14:11:42.152708Z",
     "shell.execute_reply": "2021-06-10T14:11:42.151851Z",
     "shell.execute_reply.started": "2021-06-10T14:11:42.028608Z"
    }
   },
   "outputs": [
    {
     "data": {
      "text/html": [
       "<div>\n",
       "<style scoped>\n",
       "    .dataframe tbody tr th:only-of-type {\n",
       "        vertical-align: middle;\n",
       "    }\n",
       "\n",
       "    .dataframe tbody tr th {\n",
       "        vertical-align: top;\n",
       "    }\n",
       "\n",
       "    .dataframe thead th {\n",
       "        text-align: right;\n",
       "    }\n",
       "</style>\n",
       "<table border=\"1\" class=\"dataframe\">\n",
       "  <thead>\n",
       "    <tr style=\"text-align: right;\">\n",
       "      <th></th>\n",
       "      <th>sell_id</th>\n",
       "      <th>body_type</th>\n",
       "      <th>brand</th>\n",
       "      <th>color</th>\n",
       "      <th>fuel_type</th>\n",
       "      <th>model_date</th>\n",
       "      <th>name</th>\n",
       "      <th>number_of_doors</th>\n",
       "      <th>production_date</th>\n",
       "      <th>vehicle_configuration</th>\n",
       "      <th>...</th>\n",
       "      <th>description</th>\n",
       "      <th>mileage</th>\n",
       "      <th>type_of_drive</th>\n",
       "      <th>steering_wheel</th>\n",
       "      <th>owners_qty</th>\n",
       "      <th>licence</th>\n",
       "      <th>customs</th>\n",
       "      <th>ownership_time</th>\n",
       "      <th>price</th>\n",
       "      <th>sample</th>\n",
       "    </tr>\n",
       "  </thead>\n",
       "  <tbody>\n",
       "    <tr>\n",
       "      <th>104296</th>\n",
       "      <td>NaN</td>\n",
       "      <td>nan</td>\n",
       "      <td>MITSUBISHI</td>\n",
       "      <td>CACECB</td>\n",
       "      <td>внедорожник</td>\n",
       "      <td>NaN</td>\n",
       "      <td>NaN</td>\n",
       "      <td>NaN</td>\n",
       "      <td>2004</td>\n",
       "      <td>NaN</td>\n",
       "      <td>...</td>\n",
       "      <td>Покупали автомобиль с пробегом 170 000 км у оф...</td>\n",
       "      <td>201000</td>\n",
       "      <td>NaN</td>\n",
       "      <td>LEFT</td>\n",
       "      <td>2</td>\n",
       "      <td>ORIGINAL</td>\n",
       "      <td>True</td>\n",
       "      <td>{'year': 2015, 'month': 10}</td>\n",
       "      <td>545000.0</td>\n",
       "      <td>1</td>\n",
       "    </tr>\n",
       "  </tbody>\n",
       "</table>\n",
       "<p>1 rows × 22 columns</p>\n",
       "</div>"
      ],
      "text/plain": [
       "        sell_id body_type       brand   color    fuel_type  model_date name  \\\n",
       "104296      NaN       nan  MITSUBISHI  CACECB  внедорожник         NaN  NaN   \n",
       "\n",
       "        number_of_doors  production_date vehicle_configuration  ...  \\\n",
       "104296              NaN             2004                   NaN  ...   \n",
       "\n",
       "                                              description mileage  \\\n",
       "104296  Покупали автомобиль с пробегом 170 000 км у оф...  201000   \n",
       "\n",
       "       type_of_drive  steering_wheel owners_qty   licence customs  \\\n",
       "104296           NaN            LEFT          2  ORIGINAL    True   \n",
       "\n",
       "                     ownership_time     price sample  \n",
       "104296  {'year': 2015, 'month': 10}  545000.0      1  \n",
       "\n",
       "[1 rows x 22 columns]"
      ]
     },
     "execution_count": 180,
     "metadata": {},
     "output_type": "execute_result"
    }
   ],
   "source": [
    "# Посмотрим на пропуск:\n",
    "data[data['body_type'] == 'nan']"
   ]
  },
  {
   "cell_type": "code",
   "execution_count": 181,
   "metadata": {
    "execution": {
     "iopub.execute_input": "2021-06-10T14:11:42.263405Z",
     "iopub.status.busy": "2021-06-10T14:11:42.263059Z",
     "iopub.status.idle": "2021-06-10T14:11:42.317494Z",
     "shell.execute_reply": "2021-06-10T14:11:42.316526Z",
     "shell.execute_reply.started": "2021-06-10T14:11:42.263375Z"
    }
   },
   "outputs": [],
   "source": [
    "# Удалим его:\n",
    "data = data.loc[data['body_type'] != 'nan']"
   ]
  },
  {
   "cell_type": "code",
   "execution_count": 182,
   "metadata": {
    "execution": {
     "iopub.execute_input": "2021-06-10T14:11:42.319369Z",
     "iopub.status.busy": "2021-06-10T14:11:42.319093Z",
     "iopub.status.idle": "2021-06-10T14:11:42.338745Z",
     "shell.execute_reply": "2021-06-10T14:11:42.337838Z",
     "shell.execute_reply.started": "2021-06-10T14:11:42.319342Z"
    }
   },
   "outputs": [
    {
     "data": {
      "text/plain": [
       "0"
      ]
     },
     "execution_count": 182,
     "metadata": {},
     "output_type": "execute_result"
    }
   ],
   "source": [
    "data['body_type'].isna().sum()"
   ]
  },
  {
   "cell_type": "code",
   "execution_count": 183,
   "metadata": {
    "execution": {
     "iopub.execute_input": "2021-06-10T14:11:42.340369Z",
     "iopub.status.busy": "2021-06-10T14:11:42.340081Z",
     "iopub.status.idle": "2021-06-10T14:11:42.377757Z",
     "shell.execute_reply": "2021-06-10T14:11:42.376838Z",
     "shell.execute_reply.started": "2021-06-10T14:11:42.340341Z"
    }
   },
   "outputs": [],
   "source": [
    "# Унифицируем названия кузовов:\n",
    "body_type_dict = {'внедорожник':'SUV', \n",
    "                  'седан':'sedan',\n",
    "                  'хэтчбек':'hatchback',\n",
    "                  'лифтбек':'liftback',\n",
    "                  'универсал':'station_wagon',\n",
    "                  'минивэн':'minivan',\n",
    "                  'купе':'coupe',\n",
    "                  'компактвэн':'compact_van',\n",
    "                  'пикап':'pickup',\n",
    "                  'купе-хардтоп':'coupe_hardtop',\n",
    "                  'фургон':'van',\n",
    "                  'родстер':'roadster',\n",
    "                  'кабриолет':'cabriolet',\n",
    "                  'седан-хардтоп':'sedan_hardtop',\n",
    "                  'микровэн':'microvan',\n",
    "                  'лимузин':'limousine',\n",
    "                  'тарга':'targa', \n",
    "                  'фастбек':'fastback'\n",
    "             }\n",
    "data['body_type'] = data['body_type'].map(body_type_dict)"
   ]
  },
  {
   "cell_type": "code",
   "execution_count": 184,
   "metadata": {
    "execution": {
     "iopub.execute_input": "2021-06-10T14:11:42.487898Z",
     "iopub.status.busy": "2021-06-10T14:11:42.487348Z",
     "iopub.status.idle": "2021-06-10T14:11:42.917042Z",
     "shell.execute_reply": "2021-06-10T14:11:42.916274Z",
     "shell.execute_reply.started": "2021-06-10T14:11:42.487864Z"
    }
   },
   "outputs": [
    {
     "data": {
      "text/plain": [
       "<matplotlib.axes._subplots.AxesSubplot at 0x7feadea90d30>"
      ]
     },
     "execution_count": 184,
     "metadata": {},
     "output_type": "execute_result"
    },
    {
     "data": {
      "image/png": "[encoded data removed]",
      "text/plain": [
       "<Figure size 432x288 with 1 Axes>"
      ]
     },
     "metadata": {
      "needs_background": "light"
     },
     "output_type": "display_data"
    }
   ],
   "source": [
    "sns.countplot(y = data['body_type'], data = data)"
   ]
  },
  {
   "cell_type": "markdown",
   "metadata": {},
   "source": [
    "Самые популярные кузовы - внедорожник и седан."
   ]
  },
  {
   "cell_type": "code",
   "execution_count": 185,
   "metadata": {
    "execution": {
     "iopub.execute_input": "2021-06-10T14:11:42.918785Z",
     "iopub.status.busy": "2021-06-10T14:11:42.91835Z",
     "iopub.status.idle": "2021-06-10T14:11:42.921981Z",
     "shell.execute_reply": "2021-06-10T14:11:42.921298Z",
     "shell.execute_reply.started": "2021-06-10T14:11:42.918752Z"
    }
   },
   "outputs": [],
   "source": [
    "cat_cols.append('body_type')"
   ]
  },
  {
   "cell_type": "markdown",
   "metadata": {},
   "source": [
    "## 3. brand"
   ]
  },
  {
   "cell_type": "code",
   "execution_count": 186,
   "metadata": {
    "execution": {
     "iopub.execute_input": "2021-06-10T14:11:42.923311Z",
     "iopub.status.busy": "2021-06-10T14:11:42.922945Z",
     "iopub.status.idle": "2021-06-10T14:11:43.361614Z",
     "shell.execute_reply": "2021-06-10T14:11:43.360478Z",
     "shell.execute_reply.started": "2021-06-10T14:11:42.923283Z"
    }
   },
   "outputs": [
    {
     "data": {
      "text/plain": [
       "<matplotlib.axes._subplots.AxesSubplot at 0x7feaa741ea00>"
      ]
     },
     "execution_count": 186,
     "metadata": {},
     "output_type": "execute_result"
    },
    {
     "data": {
      "image/png": "[encoded data removed]",
      "text/plain": [
       "<Figure size 432x288 with 1 Axes>"
      ]
     },
     "metadata": {
      "needs_background": "light"
     },
     "output_type": "display_data"
    }
   ],
   "source": [
    "sns.countplot(y = data['brand'], data = data)"
   ]
  },
  {
   "cell_type": "code",
   "execution_count": 187,
   "metadata": {
    "execution": {
     "iopub.execute_input": "2021-06-10T14:11:43.364065Z",
     "iopub.status.busy": "2021-06-10T14:11:43.363749Z",
     "iopub.status.idle": "2021-06-10T14:11:43.402807Z",
     "shell.execute_reply": "2021-06-10T14:11:43.402033Z",
     "shell.execute_reply.started": "2021-06-10T14:11:43.364036Z"
    }
   },
   "outputs": [
    {
     "data": {
      "text/plain": [
       "MERCEDES      19119\n",
       "VOLKSWAGEN    19044\n",
       "BMW           18649\n",
       "NISSAN        18050\n",
       "TOYOTA        15708\n",
       "AUDI          12318\n",
       "MITSUBISHI    10663\n",
       "SKODA         10147\n",
       "VOLVO          5497\n",
       "HONDA          4722\n",
       "LEXUS          3590\n",
       "INFINITI       3399\n",
       "Name: brand, dtype: int64"
      ]
     },
     "execution_count": 187,
     "metadata": {},
     "output_type": "execute_result"
    }
   ],
   "source": [
    "data['brand'].value_counts()"
   ]
  },
  {
   "cell_type": "code",
   "execution_count": 188,
   "metadata": {
    "execution": {
     "iopub.execute_input": "2021-06-10T14:11:43.404265Z",
     "iopub.status.busy": "2021-06-10T14:11:43.403891Z",
     "iopub.status.idle": "2021-06-10T14:11:43.408489Z",
     "shell.execute_reply": "2021-06-10T14:11:43.407257Z",
     "shell.execute_reply.started": "2021-06-10T14:11:43.404237Z"
    }
   },
   "outputs": [],
   "source": [
    "cat_cols.append('brand')"
   ]
  },
  {
   "cell_type": "markdown",
   "metadata": {},
   "source": [
    "## 4. color"
   ]
  },
  {
   "cell_type": "code",
   "execution_count": 189,
   "metadata": {
    "execution": {
     "iopub.execute_input": "2021-06-10T14:11:43.528368Z",
     "iopub.status.busy": "2021-06-10T14:11:43.527991Z",
     "iopub.status.idle": "2021-06-10T14:11:43.570135Z",
     "shell.execute_reply": "2021-06-10T14:11:43.569023Z",
     "shell.execute_reply.started": "2021-06-10T14:11:43.528334Z"
    }
   },
   "outputs": [
    {
     "data": {
      "text/plain": [
       "040001         34557\n",
       "FAFBFB         19271\n",
       "CACECB         12325\n",
       "97948F         12237\n",
       "чёрный         11010\n",
       "0000CC          9569\n",
       "белый           6133\n",
       "200204          5420\n",
       "EE1D19          4167\n",
       "серебристый     4113\n",
       "серый           3984\n",
       "синий           3289\n",
       "007F00          2282\n",
       "C49648          1991\n",
       "красный         1531\n",
       "коричневый      1501\n",
       "22A0F8          1191\n",
       "зелёный          952\n",
       "660099           838\n",
       "DEA522           809\n",
       "4A2197           649\n",
       "бежевый          639\n",
       "FFD600           533\n",
       "голубой          457\n",
       "FF8649           367\n",
       "золотистый       266\n",
       "пурпурный        254\n",
       "фиолетовый       219\n",
       "жёлтый           194\n",
       "оранжевый        131\n",
       "FFC0CB            14\n",
       "розовый           13\n",
       "Name: color, dtype: int64"
      ]
     },
     "execution_count": 189,
     "metadata": {},
     "output_type": "execute_result"
    }
   ],
   "source": [
    "data.color.value_counts()"
   ]
  },
  {
   "cell_type": "code",
   "execution_count": 190,
   "metadata": {
    "execution": {
     "iopub.execute_input": "2021-06-10T14:11:43.907621Z",
     "iopub.status.busy": "2021-06-10T14:11:43.907104Z",
     "iopub.status.idle": "2021-06-10T14:11:43.937309Z",
     "shell.execute_reply": "2021-06-10T14:11:43.936462Z",
     "shell.execute_reply.started": "2021-06-10T14:11:43.907588Z"
    }
   },
   "outputs": [],
   "source": [
    "# Унифицируем названия цветов:\n",
    "color_dict = {'040001':'black', \n",
    "              'FAFBFB':'white',\n",
    "              'CACECB':'silver',\n",
    "              '97948F':'grey',\n",
    "              'чёрный':'black',\n",
    "              '0000CC':'blue',\n",
    "              'белый':'white',\n",
    "              '200204':'brown',\n",
    "              'EE1D19':'red',\n",
    "              'серебристый':'silver',\n",
    "              'серый':'grey',\n",
    "              'синий':'blue',\n",
    "              '007F00':'green',\n",
    "              'C49648':'beige',\n",
    "              'красный':'red', \n",
    "              'коричневый':'brown',\n",
    "              '22A0F8':'light_blue',\n",
    "              'зелёный':'green',\n",
    "              '660099':'purple',\n",
    "              'DEA522':'gold',\n",
    "              '4A2197':'violet',\n",
    "              'бежевый':'beige',\n",
    "              'FFD600':'yellow',\n",
    "              'голубой':'light_blue',\n",
    "              'FF8649':'orange',\n",
    "              'золотистый':'gold',\n",
    "              'пурпурный':'purple',\n",
    "              'фиолетовый':'violet',\n",
    "              'жёлтый':'yellow',\n",
    "              'оранжевый':'orange',\n",
    "              'FFC0CB':'pink',\n",
    "              'розовый':'pink'\n",
    "             }\n",
    "data['color'] = data['color'].map(color_dict)"
   ]
  },
  {
   "cell_type": "code",
   "execution_count": 191,
   "metadata": {
    "execution": {
     "iopub.execute_input": "2021-06-10T14:11:43.93921Z",
     "iopub.status.busy": "2021-06-10T14:11:43.938778Z",
     "iopub.status.idle": "2021-06-10T14:11:44.384729Z",
     "shell.execute_reply": "2021-06-10T14:11:44.383763Z",
     "shell.execute_reply.started": "2021-06-10T14:11:43.939166Z"
    }
   },
   "outputs": [
    {
     "data": {
      "text/plain": [
       "<matplotlib.axes._subplots.AxesSubplot at 0x7feaa741a310>"
      ]
     },
     "execution_count": 191,
     "metadata": {},
     "output_type": "execute_result"
    },
    {
     "data": {
      "image/png": "[encoded data removed]",
      "text/plain": [
       "<Figure size 432x288 with 1 Axes>"
      ]
     },
     "metadata": {
      "needs_background": "light"
     },
     "output_type": "display_data"
    }
   ],
   "source": [
    "sns.countplot(y = data['color'], data = data)"
   ]
  },
  {
   "cell_type": "markdown",
   "metadata": {},
   "source": [
    "Самый популярные цвета среди автомобилей - чёрный и белый, а самый редкий - розовый."
   ]
  },
  {
   "cell_type": "code",
   "execution_count": 192,
   "metadata": {
    "execution": {
     "iopub.execute_input": "2021-06-10T14:11:44.387062Z",
     "iopub.status.busy": "2021-06-10T14:11:44.386756Z",
     "iopub.status.idle": "2021-06-10T14:11:44.391365Z",
     "shell.execute_reply": "2021-06-10T14:11:44.390332Z",
     "shell.execute_reply.started": "2021-06-10T14:11:44.387033Z"
    }
   },
   "outputs": [],
   "source": [
    "cat_cols.append('color')"
   ]
  },
  {
   "cell_type": "markdown",
   "metadata": {},
   "source": [
    "## 5. fuel_type"
   ]
  },
  {
   "cell_type": "code",
   "execution_count": 193,
   "metadata": {
    "execution": {
     "iopub.execute_input": "2021-06-10T14:11:44.550924Z",
     "iopub.status.busy": "2021-06-10T14:11:44.550262Z",
     "iopub.status.idle": "2021-06-10T14:11:44.591699Z",
     "shell.execute_reply": "2021-06-10T14:11:44.590553Z",
     "shell.execute_reply.started": "2021-06-10T14:11:44.550872Z"
    }
   },
   "outputs": [
    {
     "data": {
      "text/plain": [
       "бензин     115414\n",
       "дизель      24512\n",
       "гибрид        834\n",
       "электро       111\n",
       "газ            35\n",
       "Name: fuel_type, dtype: int64"
      ]
     },
     "execution_count": 193,
     "metadata": {},
     "output_type": "execute_result"
    }
   ],
   "source": [
    "data['fuel_type'].value_counts()"
   ]
  },
  {
   "cell_type": "code",
   "execution_count": 194,
   "metadata": {
    "execution": {
     "iopub.execute_input": "2021-06-10T14:11:44.842804Z",
     "iopub.status.busy": "2021-06-10T14:11:44.842136Z",
     "iopub.status.idle": "2021-06-10T14:11:44.871675Z",
     "shell.execute_reply": "2021-06-10T14:11:44.870659Z",
     "shell.execute_reply.started": "2021-06-10T14:11:44.842741Z"
    }
   },
   "outputs": [],
   "source": [
    "# Унифицируем названия топлива:\n",
    "fuel_type_dict = {'бензин':'petrol', \n",
    "                  'дизель':'diesel',\n",
    "                  'гибрид':'hybrid',\n",
    "                  'электро':'electro',\n",
    "                  'газ':'gas'\n",
    "             }\n",
    "data['fuel_type'] = data['fuel_type'].map(fuel_type_dict)"
   ]
  },
  {
   "cell_type": "code",
   "execution_count": 195,
   "metadata": {
    "execution": {
     "iopub.execute_input": "2021-06-10T14:11:44.874175Z",
     "iopub.status.busy": "2021-06-10T14:11:44.873571Z",
     "iopub.status.idle": "2021-06-10T14:11:45.28291Z",
     "shell.execute_reply": "2021-06-10T14:11:45.281867Z",
     "shell.execute_reply.started": "2021-06-10T14:11:44.874126Z"
    }
   },
   "outputs": [
    {
     "data": {
      "text/plain": [
       "<matplotlib.axes._subplots.AxesSubplot at 0x7feaab44d820>"
      ]
     },
     "execution_count": 195,
     "metadata": {},
     "output_type": "execute_result"
    },
    {
     "data": {
      "image/png": "[encoded data removed]",
      "text/plain": [
       "<Figure size 432x288 with 1 Axes>"
      ]
     },
     "metadata": {
      "needs_background": "light"
     },
     "output_type": "display_data"
    }
   ],
   "source": [
    "sns.countplot(y = data['fuel_type'], data = data)"
   ]
  },
  {
   "cell_type": "markdown",
   "metadata": {},
   "source": [
    "Гибридные, газовые и электромобили в самом начале развития своего спроса. "
   ]
  },
  {
   "cell_type": "code",
   "execution_count": 196,
   "metadata": {
    "execution": {
     "iopub.execute_input": "2021-06-10T14:11:45.285709Z",
     "iopub.status.busy": "2021-06-10T14:11:45.285257Z",
     "iopub.status.idle": "2021-06-10T14:11:45.290383Z",
     "shell.execute_reply": "2021-06-10T14:11:45.289486Z",
     "shell.execute_reply.started": "2021-06-10T14:11:45.285662Z"
    }
   },
   "outputs": [],
   "source": [
    "cat_cols.append('fuel_type')"
   ]
  },
  {
   "cell_type": "markdown",
   "metadata": {},
   "source": [
    "## 6. model_date / production_date"
   ]
  },
  {
   "cell_type": "code",
   "execution_count": 197,
   "metadata": {
    "execution": {
     "iopub.execute_input": "2021-06-10T14:11:45.516235Z",
     "iopub.status.busy": "2021-06-10T14:11:45.515884Z",
     "iopub.status.idle": "2021-06-10T14:11:45.527596Z",
     "shell.execute_reply": "2021-06-10T14:11:45.526399Z",
     "shell.execute_reply.started": "2021-06-10T14:11:45.516205Z"
    }
   },
   "outputs": [
    {
     "data": {
      "text/plain": [
       "2010.0    11304\n",
       "2013.0    10345\n",
       "2011.0    10151\n",
       "2012.0     9675\n",
       "2009.0     9439\n",
       "          ...  \n",
       "1950.0        1\n",
       "1954.0        1\n",
       "1967.0        1\n",
       "1961.0        1\n",
       "1953.0        1\n",
       "Name: model_date, Length: 72, dtype: int64"
      ]
     },
     "execution_count": 197,
     "metadata": {},
     "output_type": "execute_result"
    }
   ],
   "source": [
    "data['model_date'].value_counts()"
   ]
  },
  {
   "cell_type": "code",
   "execution_count": 198,
   "metadata": {
    "execution": {
     "iopub.execute_input": "2021-06-10T14:11:45.867367Z",
     "iopub.status.busy": "2021-06-10T14:11:45.866995Z",
     "iopub.status.idle": "2021-06-10T14:11:45.878598Z",
     "shell.execute_reply": "2021-06-10T14:11:45.877317Z",
     "shell.execute_reply.started": "2021-06-10T14:11:45.867335Z"
    }
   },
   "outputs": [
    {
     "data": {
      "text/plain": [
       "2012    12889\n",
       "2013    11724\n",
       "2011    11445\n",
       "2008    10914\n",
       "2014    10111\n",
       "        ...  \n",
       "1954        1\n",
       "1947        1\n",
       "1974        1\n",
       "1936        1\n",
       "1934        1\n",
       "Name: production_date, Length: 75, dtype: int64"
      ]
     },
     "execution_count": 198,
     "metadata": {},
     "output_type": "execute_result"
    }
   ],
   "source": [
    "data['production_date'].value_counts()"
   ]
  },
  {
   "cell_type": "code",
   "execution_count": 199,
   "metadata": {
    "execution": {
     "iopub.execute_input": "2021-06-10T14:11:45.898802Z",
     "iopub.status.busy": "2021-06-10T14:11:45.898328Z",
     "iopub.status.idle": "2021-06-10T14:11:45.909178Z",
     "shell.execute_reply": "2021-06-10T14:11:45.908061Z",
     "shell.execute_reply.started": "2021-06-10T14:11:45.898766Z"
    }
   },
   "outputs": [],
   "source": [
    "# Приведём данные с годами к более удобному формату - вычислим возраст автомобиля:\n",
    "data['model_date'] = data['model_date'].astype('int')\n",
    "\n",
    "data['model_date'] = 2020 - data['model_date'] # возраст модели \n",
    "data['production_date'] = 2020 - data['production_date'] # возраст самого автомобиля"
   ]
  },
  {
   "cell_type": "code",
   "execution_count": 200,
   "metadata": {
    "execution": {
     "iopub.execute_input": "2021-06-10T14:11:46.383528Z",
     "iopub.status.busy": "2021-06-10T14:11:46.383135Z",
     "iopub.status.idle": "2021-06-10T14:11:46.960597Z",
     "shell.execute_reply": "2021-06-10T14:11:46.959529Z",
     "shell.execute_reply.started": "2021-06-10T14:11:46.383495Z"
    }
   },
   "outputs": [
    {
     "data": {
      "image/png": "[encoded data removed]",
      "text/plain": [
       "<Figure size 1152x432 with 1 Axes>"
      ]
     },
     "metadata": {
      "needs_background": "light"
     },
     "output_type": "display_data"
    },
    {
     "data": {
      "image/png": "[encoded data removed]",
      "text/plain": [
       "<Figure size 432x288 with 1 Axes>"
      ]
     },
     "metadata": {
      "needs_background": "light"
     },
     "output_type": "display_data"
    }
   ],
   "source": [
    "# Посмотрим на распределение признака model_date:\n",
    "plt.figure(figsize=(16,6))\n",
    "visualizing_number(data['model_date'])"
   ]
  },
  {
   "cell_type": "code",
   "execution_count": 201,
   "metadata": {
    "execution": {
     "iopub.execute_input": "2021-06-10T14:11:46.9628Z",
     "iopub.status.busy": "2021-06-10T14:11:46.962502Z",
     "iopub.status.idle": "2021-06-10T14:11:46.976545Z",
     "shell.execute_reply": "2021-06-10T14:11:46.975706Z",
     "shell.execute_reply.started": "2021-06-10T14:11:46.962773Z"
    }
   },
   "outputs": [
    {
     "data": {
      "text/plain": [
       "(6973, -2.5, 25.5)"
      ]
     },
     "execution_count": 201,
     "metadata": {},
     "output_type": "execute_result"
    }
   ],
   "source": [
    "# Проверим наличие выбросов по интеквартильному методу для model_date:\n",
    "get_outliers(data['model_date'])"
   ]
  },
  {
   "cell_type": "markdown",
   "metadata": {},
   "source": [
    "Распределение model_date неравномерное и смещено влево. По интеквартильному методу в признаке 6973 выброса, а границы [-2.5, 25.5]. Рассуждаем здраво и понимаем, что минимальный возраст для автомобиля - 0 лет, а максимальный может превышать 25.5 лет. Предполагаем, что выбросов нет."
   ]
  },
  {
   "cell_type": "code",
   "execution_count": 202,
   "metadata": {
    "execution": {
     "iopub.execute_input": "2021-06-10T14:11:46.978006Z",
     "iopub.status.busy": "2021-06-10T14:11:46.977727Z",
     "iopub.status.idle": "2021-06-10T14:11:47.547437Z",
     "shell.execute_reply": "2021-06-10T14:11:47.546283Z",
     "shell.execute_reply.started": "2021-06-10T14:11:46.977979Z"
    }
   },
   "outputs": [
    {
     "data": {
      "image/png": "[encoded data removed]",
      "text/plain": [
       "<Figure size 1152x432 with 1 Axes>"
      ]
     },
     "metadata": {
      "needs_background": "light"
     },
     "output_type": "display_data"
    },
    {
     "data": {
      "image/png": "[encoded data removed]",
      "text/plain": [
       "<Figure size 432x288 with 1 Axes>"
      ]
     },
     "metadata": {
      "needs_background": "light"
     },
     "output_type": "display_data"
    }
   ],
   "source": [
    "# Посмотрим на распределение признака production_date:\n",
    "plt.figure(figsize=(16,6))\n",
    "visualizing_number(data['production_date'])"
   ]
  },
  {
   "cell_type": "code",
   "execution_count": 203,
   "metadata": {
    "execution": {
     "iopub.execute_input": "2021-06-10T14:11:47.549365Z",
     "iopub.status.busy": "2021-06-10T14:11:47.548992Z",
     "iopub.status.idle": "2021-06-10T14:11:47.565612Z",
     "shell.execute_reply": "2021-06-10T14:11:47.564561Z",
     "shell.execute_reply.started": "2021-06-10T14:11:47.549333Z"
    }
   },
   "outputs": [
    {
     "data": {
      "text/plain": [
       "(6086, -4.5, 23.5)"
      ]
     },
     "execution_count": 203,
     "metadata": {},
     "output_type": "execute_result"
    }
   ],
   "source": [
    "# Проверим наличие выбросов по интеквартильному методу для model_date:\n",
    "get_outliers(data['production_date'])"
   ]
  },
  {
   "cell_type": "markdown",
   "metadata": {},
   "source": [
    "Распределение production_date неравномерное и смещено влево. По интеквартильному методу в признаке 6085 выброса, а границы [-4.5, 23.5]. Рассуждаем здраво и понимаем, что минимальный возраст для автомобиля - 0 лет, а максимальный может превышать 23.5 лет. Предполагаем, что выбросов нет."
   ]
  },
  {
   "cell_type": "code",
   "execution_count": 204,
   "metadata": {
    "execution": {
     "iopub.execute_input": "2021-06-10T14:11:47.567667Z",
     "iopub.status.busy": "2021-06-10T14:11:47.567356Z",
     "iopub.status.idle": "2021-06-10T14:11:47.573609Z",
     "shell.execute_reply": "2021-06-10T14:11:47.572591Z",
     "shell.execute_reply.started": "2021-06-10T14:11:47.567639Z"
    }
   },
   "outputs": [],
   "source": [
    "# Скорректируем названия признаков:\n",
    "data.rename(columns={'model_date': 'model_age', \n",
    "                     'production_date': 'car_age'\n",
    "                    }, inplace=True)"
   ]
  },
  {
   "cell_type": "code",
   "execution_count": 205,
   "metadata": {
    "execution": {
     "iopub.execute_input": "2021-06-10T14:11:47.575566Z",
     "iopub.status.busy": "2021-06-10T14:11:47.575232Z",
     "iopub.status.idle": "2021-06-10T14:11:47.585221Z",
     "shell.execute_reply": "2021-06-10T14:11:47.584131Z",
     "shell.execute_reply.started": "2021-06-10T14:11:47.575534Z"
    }
   },
   "outputs": [],
   "source": [
    "num_cols.append('model_age')\n",
    "num_cols.append('car_age')"
   ]
  },
  {
   "cell_type": "markdown",
   "metadata": {
    "execution": {
     "iopub.execute_input": "2021-06-08T13:35:58.590351Z",
     "iopub.status.busy": "2021-06-08T13:35:58.590005Z",
     "iopub.status.idle": "2021-06-08T13:35:58.594159Z",
     "shell.execute_reply": "2021-06-08T13:35:58.593262Z",
     "shell.execute_reply.started": "2021-06-08T13:35:58.590322Z"
    }
   },
   "source": [
    "## 7. name (transmission)"
   ]
  },
  {
   "cell_type": "code",
   "execution_count": 206,
   "metadata": {
    "execution": {
     "iopub.execute_input": "2021-06-10T14:11:47.688277Z",
     "iopub.status.busy": "2021-06-10T14:11:47.687891Z",
     "iopub.status.idle": "2021-06-10T14:11:47.698189Z",
     "shell.execute_reply": "2021-06-10T14:11:47.697246Z",
     "shell.execute_reply.started": "2021-06-10T14:11:47.688237Z"
    }
   },
   "outputs": [
    {
     "data": {
      "text/plain": [
       "0             1.2 AMT (105 л.с.)\n",
       "1              1.6 MT (110 л.с.)\n",
       "2         DSG 1.8 AMT (152 л.с.)\n",
       "3              1.6 AT (110 л.с.)\n",
       "4              1.8 AT (152 л.с.)\n",
       "                   ...          \n",
       "140902    2.4d AT (185 л.с.) 4WD\n",
       "140903     2.5 AT (210 л.с.) 4WD\n",
       "140904    2.4d AT (200 л.с.) 4WD\n",
       "140905    2.4d AT (185 л.с.) 4WD\n",
       "140906    2.4d AT (200 л.с.) 4WD\n",
       "Name: name, Length: 140906, dtype: object"
      ]
     },
     "execution_count": 206,
     "metadata": {},
     "output_type": "execute_result"
    }
   ],
   "source": [
    "# Посмотрим на признак:\n",
    "data['name']"
   ]
  },
  {
   "cell_type": "markdown",
   "metadata": {},
   "source": [
    "Разберём формат записи: 2.4d AT (200 л.с.) 4WD:\n",
    "- 2.4d - объём двигателя, у нас есть отдельный признак **engine_volume**,\n",
    "- AT - **тип трансмиссии**, как упомянули выше, этот признак логически ценен, будем извлекать его,\n",
    "- 200 л.с. - мощность двигателя, у нас есть отдельный признак **engine_power**,\n",
    "- 4WD - обозначает полный привод трансмиссии, у нас есть отдельный признак **type_of_drive**."
   ]
  },
  {
   "cell_type": "code",
   "execution_count": 207,
   "metadata": {
    "execution": {
     "iopub.execute_input": "2021-06-10T14:11:48.063152Z",
     "iopub.status.busy": "2021-06-10T14:11:48.062772Z",
     "iopub.status.idle": "2021-06-10T14:11:48.112651Z",
     "shell.execute_reply": "2021-06-10T14:11:48.111358Z",
     "shell.execute_reply.started": "2021-06-10T14:11:48.063119Z"
    }
   },
   "outputs": [],
   "source": [
    "# Приведём признак name к строковому типу:\n",
    "data['name'] = data['name'].astype(str)"
   ]
  },
  {
   "cell_type": "code",
   "execution_count": 208,
   "metadata": {
    "execution": {
     "iopub.execute_input": "2021-06-10T14:11:48.255526Z",
     "iopub.status.busy": "2021-06-10T14:11:48.255135Z",
     "iopub.status.idle": "2021-06-10T14:11:48.620178Z",
     "shell.execute_reply": "2021-06-10T14:11:48.618993Z",
     "shell.execute_reply.started": "2021-06-10T14:11:48.25549Z"
    }
   },
   "outputs": [],
   "source": [
    "# Создадим новый признак transmission на базе данных из name (используем regex):\n",
    "data['transmission'] = data['name'].str.extract('([A][T]|[M][T]|[A][M][T]|[C][V][T])',\n",
    "                                                expand=False).str.strip()"
   ]
  },
  {
   "cell_type": "code",
   "execution_count": 209,
   "metadata": {
    "execution": {
     "iopub.execute_input": "2021-06-10T14:11:48.62251Z",
     "iopub.status.busy": "2021-06-10T14:11:48.622109Z",
     "iopub.status.idle": "2021-06-10T14:11:48.668925Z",
     "shell.execute_reply": "2021-06-10T14:11:48.667985Z",
     "shell.execute_reply.started": "2021-06-10T14:11:48.622475Z"
    }
   },
   "outputs": [
    {
     "data": {
      "text/plain": [
       "AT     82754\n",
       "MT     25226\n",
       "CVT    17079\n",
       "AMT    15847\n",
       "Name: transmission, dtype: int64"
      ]
     },
     "execution_count": 209,
     "metadata": {},
     "output_type": "execute_result"
    }
   ],
   "source": [
    "data['transmission'].value_counts()"
   ]
  },
  {
   "cell_type": "markdown",
   "metadata": {
    "execution": {
     "iopub.execute_input": "2021-06-08T15:26:33.253849Z",
     "iopub.status.busy": "2021-06-08T15:26:33.253278Z",
     "iopub.status.idle": "2021-06-08T15:26:33.262507Z",
     "shell.execute_reply": "2021-06-08T15:26:33.261411Z",
     "shell.execute_reply.started": "2021-06-08T15:26:33.253797Z"
    }
   },
   "source": [
    "Типы трансмиссий:\n",
    "- AT - автоматическая коробка передач,\n",
    "- MT - механическая коробка передач,\n",
    "- AMT - автоматическая ручная коробка передач,\n",
    "- CVT - бесступенчатая трансмиссия."
   ]
  },
  {
   "cell_type": "code",
   "execution_count": 210,
   "metadata": {
    "execution": {
     "iopub.execute_input": "2021-06-10T14:11:48.908571Z",
     "iopub.status.busy": "2021-06-10T14:11:48.908188Z",
     "iopub.status.idle": "2021-06-10T14:11:49.178714Z",
     "shell.execute_reply": "2021-06-10T14:11:49.177621Z",
     "shell.execute_reply.started": "2021-06-10T14:11:48.908535Z"
    }
   },
   "outputs": [
    {
     "data": {
      "text/plain": [
       "<matplotlib.axes._subplots.AxesSubplot at 0x7feadb2f7d60>"
      ]
     },
     "execution_count": 210,
     "metadata": {},
     "output_type": "execute_result"
    },
    {
     "data": {
      "image/png": "[encoded data removed]",
      "text/plain": [
       "<Figure size 432x288 with 1 Axes>"
      ]
     },
     "metadata": {
      "needs_background": "light"
     },
     "output_type": "display_data"
    }
   ],
   "source": [
    "sns.countplot(x = data['transmission'], data = data)"
   ]
  },
  {
   "cell_type": "code",
   "execution_count": 211,
   "metadata": {
    "execution": {
     "iopub.execute_input": "2021-06-10T14:11:49.180644Z",
     "iopub.status.busy": "2021-06-10T14:11:49.18028Z",
     "iopub.status.idle": "2021-06-10T14:11:49.184864Z",
     "shell.execute_reply": "2021-06-10T14:11:49.184001Z",
     "shell.execute_reply.started": "2021-06-10T14:11:49.180613Z"
    }
   },
   "outputs": [],
   "source": [
    "cat_cols.append('transmission')"
   ]
  },
  {
   "cell_type": "code",
   "execution_count": 212,
   "metadata": {
    "execution": {
     "iopub.execute_input": "2021-06-10T14:11:49.212558Z",
     "iopub.status.busy": "2021-06-10T14:11:49.21215Z",
     "iopub.status.idle": "2021-06-10T14:11:49.281025Z",
     "shell.execute_reply": "2021-06-10T14:11:49.280105Z",
     "shell.execute_reply.started": "2021-06-10T14:11:49.212519Z"
    }
   },
   "outputs": [],
   "source": [
    "# Удалим признак name, он нам больше не понадобится:\n",
    "data = data.drop('name', 1)"
   ]
  },
  {
   "cell_type": "markdown",
   "metadata": {},
   "source": [
    "## 8. number_of_doors"
   ]
  },
  {
   "cell_type": "code",
   "execution_count": 213,
   "metadata": {
    "execution": {
     "iopub.execute_input": "2021-06-10T14:11:49.596184Z",
     "iopub.status.busy": "2021-06-10T14:11:49.595663Z",
     "iopub.status.idle": "2021-06-10T14:11:49.604886Z",
     "shell.execute_reply": "2021-06-10T14:11:49.603682Z",
     "shell.execute_reply.started": "2021-06-10T14:11:49.596152Z"
    }
   },
   "outputs": [],
   "source": [
    "# Приведём признак к числовому формату:\n",
    "data['number_of_doors'] = data['number_of_doors'].astype(int)"
   ]
  },
  {
   "cell_type": "code",
   "execution_count": 214,
   "metadata": {
    "execution": {
     "iopub.execute_input": "2021-06-10T14:11:49.845813Z",
     "iopub.status.busy": "2021-06-10T14:11:49.845459Z",
     "iopub.status.idle": "2021-06-10T14:11:49.854192Z",
     "shell.execute_reply": "2021-06-10T14:11:49.853366Z",
     "shell.execute_reply.started": "2021-06-10T14:11:49.845782Z"
    }
   },
   "outputs": [
    {
     "data": {
      "text/plain": [
       "5    77840\n",
       "4    56510\n",
       "2     4254\n",
       "3     2300\n",
       "0        2\n",
       "Name: number_of_doors, dtype: int64"
      ]
     },
     "execution_count": 214,
     "metadata": {},
     "output_type": "execute_result"
    }
   ],
   "source": [
    "# Посмотрим на значения признака:\n",
    "data['number_of_doors'].value_counts()"
   ]
  },
  {
   "cell_type": "code",
   "execution_count": 215,
   "metadata": {
    "execution": {
     "iopub.execute_input": "2021-06-10T14:11:49.94527Z",
     "iopub.status.busy": "2021-06-10T14:11:49.944648Z",
     "iopub.status.idle": "2021-06-10T14:11:49.975188Z",
     "shell.execute_reply": "2021-06-10T14:11:49.974499Z",
     "shell.execute_reply.started": "2021-06-10T14:11:49.945232Z"
    }
   },
   "outputs": [
    {
     "data": {
      "text/html": [
       "<div>\n",
       "<style scoped>\n",
       "    .dataframe tbody tr th:only-of-type {\n",
       "        vertical-align: middle;\n",
       "    }\n",
       "\n",
       "    .dataframe tbody tr th {\n",
       "        vertical-align: top;\n",
       "    }\n",
       "\n",
       "    .dataframe thead th {\n",
       "        text-align: right;\n",
       "    }\n",
       "</style>\n",
       "<table border=\"1\" class=\"dataframe\">\n",
       "  <thead>\n",
       "    <tr style=\"text-align: right;\">\n",
       "      <th></th>\n",
       "      <th>sell_id</th>\n",
       "      <th>body_type</th>\n",
       "      <th>brand</th>\n",
       "      <th>color</th>\n",
       "      <th>fuel_type</th>\n",
       "      <th>model_age</th>\n",
       "      <th>number_of_doors</th>\n",
       "      <th>car_age</th>\n",
       "      <th>vehicle_configuration</th>\n",
       "      <th>engine_volume</th>\n",
       "      <th>...</th>\n",
       "      <th>mileage</th>\n",
       "      <th>type_of_drive</th>\n",
       "      <th>steering_wheel</th>\n",
       "      <th>owners_qty</th>\n",
       "      <th>licence</th>\n",
       "      <th>customs</th>\n",
       "      <th>ownership_time</th>\n",
       "      <th>price</th>\n",
       "      <th>sample</th>\n",
       "      <th>transmission</th>\n",
       "    </tr>\n",
       "  </thead>\n",
       "  <tbody>\n",
       "    <tr>\n",
       "      <th>16944</th>\n",
       "      <td>1.093802e+09</td>\n",
       "      <td>cabriolet</td>\n",
       "      <td>MERCEDES</td>\n",
       "      <td>white</td>\n",
       "      <td>petrol</td>\n",
       "      <td>116</td>\n",
       "      <td>0</td>\n",
       "      <td>116</td>\n",
       "      <td>CABRIO MECHANICAL 5.3</td>\n",
       "      <td>5.3 LTR</td>\n",
       "      <td>...</td>\n",
       "      <td>48000</td>\n",
       "      <td>задний</td>\n",
       "      <td>Правый</td>\n",
       "      <td>1</td>\n",
       "      <td>Оригинал</td>\n",
       "      <td>Растаможен</td>\n",
       "      <td>6 лет и 8 месяцев</td>\n",
       "      <td>NaN</td>\n",
       "      <td>0</td>\n",
       "      <td>MT</td>\n",
       "    </tr>\n",
       "    <tr>\n",
       "      <th>58637</th>\n",
       "      <td>NaN</td>\n",
       "      <td>cabriolet</td>\n",
       "      <td>MERCEDES</td>\n",
       "      <td>white</td>\n",
       "      <td>petrol</td>\n",
       "      <td>116</td>\n",
       "      <td>0</td>\n",
       "      <td>116</td>\n",
       "      <td>MECHANICAL</td>\n",
       "      <td>5.3</td>\n",
       "      <td>...</td>\n",
       "      <td>48000</td>\n",
       "      <td>задний</td>\n",
       "      <td>RIGHT</td>\n",
       "      <td>1</td>\n",
       "      <td>ORIGINAL</td>\n",
       "      <td>True</td>\n",
       "      <td>{'year': 2014, 'month': 3}</td>\n",
       "      <td>12000000.0</td>\n",
       "      <td>1</td>\n",
       "      <td>MT</td>\n",
       "    </tr>\n",
       "  </tbody>\n",
       "</table>\n",
       "<p>2 rows × 22 columns</p>\n",
       "</div>"
      ],
      "text/plain": [
       "            sell_id  body_type     brand  color fuel_type  model_age  \\\n",
       "16944  1.093802e+09  cabriolet  MERCEDES  white    petrol        116   \n",
       "58637           NaN  cabriolet  MERCEDES  white    petrol        116   \n",
       "\n",
       "       number_of_doors  car_age  vehicle_configuration engine_volume  ...  \\\n",
       "16944                0      116  CABRIO MECHANICAL 5.3       5.3 LTR  ...   \n",
       "58637                0      116             MECHANICAL           5.3  ...   \n",
       "\n",
       "      mileage type_of_drive  steering_wheel owners_qty   licence     customs  \\\n",
       "16944   48000        задний          Правый          1  Оригинал  Растаможен   \n",
       "58637   48000        задний           RIGHT          1  ORIGINAL        True   \n",
       "\n",
       "                   ownership_time       price sample  transmission  \n",
       "16944           6 лет и 8 месяцев         NaN      0            MT  \n",
       "58637  {'year': 2014, 'month': 3}  12000000.0      1            MT  \n",
       "\n",
       "[2 rows x 22 columns]"
      ]
     },
     "execution_count": 215,
     "metadata": {},
     "output_type": "execute_result"
    }
   ],
   "source": [
    "# Есть предположение, что у автомобиля не может НЕ быть дверей. Посмотрим на него:\n",
    "data[data['number_of_doors'] == 0]"
   ]
  },
  {
   "cell_type": "markdown",
   "metadata": {},
   "source": [
    "После поиска в Google, понимаем, что это антикварный автомобиль и у него, действительно, нет дверей. Оставляем данные неизменными."
   ]
  },
  {
   "cell_type": "code",
   "execution_count": 216,
   "metadata": {
    "execution": {
     "iopub.execute_input": "2021-06-10T14:11:50.295181Z",
     "iopub.status.busy": "2021-06-10T14:11:50.294689Z",
     "iopub.status.idle": "2021-06-10T14:11:50.719065Z",
     "shell.execute_reply": "2021-06-10T14:11:50.718364Z",
     "shell.execute_reply.started": "2021-06-10T14:11:50.29515Z"
    }
   },
   "outputs": [
    {
     "data": {
      "image/png": "[encoded data removed]",
      "text/plain": [
       "<Figure size 432x288 with 1 Axes>"
      ]
     },
     "metadata": {
      "needs_background": "light"
     },
     "output_type": "display_data"
    },
    {
     "data": {
      "image/png": "[encoded data removed]",
      "text/plain": [
       "<Figure size 432x288 with 1 Axes>"
      ]
     },
     "metadata": {
      "needs_background": "light"
     },
     "output_type": "display_data"
    }
   ],
   "source": [
    "visualizing_number(data['number_of_doors'])"
   ]
  },
  {
   "cell_type": "code",
   "execution_count": 217,
   "metadata": {
    "execution": {
     "iopub.execute_input": "2021-06-10T14:11:50.720711Z",
     "iopub.status.busy": "2021-06-10T14:11:50.72026Z",
     "iopub.status.idle": "2021-06-10T14:11:50.723937Z",
     "shell.execute_reply": "2021-06-10T14:11:50.723187Z",
     "shell.execute_reply.started": "2021-06-10T14:11:50.72068Z"
    }
   },
   "outputs": [],
   "source": [
    "cat_cols.append('number_of_doors')"
   ]
  },
  {
   "cell_type": "markdown",
   "metadata": {},
   "source": [
    "## 9. vehicle_configuration"
   ]
  },
  {
   "cell_type": "code",
   "execution_count": 218,
   "metadata": {
    "execution": {
     "iopub.execute_input": "2021-06-10T14:11:50.920003Z",
     "iopub.status.busy": "2021-06-10T14:11:50.9195Z",
     "iopub.status.idle": "2021-06-10T14:11:50.958916Z",
     "shell.execute_reply": "2021-06-10T14:11:50.957853Z",
     "shell.execute_reply.started": "2021-06-10T14:11:50.91997Z"
    }
   },
   "outputs": [
    {
     "data": {
      "text/plain": [
       "AUTOMATIC                         63124\n",
       "MECHANICAL                        18051\n",
       "VARIATOR                          13080\n",
       "ROBOT                             11965\n",
       "ALLROAD_5_DOORS AUTOMATIC 3.0      2389\n",
       "                                  ...  \n",
       "ALLROAD_3_DOORS AUTOMATIC 3.8         1\n",
       "ROADSTER MECHANICAL 2.5               1\n",
       "SEDAN ROBOT 3.2                       1\n",
       "WAGON_5_DOORS ROBOT 4.2               1\n",
       "PICKUP_ONE_HALF MECHANICAL 2.4        1\n",
       "Name: vehicle_configuration, Length: 638, dtype: int64"
      ]
     },
     "execution_count": 218,
     "metadata": {},
     "output_type": "execute_result"
    }
   ],
   "source": [
    "data['vehicle_configuration'].value_counts()"
   ]
  },
  {
   "cell_type": "code",
   "execution_count": 219,
   "metadata": {
    "execution": {
     "iopub.execute_input": "2021-06-10T14:11:50.992101Z",
     "iopub.status.busy": "2021-06-10T14:11:50.991582Z",
     "iopub.status.idle": "2021-06-10T14:11:51.357018Z",
     "shell.execute_reply": "2021-06-10T14:11:51.355822Z",
     "shell.execute_reply.started": "2021-06-10T14:11:50.992063Z"
    }
   },
   "outputs": [],
   "source": [
    "data['vehicle_configuration'] = data['vehicle_configuration'].astype(\n",
    "                str).apply(lambda x: x if len(x) == 1 else x.split())"
   ]
  },
  {
   "cell_type": "code",
   "execution_count": 220,
   "metadata": {
    "execution": {
     "iopub.execute_input": "2021-06-10T14:11:51.358949Z",
     "iopub.status.busy": "2021-06-10T14:11:51.358664Z",
     "iopub.status.idle": "2021-06-10T14:11:51.452874Z",
     "shell.execute_reply": "2021-06-10T14:11:51.451741Z",
     "shell.execute_reply.started": "2021-06-10T14:11:51.358921Z"
    }
   },
   "outputs": [],
   "source": [
    "# Извлечём из данных ключевые слова, определяющие конфигурацию автомобиля:\n",
    "data['vehicle_configuration'] = data['vehicle_configuration'].apply(\n",
    "    lambda x: x[0].lower() if len(x) == 1 else x[1].lower())"
   ]
  },
  {
   "cell_type": "code",
   "execution_count": 221,
   "metadata": {
    "execution": {
     "iopub.execute_input": "2021-06-10T14:11:51.454915Z",
     "iopub.status.busy": "2021-06-10T14:11:51.454603Z",
     "iopub.status.idle": "2021-06-10T14:11:51.761888Z",
     "shell.execute_reply": "2021-06-10T14:11:51.760708Z",
     "shell.execute_reply.started": "2021-06-10T14:11:51.454887Z"
    }
   },
   "outputs": [
    {
     "data": {
      "text/plain": [
       "<matplotlib.axes._subplots.AxesSubplot at 0x7feaa9a91040>"
      ]
     },
     "execution_count": 221,
     "metadata": {},
     "output_type": "execute_result"
    },
    {
     "data": {
      "image/png": "[encoded data removed]",
      "text/plain": [
       "<Figure size 432x288 with 1 Axes>"
      ]
     },
     "metadata": {
      "needs_background": "light"
     },
     "output_type": "display_data"
    }
   ],
   "source": [
    "sns.countplot(x = data['vehicle_configuration'], data = data) "
   ]
  },
  {
   "cell_type": "code",
   "execution_count": 222,
   "metadata": {
    "execution": {
     "iopub.execute_input": "2021-06-10T14:11:51.763949Z",
     "iopub.status.busy": "2021-06-10T14:11:51.763649Z",
     "iopub.status.idle": "2021-06-10T14:11:51.768832Z",
     "shell.execute_reply": "2021-06-10T14:11:51.767549Z",
     "shell.execute_reply.started": "2021-06-10T14:11:51.76392Z"
    }
   },
   "outputs": [],
   "source": [
    "cat_cols.append('vehicle_configuration')"
   ]
  },
  {
   "cell_type": "markdown",
   "metadata": {},
   "source": [
    "## 10. engine_volume"
   ]
  },
  {
   "cell_type": "code",
   "execution_count": 223,
   "metadata": {
    "execution": {
     "iopub.execute_input": "2021-06-10T14:11:52.016605Z",
     "iopub.status.busy": "2021-06-10T14:11:52.016213Z",
     "iopub.status.idle": "2021-06-10T14:11:52.024845Z",
     "shell.execute_reply": "2021-06-10T14:11:52.023857Z",
     "shell.execute_reply.started": "2021-06-10T14:11:52.016574Z"
    }
   },
   "outputs": [
    {
     "data": {
      "text/plain": [
       "0         1.2 LTR\n",
       "1         1.6 LTR\n",
       "2         1.8 LTR\n",
       "3         1.6 LTR\n",
       "4         1.8 LTR\n",
       "           ...   \n",
       "140902       2.4d\n",
       "140903        2.5\n",
       "140904       2.4d\n",
       "140905       2.4d\n",
       "140906       2.4d\n",
       "Name: engine_volume, Length: 140906, dtype: object"
      ]
     },
     "execution_count": 223,
     "metadata": {},
     "output_type": "execute_result"
    }
   ],
   "source": [
    "data['engine_volume']"
   ]
  },
  {
   "cell_type": "code",
   "execution_count": 224,
   "metadata": {
    "execution": {
     "iopub.execute_input": "2021-06-10T14:11:52.422776Z",
     "iopub.status.busy": "2021-06-10T14:11:52.422245Z",
     "iopub.status.idle": "2021-06-10T14:11:52.469262Z",
     "shell.execute_reply": "2021-06-10T14:11:52.468292Z",
     "shell.execute_reply.started": "2021-06-10T14:11:52.422745Z"
    }
   },
   "outputs": [],
   "source": [
    "# Приведём признак engine_volume к строковому типу:\n",
    "data['engine_volume'] = data['engine_volume'].astype(str)"
   ]
  },
  {
   "cell_type": "code",
   "execution_count": 225,
   "metadata": {
    "execution": {
     "iopub.execute_input": "2021-06-10T14:11:52.471198Z",
     "iopub.status.busy": "2021-06-10T14:11:52.470722Z",
     "iopub.status.idle": "2021-06-10T14:11:52.792613Z",
     "shell.execute_reply": "2021-06-10T14:11:52.791643Z",
     "shell.execute_reply.started": "2021-06-10T14:11:52.471165Z"
    }
   },
   "outputs": [],
   "source": [
    "# Извлечём из признака только числовые данные (объём двигателя в литрах) с помощью regex:\n",
    "data['engine_volume'] = data['engine_volume'].str.extract('(\\d.\\d)',expand=False).str.strip()"
   ]
  },
  {
   "cell_type": "code",
   "execution_count": 226,
   "metadata": {
    "execution": {
     "iopub.execute_input": "2021-06-10T14:11:52.794549Z",
     "iopub.status.busy": "2021-06-10T14:11:52.79411Z",
     "iopub.status.idle": "2021-06-10T14:11:52.834137Z",
     "shell.execute_reply": "2021-06-10T14:11:52.833167Z",
     "shell.execute_reply.started": "2021-06-10T14:11:52.794504Z"
    }
   },
   "outputs": [
    {
     "data": {
      "text/plain": [
       "2.0    22540\n",
       "1.6    18446\n",
       "1.8    11440\n",
       "2.5     8796\n",
       "3.0     8701\n",
       "       ...  \n",
       "315        1\n",
       "100        1\n",
       "635        1\n",
       "126        1\n",
       "123        1\n",
       "Name: engine_volume, Length: 146, dtype: int64"
      ]
     },
     "execution_count": 226,
     "metadata": {},
     "output_type": "execute_result"
    }
   ],
   "source": [
    "# Видим, что объём двигателя не везде представлен корректно:\n",
    "data['engine_volume'].value_counts()"
   ]
  },
  {
   "cell_type": "code",
   "execution_count": 227,
   "metadata": {
    "execution": {
     "iopub.execute_input": "2021-06-10T14:11:52.836066Z",
     "iopub.status.busy": "2021-06-10T14:11:52.835709Z",
     "iopub.status.idle": "2021-06-10T14:11:52.879693Z",
     "shell.execute_reply": "2021-06-10T14:11:52.878314Z",
     "shell.execute_reply.started": "2021-06-10T14:11:52.836032Z"
    }
   },
   "outputs": [],
   "source": [
    "# Упорядочим распределение признака:\n",
    "engine_dict = {'1.0': '1.0', \n",
    "              '1.1':'1.1', \n",
    "              '1.2':'1.2', \n",
    "              '1.3':'1.3',\n",
    "              '1.4':'1.4',\n",
    "              '1.5':'1.5',\n",
    "              '1.6':'1.6',\n",
    "              '1.7':'1.7',\n",
    "              '1.8':'1.8',\n",
    "              '1.9':'1.9',\n",
    "              '2.0':'2.0',\n",
    "              '2.1':'2.1',\n",
    "              '2.2':'2.2',\n",
    "              '2.3':'2.3',\n",
    "              '2.4':'2.4',\n",
    "              '2.5':'2.5',\n",
    "              '2.6':'2.6',\n",
    "              '2.7':'2.7',\n",
    "              '2.8':'2.8',\n",
    "              '2.9':'2.9',\n",
    "              '3.0':'3.0',\n",
    "              '3.1':'3.1',\n",
    "              '3.2':'3.2',\n",
    "              '3.3':'3.3',\n",
    "              '3.4':'3.4',\n",
    "              '3.5':'3.5',\n",
    "              '3.6':'3.6',\n",
    "              '3.7':'3.7',\n",
    "              '3.8':'3.8',\n",
    "              '3.9':'3.9',\n",
    "              '4.0':'4.0',\n",
    "              '4.1':'4.1',\n",
    "              '4.2':'4.2',\n",
    "              '4.3':'4.3',\n",
    "              '4.4':'4.4',\n",
    "              '4.5':'4.5',\n",
    "              '4.6':'4.6',\n",
    "              '4.7':'4.7',\n",
    "              '4.8':'4.8',\n",
    "              '4.9':'4.9',\n",
    "              '5.0':'5.0',\n",
    "              '5.1':'5.1',\n",
    "              '5.2':'5.2',\n",
    "              '5.3':'5.3',\n",
    "              '5.4':'5.4',\n",
    "              '5.5':'5.5',\n",
    "              '5.6':'5.6',\n",
    "              '5.7':'5.7',\n",
    "              '5.8':'5.8',\n",
    "              '5.9':'5.9',\n",
    "              '6.0':'6.0',\n",
    "              '6.1':'6.1',\n",
    "              '6.2':'6.2',\n",
    "              '6.3':'6.3',\n",
    "              '6.4':'6.4',\n",
    "              '6.5':'6.5',\n",
    "              '6.6':'6.6',\n",
    "              '6.7':'6.7',\n",
    "              '6.8':'6.8',\n",
    "              '6.9':'6.9',\n",
    "              '7.0':'7.0'\n",
    "             }\n",
    "data['engine_volume'] = data['engine_volume'].map(engine_dict)"
   ]
  },
  {
   "cell_type": "code",
   "execution_count": 228,
   "metadata": {
    "execution": {
     "iopub.execute_input": "2021-06-10T14:11:53.027434Z",
     "iopub.status.busy": "2021-06-10T14:11:53.026765Z",
     "iopub.status.idle": "2021-06-10T14:11:53.911456Z",
     "shell.execute_reply": "2021-06-10T14:11:53.910476Z",
     "shell.execute_reply.started": "2021-06-10T14:11:53.027352Z"
    }
   },
   "outputs": [
    {
     "data": {
      "text/plain": [
       "<matplotlib.axes._subplots.AxesSubplot at 0x7feadb2ebf70>"
      ]
     },
     "execution_count": 228,
     "metadata": {},
     "output_type": "execute_result"
    },
    {
     "data": {
      "image/png": "[encoded data removed]",
      "text/plain": [
       "<Figure size 1152x1152 with 1 Axes>"
      ]
     },
     "metadata": {
      "needs_background": "light"
     },
     "output_type": "display_data"
    }
   ],
   "source": [
    "# Посмотрим на распределение:\n",
    "plt.figure(figsize=(16,16))\n",
    "sns.countplot(y = data['engine_volume'], data = data) "
   ]
  },
  {
   "cell_type": "code",
   "execution_count": 229,
   "metadata": {
    "execution": {
     "iopub.execute_input": "2021-06-10T14:11:53.913543Z",
     "iopub.status.busy": "2021-06-10T14:11:53.913238Z",
     "iopub.status.idle": "2021-06-10T14:11:53.944948Z",
     "shell.execute_reply": "2021-06-10T14:11:53.943882Z",
     "shell.execute_reply.started": "2021-06-10T14:11:53.913514Z"
    }
   },
   "outputs": [
    {
     "data": {
      "text/plain": [
       "count    106002.000000\n",
       "mean          2.271584\n",
       "std           0.854291\n",
       "min           1.000000\n",
       "25%           1.600000\n",
       "50%           2.000000\n",
       "75%           2.500000\n",
       "max           6.600000\n",
       "Name: engine_volume, dtype: float64"
      ]
     },
     "execution_count": 229,
     "metadata": {},
     "output_type": "execute_result"
    }
   ],
   "source": [
    "# Среднее значение объёма двигателя в датасете - 2.27 литра:\n",
    "data['engine_volume'].astype(float).describe()"
   ]
  },
  {
   "cell_type": "code",
   "execution_count": 230,
   "metadata": {
    "execution": {
     "iopub.execute_input": "2021-06-10T14:11:53.946488Z",
     "iopub.status.busy": "2021-06-10T14:11:53.946185Z",
     "iopub.status.idle": "2021-06-10T14:11:53.96729Z",
     "shell.execute_reply": "2021-06-10T14:11:53.966077Z",
     "shell.execute_reply.started": "2021-06-10T14:11:53.946453Z"
    }
   },
   "outputs": [],
   "source": [
    "# Заменим все пропуски на среднее значение признака:\n",
    "data['engine_volume'] = data['engine_volume'].fillna('2.2')"
   ]
  },
  {
   "cell_type": "code",
   "execution_count": 231,
   "metadata": {
    "execution": {
     "iopub.execute_input": "2021-06-10T14:11:53.969918Z",
     "iopub.status.busy": "2021-06-10T14:11:53.969463Z",
     "iopub.status.idle": "2021-06-10T14:11:54.011715Z",
     "shell.execute_reply": "2021-06-10T14:11:54.010412Z",
     "shell.execute_reply.started": "2021-06-10T14:11:53.96987Z"
    }
   },
   "outputs": [
    {
     "data": {
      "text/plain": [
       "2.2    35431\n",
       "2.0    22540\n",
       "1.6    18446\n",
       "1.8    11440\n",
       "2.5     8796\n",
       "3.0     8701\n",
       "2.4     6622\n",
       "1.4     6346\n",
       "3.5     4316\n",
       "1.5     2072\n",
       "1.2     1761\n",
       "4.5     1303\n",
       "2.8     1195\n",
       "3.2     1114\n",
       "1.3      976\n",
       "4.4      930\n",
       "4.0      895\n",
       "1.9      706\n",
       "3.6      695\n",
       "4.7      651\n",
       "2.7      623\n",
       "4.2      593\n",
       "5.6      590\n",
       "2.3      470\n",
       "3.7      466\n",
       "5.5      361\n",
       "2.1      281\n",
       "3.1      278\n",
       "4.6      268\n",
       "3.8      259\n",
       "2.9      237\n",
       "1.0      198\n",
       "5.0      186\n",
       "5.7      173\n",
       "4.8      146\n",
       "4.1      134\n",
       "1.7      129\n",
       "3.3      121\n",
       "2.6      102\n",
       "3.4       76\n",
       "6.0       58\n",
       "4.3       36\n",
       "6.2       34\n",
       "5.9       34\n",
       "5.4       32\n",
       "5.2       29\n",
       "4.9       22\n",
       "1.1       10\n",
       "6.3        8\n",
       "5.8        7\n",
       "6.6        6\n",
       "5.3        2\n",
       "3.9        1\n",
       "Name: engine_volume, dtype: int64"
      ]
     },
     "execution_count": 231,
     "metadata": {},
     "output_type": "execute_result"
    }
   ],
   "source": [
    "data['engine_volume'].value_counts()"
   ]
  },
  {
   "cell_type": "code",
   "execution_count": 232,
   "metadata": {
    "execution": {
     "iopub.execute_input": "2021-06-10T14:11:54.015993Z",
     "iopub.status.busy": "2021-06-10T14:11:54.015675Z",
     "iopub.status.idle": "2021-06-10T14:11:54.021906Z",
     "shell.execute_reply": "2021-06-10T14:11:54.020796Z",
     "shell.execute_reply.started": "2021-06-10T14:11:54.015963Z"
    }
   },
   "outputs": [],
   "source": [
    "cat_cols.append('engine_volume')"
   ]
  },
  {
   "cell_type": "markdown",
   "metadata": {},
   "source": [
    "## 11. engine_power"
   ]
  },
  {
   "cell_type": "code",
   "execution_count": 233,
   "metadata": {
    "execution": {
     "iopub.execute_input": "2021-06-10T14:11:55.885151Z",
     "iopub.status.busy": "2021-06-10T14:11:55.884797Z",
     "iopub.status.idle": "2021-06-10T14:11:55.91589Z",
     "shell.execute_reply": "2021-06-10T14:11:55.914691Z",
     "shell.execute_reply.started": "2021-06-10T14:11:55.885121Z"
    }
   },
   "outputs": [
    {
     "data": {
      "text/plain": [
       "array(['105 N12', '110 N12', '152 N12', '200 N12', '102 N12', '150 N12',\n",
       "       '90 N12', '180 N12', '220 N12', '122 N12', '70 N12', '140 N12',\n",
       "       '125 N12', '54 N12', '86 N12', '75 N12', '64 N12', '95 N12',\n",
       "       '260 N12', '170 N12', '80 N12', '68 N12', '160 N12', '115 N12',\n",
       "       '280 N12', '53 N12', '60 N12', '143 N12', '42 N12', '101 N12',\n",
       "       '58 N12', '193 N12', '79 N12', '30 N12', '100 N12', '50 N12',\n",
       "       '163 N12', '225 N12', '420 N12', '211 N12', '245 N12', '560 N12',\n",
       "       '500 N12', '249 N12', '450 N12', '605 N12', '250 N12', '354 N12',\n",
       "       '120 N12', '290 N12', '230 N12', '350 N12', '204 N12', '255 N12',\n",
       "       '340 N12', '177 N12', '272 N12', '372 N12', '210 N12', '130 N12',\n",
       "       '300 N12', '190 N12', '239 N12', '435 N12', '333 N12', '271 N12',\n",
       "       '326 N12', '238 N12', '310 N12', '233 N12', '252 N12', '133 N12',\n",
       "       '460 N12', '520 N12', '400 N12', '525 N12', '367 N12', '265 N12',\n",
       "       '550 N12', '580 N12', '88 N12', '165 N12', '430 N12', '335 N12',\n",
       "       '174 N12', '224 N12', '136 N12', '256 N12', '338 N12', '112 N12',\n",
       "       '218 N12', '360 N12', '93 N12', '182 N12', '113 N12', '240 N12',\n",
       "       '270 N12', '137 N12', '155 N12', '61 N12', '254 N12', '116 N12',\n",
       "       '71 N12', '285 N12', '408 N12', '166 N12', '156 N12', '257 N12',\n",
       "       '201 N12', '162 N12', '194 N12', '142 N12', '154 N12', '147 N12',\n",
       "       '281 N12', '243 N12', '118 N12', '128 N12', '91 N12', '83 N12',\n",
       "       '205 N12', '247 N12', '188 N12', '295 N12', '275 N12', '78 N12',\n",
       "       '109 N12', '94 N12', '185 N12', '258 N12', '145 N12', '132 N12',\n",
       "       '135 N12', '52 N12', '66 N12', '124 N12', '98 N12', '215 N12',\n",
       "       '158 N12', '99 N12', '103 N12', '131 N12', '126 N12', '235 N12',\n",
       "       '181 N12', '315 N12', '203 N12', '231 N12', '82 N12', '304 N12',\n",
       "       '175 N12', '320 N12', '213 N12', '144 N12', '146 N12', '151 N12',\n",
       "       '111 N12', '286 N12', '306 N12', '107 N12', '184 N12', '313 N12',\n",
       "       '264 N12', '575 N12', '407 N12', '192 N12', '129 N12', '555 N12',\n",
       "       '625 N12', '329 N12', '370 N12', '381 N12', '269 N12', '600 N12',\n",
       "       '510 N12', '544 N12', '462 N12', '355 N12', '507 N12', '609 N12',\n",
       "       '431 N12', '530 N12', '387 N12', '610 N12', '197 N12', '343 N12',\n",
       "       '445 N12', '171 N12', '51 N12', '46 N12', '347 N12', '321 N12',\n",
       "       '167 N12', '141 N12', '169 N12', '405 N12', '117 N12', '114 N12',\n",
       "       '173 N12', '234 N12', '540 N12', '106 N12', '49 N12', '248 N12',\n",
       "       '317 N12', '309 N12', '97 N12', '121 N12', '268 N12', '149 N12',\n",
       "       '87 N12', '85 N12', '65 N12', '67 N12', '127 N12', '485 N12',\n",
       "       '186 N12', '222 N12', '307 N12', '262 N12', '302 N12', '284 N12',\n",
       "       '325 N12', '168 N12', '221 N12', '330 N12', '283 N12', '328 N12',\n",
       "       '303 N12', '278 N12', '388 N12', '571 N12', '585 N12', '612 N12',\n",
       "       '401 N12', '279 N12', '455 N12', '382 N12', '557 N12', '517 N12',\n",
       "       '394 N12', '422 N12', '292 N12', '469 N12', '522 N12', '296 N12',\n",
       "       '639 N12', '390 N12', '476 N12', '630 N12', '402 N12', '487 N12',\n",
       "       '558 N12', '421 N12', '316 N12', '514 N12', '457 N12', '626 N12',\n",
       "       '242 N12', '38 N12', '32 N12', '223 N12', '72 N12', '305 N12',\n",
       "       '183 N12', '273 N12', '159 N12', '76 N12', '148 N12', '179 N12',\n",
       "       '73 N12', '277 N12', '282 N12', '178 N12', '288 N12', '199 N12',\n",
       "       '266 N12', '92 N12', '74 N12', '324 N12', '232 N12', '157 N12',\n",
       "       '69 N12', '212 N12', '276 N12', '202 N12', '77 N12', '164 N12',\n",
       "       '96 N12', '84 N12', '228 N12', '108 N12', '208 N12', '263 N12',\n",
       "       '294 N12', '318 N12', '380 N12', '219 N12', '214 N12', '383 N12',\n",
       "       '241 N12', '57 N12', '55 N12', '104 N12', '48 N12', '40 N12',\n",
       "       '44 N12', '227 N12', '139 N12', '209 N12', '195 N12', '189 N12',\n",
       "       '480 N12', '591 N12', '301 N12', 133.0, 115.0, 174.0, 138.0, 90.0,\n",
       "       112.0, 137.0, 75.0, 136.0, 70.0, 230.0, 88.0, 150.0, 101.0, 165.0,\n",
       "       100.0, 182.0, 170.0, 54.0, 113.0, 60.0, 71.0, 125.0, 122.0, 185.0,\n",
       "       160.0, 102.0, 105.0, 180.0, 110.0, 143.0, 250.0, 140.0, 200.0,\n",
       "       163.0, 225.0, 130.0, 120.0, 190.0, 249.0, 211.0, 239.0, 193.0,\n",
       "       265.0, 220.0, 245.0, 218.0, 144.0, 177.0, 252.0, 240.0, 333.0,\n",
       "       300.0, 254.0, 340.0, 204.0, 255.0, 290.0, 310.0, 210.0, 224.0,\n",
       "       233.0, 335.0, 155.0, 350.0, 243.0, 338.0, 326.0, 372.0, 435.0,\n",
       "       500.0, 260.0, 420.0, 280.0, 450.0, 270.0, 271.0, 272.0, 258.0,\n",
       "       238.0, 550.0, 525.0, 430.0, 367.0, 380.0, 560.0, 605.0, 580.0,\n",
       "       256.0, 344.0, 354.0, 520.0, 360.0, 129.0, 320.0, 306.0, 184.0,\n",
       "       156.0, 116.0, 387.0, 192.0, 118.0, 231.0, 171.0, 286.0, 234.0,\n",
       "       46.0, 51.0, 400.0, 381.0, 407.0, 197.0, 313.0, 235.0, 462.0, 188.0,\n",
       "       19.0, 610.0, 609.0, 445.0, 530.0, 544.0, 410.0, 370.0, 343.0,\n",
       "       431.0, 460.0, 507.0, 625.0, 600.0, 575.0, 264.0, 355.0, 329.0,\n",
       "       269.0, 347.0, 555.0, 201.0, 212.0, 147.0, 281.0, 131.0, 80.0,\n",
       "       162.0, 135.0, 154.0, 103.0, 64.0, 98.0, 142.0, 95.0, 83.0, 94.0,\n",
       "       69.0, 114.0, 91.0, 166.0, 128.0, 186.0, 145.0, 124.0, 275.0, 194.0,\n",
       "       86.0, 295.0, 205.0, 215.0, 50.0, 65.0, 58.0, 175.0, 257.0, 247.0,\n",
       "       237.0, 148.0, 132.0, 52.0, 302.0, 222.0, 330.0, 307.0, 328.0,\n",
       "       315.0, 309.0, 284.0, 408.0, 278.0, 149.0, 405.0, 221.0, 168.0,\n",
       "       325.0, 262.0, 99.0, 161.0, 277.0, 214.0, 228.0, 296.0, 208.0,\n",
       "       317.0, 279.0, 292.0, 283.0, 219.0, 263.0, 181.0, 477.0, 394.0,\n",
       "       421.0, 282.0, 383.0, 276.0, 223.0, 303.0, 288.0, 146.0, 109.0,\n",
       "       72.0, 82.0, 639.0, 510.0, 476.0, 585.0, 390.0, 487.0, 457.0, 388.0,\n",
       "       517.0, 571.0, 612.0, 481.0, 299.0, 557.0, 514.0, 126.0, 314.0,\n",
       "       401.0, 422.0, 382.0, 558.0, 455.0, 469.0, 242.0, 32.0, 316.0,\n",
       "       537.0, 305.0, 626.0, 591.0, 79.0, 55.0, 68.0, 38.0, 139.0, 117.0,\n",
       "       92.0, 85.0, 213.0, 93.0, 49.0, 158.0, 67.0, 178.0, 87.0, 241.0,\n",
       "       48.0, 76.0, 203.0, 199.0, 167.0, 227.0, 202.0, 121.0, 189.0, 84.0,\n",
       "       209.0, 169.0, 331.0, 106.0, 107.0, 97.0, 540.0, 485.0, 570.0,\n",
       "       268.0, 248.0, 141.0, 127.0, 173.0, 42.0, 53.0, 152.0, 273.0, 159.0,\n",
       "       74.0, 179.0, 157.0, 78.0, 73.0, 89.0, 151.0, 232.0, 187.0, 96.0,\n",
       "       183.0, 111.0, 77.0, 266.0, 236.0, 57.0, 61.0, 104.0, 34.0, 304.0,\n",
       "       195.0, 196.0, 630.0, 449.0, 274.0, 385.0, 217.0, 294.0, 47.0, 30.0,\n",
       "       45.0, 444.0, 423.0, 285.0], dtype=object)"
      ]
     },
     "execution_count": 233,
     "metadata": {},
     "output_type": "execute_result"
    }
   ],
   "source": [
    "# Посмотрим на уникальные значения признака:\n",
    "data['engine_power'].unique()"
   ]
  },
  {
   "cell_type": "code",
   "execution_count": 234,
   "metadata": {
    "execution": {
     "iopub.execute_input": "2021-06-10T14:11:56.101063Z",
     "iopub.status.busy": "2021-06-10T14:11:56.100582Z",
     "iopub.status.idle": "2021-06-10T14:11:56.255443Z",
     "shell.execute_reply": "2021-06-10T14:11:56.254238Z",
     "shell.execute_reply.started": "2021-06-10T14:11:56.101023Z"
    }
   },
   "outputs": [],
   "source": [
    "# Приведём данные к общему числовому виду:\n",
    "data['engine_power'] = data['engine_power'].astype(str).apply(lambda x: x.split()[0])\n",
    "data['engine_power'] = data['engine_power'].astype(float)"
   ]
  },
  {
   "cell_type": "code",
   "execution_count": 235,
   "metadata": {
    "execution": {
     "iopub.execute_input": "2021-06-10T14:11:56.673341Z",
     "iopub.status.busy": "2021-06-10T14:11:56.672944Z",
     "iopub.status.idle": "2021-06-10T14:11:56.684456Z",
     "shell.execute_reply": "2021-06-10T14:11:56.683301Z",
     "shell.execute_reply.started": "2021-06-10T14:11:56.673305Z"
    }
   },
   "outputs": [
    {
     "data": {
      "text/plain": [
       "249.0    6995\n",
       "150.0    6896\n",
       "184.0    4567\n",
       "170.0    4456\n",
       "110.0    4239\n",
       "         ... \n",
       "314.0       1\n",
       "324.0       1\n",
       "34.0        1\n",
       "236.0       1\n",
       "108.0       1\n",
       "Name: engine_power, Length: 341, dtype: int64"
      ]
     },
     "execution_count": 235,
     "metadata": {},
     "output_type": "execute_result"
    }
   ],
   "source": [
    "data['engine_power'].value_counts()"
   ]
  },
  {
   "cell_type": "code",
   "execution_count": 236,
   "metadata": {
    "execution": {
     "iopub.execute_input": "2021-06-10T14:11:57.360178Z",
     "iopub.status.busy": "2021-06-10T14:11:57.359803Z",
     "iopub.status.idle": "2021-06-10T14:11:57.373779Z",
     "shell.execute_reply": "2021-06-10T14:11:57.372698Z",
     "shell.execute_reply.started": "2021-06-10T14:11:57.360148Z"
    }
   },
   "outputs": [
    {
     "data": {
      "text/plain": [
       "count    140906.000000\n",
       "mean        188.995657\n",
       "std          86.917224\n",
       "min          19.000000\n",
       "25%         132.000000\n",
       "50%         170.000000\n",
       "75%         231.000000\n",
       "max         639.000000\n",
       "Name: engine_power, dtype: float64"
      ]
     },
     "execution_count": 236,
     "metadata": {},
     "output_type": "execute_result"
    }
   ],
   "source": [
    "# Минимальное значение мощности двигателя - 19 л.с., максимальное - 639 л.с:\n",
    "data['engine_power'].describe()"
   ]
  },
  {
   "cell_type": "code",
   "execution_count": 237,
   "metadata": {
    "execution": {
     "iopub.execute_input": "2021-06-10T14:11:57.904055Z",
     "iopub.status.busy": "2021-06-10T14:11:57.903685Z",
     "iopub.status.idle": "2021-06-10T14:11:57.913634Z",
     "shell.execute_reply": "2021-06-10T14:11:57.912469Z",
     "shell.execute_reply.started": "2021-06-10T14:11:57.904024Z"
    }
   },
   "outputs": [],
   "source": [
    "# Разобьём признак на категории, для этого напишем функцию:\n",
    "def engine_power(x):\n",
    "    if x < 100: x = 1\n",
    "    elif 99 < x < 150: x = 2\n",
    "    elif 149 < x < 200: x = 3\n",
    "    elif 199 < x < 250: x = 4\n",
    "    elif 249 < x < 300: x = 5\n",
    "    elif 299 < x < 350: x = 6\n",
    "    elif 349 < x < 400: x = 7\n",
    "    elif 399 < x < 450: x = 8\n",
    "    elif 449 < x < 500: x = 9\n",
    "    elif 499 < x < 550: x = 10\n",
    "    elif 549 < x < 600: x = 11\n",
    "    else: x = 12\n",
    "    return x  "
   ]
  },
  {
   "cell_type": "code",
   "execution_count": 238,
   "metadata": {
    "execution": {
     "iopub.execute_input": "2021-06-10T14:11:58.436496Z",
     "iopub.status.busy": "2021-06-10T14:11:58.436122Z",
     "iopub.status.idle": "2021-06-10T14:11:58.605999Z",
     "shell.execute_reply": "2021-06-10T14:11:58.605062Z",
     "shell.execute_reply.started": "2021-06-10T14:11:58.436463Z"
    }
   },
   "outputs": [],
   "source": [
    "data['engine_power'] = data['engine_power'].map(engine_power)"
   ]
  },
  {
   "cell_type": "code",
   "execution_count": 239,
   "metadata": {
    "execution": {
     "iopub.execute_input": "2021-06-10T14:11:58.849204Z",
     "iopub.status.busy": "2021-06-10T14:11:58.848856Z",
     "iopub.status.idle": "2021-06-10T14:11:59.190841Z",
     "shell.execute_reply": "2021-06-10T14:11:59.189891Z",
     "shell.execute_reply.started": "2021-06-10T14:11:58.849176Z"
    }
   },
   "outputs": [
    {
     "data": {
      "text/plain": [
       "<matplotlib.axes._subplots.AxesSubplot at 0x7feaa7d80ee0>"
      ]
     },
     "execution_count": 239,
     "metadata": {},
     "output_type": "execute_result"
    },
    {
     "data": {
      "image/png": "[encoded data removed]",
      "text/plain": [
       "<Figure size 1152x576 with 1 Axes>"
      ]
     },
     "metadata": {
      "needs_background": "light"
     },
     "output_type": "display_data"
    }
   ],
   "source": [
    "# Распределение мощностей двигателей:\n",
    "plt.figure(figsize=(16,8))\n",
    "sns.countplot(x = data['engine_power'], data = data) "
   ]
  },
  {
   "cell_type": "markdown",
   "metadata": {},
   "source": [
    "Больше всего автомобилей с мощностью двигателя от 99 до 200 лошадиных сил."
   ]
  },
  {
   "cell_type": "code",
   "execution_count": 240,
   "metadata": {
    "execution": {
     "iopub.execute_input": "2021-06-10T14:11:59.970319Z",
     "iopub.status.busy": "2021-06-10T14:11:59.969924Z",
     "iopub.status.idle": "2021-06-10T14:11:59.975364Z",
     "shell.execute_reply": "2021-06-10T14:11:59.974325Z",
     "shell.execute_reply.started": "2021-06-10T14:11:59.970285Z"
    }
   },
   "outputs": [],
   "source": [
    "cat_cols.append('engine_power')"
   ]
  },
  {
   "cell_type": "markdown",
   "metadata": {},
   "source": [
    "## 12. description"
   ]
  },
  {
   "cell_type": "code",
   "execution_count": 241,
   "metadata": {
    "execution": {
     "iopub.execute_input": "2021-06-10T14:12:00.73261Z",
     "iopub.status.busy": "2021-06-10T14:12:00.732253Z",
     "iopub.status.idle": "2021-06-10T14:12:00.813734Z",
     "shell.execute_reply": "2021-06-10T14:12:00.812811Z",
     "shell.execute_reply.started": "2021-06-10T14:12:00.732581Z"
    }
   },
   "outputs": [
    {
     "data": {
      "text/plain": [
       "array(['Все автомобили, представленные в продаже, проходят тщательную проверку по более 40 параметрам. Предоставляем гарантию юридической чистоты, а так же год технической гарантии на двигатель и КПП. Бесплатный тест-драйв. Возможно оформление автомобиля в кредит!\\n\\nПреимущества автокредитования:\\n— Первоначальный взнос от 0%;\\n— Более 30 кредитных программ;\\n— Процентная ставка от 6% годовых;\\n— Срок кредита от 6 месяцев до 7 лет;\\n— Оформление кредита по двум документам;\\n— Досрочное погашение без штрафов и комиссий;\\n— Сумма кредита до 2 млн рублей;\\n— Оформление КАСКО – по желанию;\\n— Без справок и поручителей.\\n\\nСотрудничаем с 12 аккредитованными и сертифицированными банками РФ, среднее время ожидания решения банка 20–30 минут.\\n\\nПри покупке автомобиля по программе «Trade-in – выгодный обмен» или в кредит, получите дополнительную скидку до 80 000 рублей на данный автомобиль!\\n\\nЗаписаться на тест-драйв, а так же получить подробную информацию можно у специалистов автоцентра по указанному номеру телефона.',\n",
       "       'ЛОТ: 01217195\\nАвтопрага Север\\nДанный автомобиль прошел диагностику по 147 пунктам и имеет сертификат технической гарантии.\\n\\n\\nВы можете получить скидку на данный автомобиль до 50000 рублей. Подробности уточняйте у менеджеров отдела продаж.\\n\\nГК FAVORIT MOTORS строит свою работу на принципах открытости и честности! Нам доверяют более 25 лет.\\n\\n- Автомобиль продается официальным дилером FAVORIT MOTORS.\\n- Покупка и обслуживание у официального дилера.\\n- Проведена предпродажная подготовка,\\n- Гарантия юридической чистоты.\\n- Круглосуточная техническая поддержка с бесплатным эвакуатором.\\n\\n- Автомобиль можно приобрести за наличный расчет, безналичным платежом, а также мы примем вашу машину по рыночной стоимости в рамках программы трейд-ин и при необходимости — выплатим за нее кредит.\\n\\n- Возможна покупка в кредит: специальные предложения по кредитованию и страхованию.\\n- Оформление кредита по двум документам.\\n- КАСКО не обязательно.\\n\\nПриглашаем на бесплатный тест-драйв!\\n\\nГруппа компаний FAVORIT MOTORS — один из крупнейших российских холдингов, официальный дилер известных мировых брендов , которые обслуживаются в технических центрах ГК FAVORIT MOTORS в рамках официального сервиса.\\n\\nМы предлагаем полный комплекс услуг по предпродажной подготовке и последующему сервису.\\n\\nГруппа компаний FAVORIT MOTORS занимает лидирующее положение в рейтинге продаж автомобилей с пробегом по Москве и области. Это подтверждают специализированные исследования рынка за последние пять лет, указывающие на самый крупный объем реализации.\\n\\n\\n\\nВ комплектации автомобиля\\n • Тип обивки салона: Ткань\\n • Цвет салона: Темный\\n • Светодиодные дневные ходовые огни\\n • Тип фар: Галогеновые\\n • Легкосплавные диски: 16\\n • Штатная сигнализация\\n • Иммобилайзер\\n • Бортовой компьютер\\n • Система контроля давления в шинах\\n • Датчик дождя\\n • Круиз-контроль: Пассивный\\n • Обогрев лобового стекла\\n • Обогрев зеркал\\n • Усилитель руля\\n • Центральный замок\\n • Противотуманные фары\\n • Датчик света\\n • Обогрев руля\\n • Обогрев передних сидений\\n • Климат: Климат-контроль 2- зонный\\n • Электропривод зеркал\\n • Стеклоподъемники: Электро все\\n • Сиденье водителя: Ручная регулировка по высоте\\n • Сиденье пассажира: Ручная регулировка\\n • Регулировка руля: В двух плоскостях\\n • Антиблокировочная система (ABS)\\n • Антипробуксовочная система\\n • Система курсовой устойчивости\\n • Подушки безопасности: Передние и боковые\\n • Задний парковочный радар\\n • Система крепления isofix\\n • Фронтальный видеомонитор\\n • BlueTooth\\n • USB\\n • Тип открытия задней двери: Подъемная\\n • Тип передних тормозов: Дисковые\\n • Тип задних тормозов: Дисковые\\n • Тип гарантии: На гарантии',\n",
       "       'КОМПЛЕКТ ЗИМНЕЙ (ЛЕТНЕЙ) РЕЗИНЫ ПО СЕЗОНУ В ПОДАРОК!\\n\\nРАССРОЧКА НА АВТОМОБИЛИ С ПРОБЕГОМ\\nСРОК: 12-18 МЕСЯЦЕВ\\nПЕРВОНАЧАЛЬНЫЙ ВЗНОС: ОТ 0%\\nСУММА РАССРОЧКИ: ОТ 90 т.р. до 4,9 млн.р.\\n\\nОт метро Рязанский проспект бесплатный проезд до автосалона GENZES\\n\\nГарантия на автомобили различных марок сроком на 1 ГОД при общем пробеге до 150 000 км\\n-Двигатель (бензиновый или дизельный)\\n-Механическая коробка передач\\n-Автоматическая коробка передач\\n-Роботизированная коробка передач\\n-Вариатор\\n-Раздаточная коробка\\n-Редуктор заднего моста\\n-Редуктор переднего моста\\n-Радиатор системы охлаждения\\n-Радиатор кондиционера\\n\\nДополнительные комиссии отсутствуют.\\n\\nКомфортные условия выбора: бесплатный Wi-Fi, уютное кафе с клиентской зоной, большая и удобная парковка\\nВыберите подходящий автомобиль и совершите выгодную покупку в течение 1 дня!\\n\\nВсе автомобили, представленные в продаже, проходят диагностику по более 48 параметрам, с результатами диагностики Вы можете ознакомиться при осмотре автомобиля.\\n\\nПри покупке автомобиля по программе Trade-In (обмен на ваш автомобиль)  дополнительная скидка до 80 000 рублей и до 100 000 рублей при покупке автомобиля в кредит!\\n\\nПреимущества автокредитования:\\n— Ставка по кредиту от 6% годовых;\\n— Первоначальный взнос от 0%;\\n— Более 23 кредитных программ;\\n— Минимальный пакет документов – паспорт и водительское удостоверение;\\n— Срок кредита от 6 месяцев до 7 лет;\\n— Сумма кредита от 50 000 руб. до 3 000 000 рублей;\\n— Досрочное погашение без штрафов и комиссий;\\n— КАСКО – необязательно.\\n\\nАРГУМЕНТИРОВАННЫЙ ТОРГ УМЕСТЕН ТОЛЬКО ПРИ ОСМОТРЕ! ПРИГЛАШАЕМ ВАС НА БЕСПЛАТНЫЙ ТЕСТ-ДРАЙВ!\\n\\nЖдем Вас ежедневно без выходных с 9:00 до 20:00\\n2-й Вязовский проезд 12с1',\n",
       "       ...,\n",
       "       'Продам в хорошие руки. В отличном техническом состояние. Вторая машина в семье. В данный момент стоит, продаю так как давно куплена другая. Полностью в заводском окрасе. Два владельца. Документы оригинал. Все ключи. Webasto.Торг. ',\n",
       "       'АСЦ / ЧЕСТНО!\\n«АвтоСпецЦентр» Химки – это широкий выбор проверенных и по-настоящему Честных автомобилей с пробегом от Официального Дилера с 22-летней историей продаж в России!\\nКаждый автомобиль проходит полную проверку технического состояния и диагностику по 129 пунктам. Мы предлагаем проверенные автомобили с юридической гарантией и полным пакетом документов в наличии.\\nПри покупке автомобиля в Кредит и сдаче Вашего автомобиля в Обмен на авто с пробегом – СПЕЦИАЛЬНЫЕ УСЛОВИЯ И ДОПОЛНИТЕЛЬНЫ ПРЕИМУЩЕСТВА!\\nПриглашаем Вас в Салон! У нас Вы можете получить выгодное индивидуальное предложение и выбрать автомобиль своей мечты!\\nС 9:00 до 21:00 без перерыва и выходных Вы можете познакомиться с Вашим будущим автомобилем на БОЛЬШОЙ, ЗАКРЫТОЙ и ОТАПЛИВАЕМОЙ ПЛОЩАДКЕ, сделать ТЕСТ-ДРАЙВ и получить полную информацию!\\nСрочный выкуп день-в-день! \\nКомиссионная продажа на Ваших условиях!\\nПродажа в кредит более чем через 10 Банков-партнеров на особых условиях!\\nПриобретение автомобиля у нас – это БЫСТРО, ВЫГОДНО и БЕЗОПАСНО!\\n\\n \\nASR, Центральный замок, Подушки безопасности (SRS водителя), Климат (Климат 1 зона), Мультимедиа (CD), Тип фар (Галогенные фары), Рег-ка вод. сиденья (Вод.сид. по горизонт, Вод.сид. по высоте), Рег-ка пас. сиденья (Пас.сид. по горизонт), Регулировка руля (Рег-ка руля высота), Обивка салона (Кожаный салон), Цвет салона (Цвет салона светлый), Электропривод стекол (Перед. эл-подъемники, Задние эл-подъемники), Усилитель руля (ГУР)',\n",
       "       'Продаётся семейный 7-ми местный автомобиль в отличном состоянии.\\nМаксимальная комплектация: кожа, мультируль, память сидений,\\nкамера заднего вида и многое другое. Автомобиль в ДТП не участвовал. ПТС оригинал, два хозяина.\\nПокупалась и обслуживалась у официального дилера. Полный комплект ключей. \\nВ машине работает абсолютно все. Убедительная просьба автосалонам не беспокоить.'],\n",
       "      dtype=object)"
      ]
     },
     "execution_count": 241,
     "metadata": {},
     "output_type": "execute_result"
    }
   ],
   "source": [
    "# Посмотрим на содержание нескольких объявлений:\n",
    "data['description'].unique()"
   ]
  },
  {
   "cell_type": "markdown",
   "metadata": {},
   "source": [
    "В описаниях к объявлениям находится много разрозненной информации. Гипотетически можно было бы отсортировать их по ключевым словам, выявив лояльных продавцов. На данном этапе удалим признак desciption. Возможно, во время Feature Engeneering вернёмся к нему снова. "
   ]
  },
  {
   "cell_type": "code",
   "execution_count": 242,
   "metadata": {
    "execution": {
     "iopub.execute_input": "2021-06-10T14:12:01.641378Z",
     "iopub.status.busy": "2021-06-10T14:12:01.641012Z",
     "iopub.status.idle": "2021-06-10T14:12:01.681556Z",
     "shell.execute_reply": "2021-06-10T14:12:01.680286Z",
     "shell.execute_reply.started": "2021-06-10T14:12:01.641343Z"
    }
   },
   "outputs": [],
   "source": [
    "data = data.drop('description', 1)"
   ]
  },
  {
   "cell_type": "markdown",
   "metadata": {},
   "source": [
    "## 13. mileage"
   ]
  },
  {
   "cell_type": "code",
   "execution_count": 243,
   "metadata": {
    "execution": {
     "iopub.execute_input": "2021-06-10T14:12:02.624903Z",
     "iopub.status.busy": "2021-06-10T14:12:02.62453Z",
     "iopub.status.idle": "2021-06-10T14:12:02.640536Z",
     "shell.execute_reply": "2021-06-10T14:12:02.639224Z",
     "shell.execute_reply.started": "2021-06-10T14:12:02.62487Z"
    }
   },
   "outputs": [
    {
     "data": {
      "text/plain": [
       "200000    1607\n",
       "150000    1578\n",
       "180000    1327\n",
       "250000    1288\n",
       "160000    1280\n",
       "          ... \n",
       "6733         1\n",
       "590          1\n",
       "64081        1\n",
       "307800       1\n",
       "6147         1\n",
       "Name: mileage, Length: 31010, dtype: int64"
      ]
     },
     "execution_count": 243,
     "metadata": {},
     "output_type": "execute_result"
    }
   ],
   "source": [
    "data['mileage'].value_counts()"
   ]
  },
  {
   "cell_type": "code",
   "execution_count": 244,
   "metadata": {
    "execution": {
     "iopub.execute_input": "2021-06-10T14:12:03.214066Z",
     "iopub.status.busy": "2021-06-10T14:12:03.213713Z",
     "iopub.status.idle": "2021-06-10T14:12:03.222201Z",
     "shell.execute_reply": "2021-06-10T14:12:03.220907Z",
     "shell.execute_reply.started": "2021-06-10T14:12:03.214034Z"
    }
   },
   "outputs": [
    {
     "data": {
      "text/plain": [
       "0"
      ]
     },
     "execution_count": 244,
     "metadata": {},
     "output_type": "execute_result"
    }
   ],
   "source": [
    "# Удостоверимся, что нет пропусков:\n",
    "data['mileage'].isna().sum()"
   ]
  },
  {
   "cell_type": "code",
   "execution_count": 245,
   "metadata": {
    "execution": {
     "iopub.execute_input": "2021-06-10T14:12:03.523063Z",
     "iopub.status.busy": "2021-06-10T14:12:03.522672Z",
     "iopub.status.idle": "2021-06-10T14:12:04.151236Z",
     "shell.execute_reply": "2021-06-10T14:12:04.150138Z",
     "shell.execute_reply.started": "2021-06-10T14:12:03.523024Z"
    }
   },
   "outputs": [
    {
     "data": {
      "image/png": "[encoded data removed]",
      "text/plain": [
       "<Figure size 432x288 with 1 Axes>"
      ]
     },
     "metadata": {
      "needs_background": "light"
     },
     "output_type": "display_data"
    },
    {
     "data": {
      "image/png": "[encoded data removed]",
      "text/plain": [
       "<Figure size 432x288 with 1 Axes>"
      ]
     },
     "metadata": {
      "needs_background": "light"
     },
     "output_type": "display_data"
    }
   ],
   "source": [
    "# Посмотрим на распределение признака:\n",
    "visualizing_number(data['mileage'])"
   ]
  },
  {
   "cell_type": "markdown",
   "metadata": {},
   "source": [
    "Распределение смещено влево. Возможно, в будущем понадобится логарифмирование для улучшения распределения."
   ]
  },
  {
   "cell_type": "code",
   "execution_count": 246,
   "metadata": {
    "execution": {
     "iopub.execute_input": "2021-06-10T14:12:04.38157Z",
     "iopub.status.busy": "2021-06-10T14:12:04.381192Z",
     "iopub.status.idle": "2021-06-10T14:12:04.397291Z",
     "shell.execute_reply": "2021-06-10T14:12:04.396216Z",
     "shell.execute_reply.started": "2021-06-10T14:12:04.381537Z"
    }
   },
   "outputs": [
    {
     "data": {
      "text/plain": [
       "(3872, -83500.0, 368500.0)"
      ]
     },
     "execution_count": 246,
     "metadata": {},
     "output_type": "execute_result"
    }
   ],
   "source": [
    "# Посмотрим на выбросы:\n",
    "get_outliers(data['mileage'])"
   ]
  },
  {
   "cell_type": "code",
   "execution_count": 247,
   "metadata": {
    "execution": {
     "iopub.execute_input": "2021-06-10T14:12:04.787025Z",
     "iopub.status.busy": "2021-06-10T14:12:04.786618Z",
     "iopub.status.idle": "2021-06-10T14:12:04.802665Z",
     "shell.execute_reply": "2021-06-10T14:12:04.80161Z",
     "shell.execute_reply.started": "2021-06-10T14:12:04.786991Z"
    }
   },
   "outputs": [
    {
     "data": {
      "text/plain": [
       "count     140906.000000\n",
       "mean      150752.946475\n",
       "std        94157.563419\n",
       "min            1.000000\n",
       "25%        86000.000000\n",
       "50%       137000.000000\n",
       "75%       199000.000000\n",
       "max      1000000.000000\n",
       "Name: mileage, dtype: float64"
      ]
     },
     "execution_count": 247,
     "metadata": {},
     "output_type": "execute_result"
    }
   ],
   "source": [
    "data['mileage'].describe()"
   ]
  },
  {
   "cell_type": "markdown",
   "metadata": {},
   "source": [
    "Отрицательных значений в признаке нет. При этом по интерквартильному методу было определено 3872 выброса. Максимальный выброс - 1000000 км. "
   ]
  },
  {
   "cell_type": "code",
   "execution_count": 248,
   "metadata": {
    "execution": {
     "iopub.execute_input": "2021-06-10T14:12:05.611767Z",
     "iopub.status.busy": "2021-06-10T14:12:05.611341Z",
     "iopub.status.idle": "2021-06-10T14:12:05.66676Z",
     "shell.execute_reply": "2021-06-10T14:12:05.665734Z",
     "shell.execute_reply.started": "2021-06-10T14:12:05.61173Z"
    }
   },
   "outputs": [
    {
     "data": {
      "text/html": [
       "<div>\n",
       "<style scoped>\n",
       "    .dataframe tbody tr th:only-of-type {\n",
       "        vertical-align: middle;\n",
       "    }\n",
       "\n",
       "    .dataframe tbody tr th {\n",
       "        vertical-align: top;\n",
       "    }\n",
       "\n",
       "    .dataframe thead th {\n",
       "        text-align: right;\n",
       "    }\n",
       "</style>\n",
       "<table border=\"1\" class=\"dataframe\">\n",
       "  <thead>\n",
       "    <tr style=\"text-align: right;\">\n",
       "      <th></th>\n",
       "      <th>sell_id</th>\n",
       "      <th>body_type</th>\n",
       "      <th>brand</th>\n",
       "      <th>color</th>\n",
       "      <th>fuel_type</th>\n",
       "      <th>model_age</th>\n",
       "      <th>number_of_doors</th>\n",
       "      <th>car_age</th>\n",
       "      <th>vehicle_configuration</th>\n",
       "      <th>engine_volume</th>\n",
       "      <th>...</th>\n",
       "      <th>mileage</th>\n",
       "      <th>type_of_drive</th>\n",
       "      <th>steering_wheel</th>\n",
       "      <th>owners_qty</th>\n",
       "      <th>licence</th>\n",
       "      <th>customs</th>\n",
       "      <th>ownership_time</th>\n",
       "      <th>price</th>\n",
       "      <th>sample</th>\n",
       "      <th>transmission</th>\n",
       "    </tr>\n",
       "  </thead>\n",
       "  <tbody>\n",
       "    <tr>\n",
       "      <th>4647</th>\n",
       "      <td>1.101251e+09</td>\n",
       "      <td>sedan</td>\n",
       "      <td>AUDI</td>\n",
       "      <td>grey</td>\n",
       "      <td>petrol</td>\n",
       "      <td>34</td>\n",
       "      <td>4</td>\n",
       "      <td>30</td>\n",
       "      <td>mechanical</td>\n",
       "      <td>1.8</td>\n",
       "      <td>...</td>\n",
       "      <td>1000000</td>\n",
       "      <td>передний</td>\n",
       "      <td>Левый</td>\n",
       "      <td>3</td>\n",
       "      <td>Дубликат</td>\n",
       "      <td>Растаможен</td>\n",
       "      <td>NaN</td>\n",
       "      <td>NaN</td>\n",
       "      <td>0</td>\n",
       "      <td>MT</td>\n",
       "    </tr>\n",
       "    <tr>\n",
       "      <th>6568</th>\n",
       "      <td>1.099397e+09</td>\n",
       "      <td>sedan</td>\n",
       "      <td>VOLVO</td>\n",
       "      <td>light_blue</td>\n",
       "      <td>petrol</td>\n",
       "      <td>46</td>\n",
       "      <td>4</td>\n",
       "      <td>42</td>\n",
       "      <td>mechanical</td>\n",
       "      <td>2.0</td>\n",
       "      <td>...</td>\n",
       "      <td>1000000</td>\n",
       "      <td>задний</td>\n",
       "      <td>Левый</td>\n",
       "      <td>3</td>\n",
       "      <td>Оригинал</td>\n",
       "      <td>Растаможен</td>\n",
       "      <td>2 года и 3 месяца</td>\n",
       "      <td>NaN</td>\n",
       "      <td>0</td>\n",
       "      <td>MT</td>\n",
       "    </tr>\n",
       "    <tr>\n",
       "      <th>9463</th>\n",
       "      <td>1.092626e+09</td>\n",
       "      <td>sedan</td>\n",
       "      <td>BMW</td>\n",
       "      <td>black</td>\n",
       "      <td>petrol</td>\n",
       "      <td>34</td>\n",
       "      <td>4</td>\n",
       "      <td>31</td>\n",
       "      <td>mechanical</td>\n",
       "      <td>3.0</td>\n",
       "      <td>...</td>\n",
       "      <td>1000000</td>\n",
       "      <td>задний</td>\n",
       "      <td>Левый</td>\n",
       "      <td>1</td>\n",
       "      <td>Дубликат</td>\n",
       "      <td>Растаможен</td>\n",
       "      <td>NaN</td>\n",
       "      <td>NaN</td>\n",
       "      <td>0</td>\n",
       "      <td>MT</td>\n",
       "    </tr>\n",
       "    <tr>\n",
       "      <th>9888</th>\n",
       "      <td>1.099210e+09</td>\n",
       "      <td>sedan</td>\n",
       "      <td>BMW</td>\n",
       "      <td>grey</td>\n",
       "      <td>petrol</td>\n",
       "      <td>33</td>\n",
       "      <td>4</td>\n",
       "      <td>31</td>\n",
       "      <td>mechanical</td>\n",
       "      <td>2.0</td>\n",
       "      <td>...</td>\n",
       "      <td>1000000</td>\n",
       "      <td>задний</td>\n",
       "      <td>Левый</td>\n",
       "      <td>3</td>\n",
       "      <td>Дубликат</td>\n",
       "      <td>Растаможен</td>\n",
       "      <td>2 года и 5 месяцев</td>\n",
       "      <td>NaN</td>\n",
       "      <td>0</td>\n",
       "      <td>MT</td>\n",
       "    </tr>\n",
       "    <tr>\n",
       "      <th>17203</th>\n",
       "      <td>1.100909e+09</td>\n",
       "      <td>sedan</td>\n",
       "      <td>MERCEDES</td>\n",
       "      <td>beige</td>\n",
       "      <td>petrol</td>\n",
       "      <td>36</td>\n",
       "      <td>4</td>\n",
       "      <td>33</td>\n",
       "      <td>mechanical</td>\n",
       "      <td>2.3</td>\n",
       "      <td>...</td>\n",
       "      <td>1000000</td>\n",
       "      <td>задний</td>\n",
       "      <td>Левый</td>\n",
       "      <td>3</td>\n",
       "      <td>Оригинал</td>\n",
       "      <td>Растаможен</td>\n",
       "      <td>2 года и 7 месяцев</td>\n",
       "      <td>NaN</td>\n",
       "      <td>0</td>\n",
       "      <td>MT</td>\n",
       "    </tr>\n",
       "    <tr>\n",
       "      <th>18308</th>\n",
       "      <td>1.100087e+09</td>\n",
       "      <td>sedan</td>\n",
       "      <td>MERCEDES</td>\n",
       "      <td>grey</td>\n",
       "      <td>petrol</td>\n",
       "      <td>29</td>\n",
       "      <td>4</td>\n",
       "      <td>29</td>\n",
       "      <td>automatic</td>\n",
       "      <td>4.2</td>\n",
       "      <td>...</td>\n",
       "      <td>1000000</td>\n",
       "      <td>задний</td>\n",
       "      <td>Левый</td>\n",
       "      <td>3</td>\n",
       "      <td>Дубликат</td>\n",
       "      <td>Растаможен</td>\n",
       "      <td>NaN</td>\n",
       "      <td>NaN</td>\n",
       "      <td>0</td>\n",
       "      <td>AT</td>\n",
       "    </tr>\n",
       "    <tr>\n",
       "      <th>20164</th>\n",
       "      <td>1.079566e+09</td>\n",
       "      <td>coupe</td>\n",
       "      <td>TOYOTA</td>\n",
       "      <td>black</td>\n",
       "      <td>petrol</td>\n",
       "      <td>29</td>\n",
       "      <td>2</td>\n",
       "      <td>27</td>\n",
       "      <td>mechanical</td>\n",
       "      <td>1.6</td>\n",
       "      <td>...</td>\n",
       "      <td>1000000</td>\n",
       "      <td>передний</td>\n",
       "      <td>Правый</td>\n",
       "      <td>3</td>\n",
       "      <td>Дубликат</td>\n",
       "      <td>Растаможен</td>\n",
       "      <td>NaN</td>\n",
       "      <td>NaN</td>\n",
       "      <td>0</td>\n",
       "      <td>MT</td>\n",
       "    </tr>\n",
       "    <tr>\n",
       "      <th>21459</th>\n",
       "      <td>1.098548e+09</td>\n",
       "      <td>SUV</td>\n",
       "      <td>TOYOTA</td>\n",
       "      <td>purple</td>\n",
       "      <td>diesel</td>\n",
       "      <td>31</td>\n",
       "      <td>5</td>\n",
       "      <td>26</td>\n",
       "      <td>automatic</td>\n",
       "      <td>4.2</td>\n",
       "      <td>...</td>\n",
       "      <td>1000000</td>\n",
       "      <td>полный</td>\n",
       "      <td>Левый</td>\n",
       "      <td>3</td>\n",
       "      <td>Дубликат</td>\n",
       "      <td>Растаможен</td>\n",
       "      <td>4 года</td>\n",
       "      <td>NaN</td>\n",
       "      <td>0</td>\n",
       "      <td>AT</td>\n",
       "    </tr>\n",
       "    <tr>\n",
       "      <th>25168</th>\n",
       "      <td>1.100720e+09</td>\n",
       "      <td>minivan</td>\n",
       "      <td>VOLKSWAGEN</td>\n",
       "      <td>white</td>\n",
       "      <td>petrol</td>\n",
       "      <td>41</td>\n",
       "      <td>3</td>\n",
       "      <td>36</td>\n",
       "      <td>automatic</td>\n",
       "      <td>2.1</td>\n",
       "      <td>...</td>\n",
       "      <td>1000000</td>\n",
       "      <td>задний</td>\n",
       "      <td>Левый</td>\n",
       "      <td>1</td>\n",
       "      <td>Дубликат</td>\n",
       "      <td>Растаможен</td>\n",
       "      <td>NaN</td>\n",
       "      <td>NaN</td>\n",
       "      <td>0</td>\n",
       "      <td>AT</td>\n",
       "    </tr>\n",
       "    <tr>\n",
       "      <th>25464</th>\n",
       "      <td>1.100471e+09</td>\n",
       "      <td>sedan</td>\n",
       "      <td>VOLKSWAGEN</td>\n",
       "      <td>white</td>\n",
       "      <td>petrol</td>\n",
       "      <td>36</td>\n",
       "      <td>4</td>\n",
       "      <td>30</td>\n",
       "      <td>mechanical</td>\n",
       "      <td>1.8</td>\n",
       "      <td>...</td>\n",
       "      <td>1000000</td>\n",
       "      <td>передний</td>\n",
       "      <td>Левый</td>\n",
       "      <td>2</td>\n",
       "      <td>Оригинал</td>\n",
       "      <td>Растаможен</td>\n",
       "      <td>NaN</td>\n",
       "      <td>NaN</td>\n",
       "      <td>0</td>\n",
       "      <td>MT</td>\n",
       "    </tr>\n",
       "    <tr>\n",
       "      <th>28391</th>\n",
       "      <td>1.101248e+09</td>\n",
       "      <td>hatchback</td>\n",
       "      <td>MITSUBISHI</td>\n",
       "      <td>grey</td>\n",
       "      <td>petrol</td>\n",
       "      <td>21</td>\n",
       "      <td>5</td>\n",
       "      <td>17</td>\n",
       "      <td>automatic</td>\n",
       "      <td>1.6</td>\n",
       "      <td>...</td>\n",
       "      <td>1000000</td>\n",
       "      <td>передний</td>\n",
       "      <td>Левый</td>\n",
       "      <td>3</td>\n",
       "      <td>Дубликат</td>\n",
       "      <td>Растаможен</td>\n",
       "      <td>NaN</td>\n",
       "      <td>NaN</td>\n",
       "      <td>0</td>\n",
       "      <td>AT</td>\n",
       "    </tr>\n",
       "    <tr>\n",
       "      <th>42095</th>\n",
       "      <td>NaN</td>\n",
       "      <td>sedan</td>\n",
       "      <td>BMW</td>\n",
       "      <td>silver</td>\n",
       "      <td>petrol</td>\n",
       "      <td>25</td>\n",
       "      <td>4</td>\n",
       "      <td>23</td>\n",
       "      <td>mechanical</td>\n",
       "      <td>2.2</td>\n",
       "      <td>...</td>\n",
       "      <td>1000000</td>\n",
       "      <td>задний</td>\n",
       "      <td>LEFT</td>\n",
       "      <td>3</td>\n",
       "      <td>DUPLICATE</td>\n",
       "      <td>True</td>\n",
       "      <td>NaN</td>\n",
       "      <td>325000.0</td>\n",
       "      <td>1</td>\n",
       "      <td>MT</td>\n",
       "    </tr>\n",
       "    <tr>\n",
       "      <th>43050</th>\n",
       "      <td>NaN</td>\n",
       "      <td>sedan</td>\n",
       "      <td>BMW</td>\n",
       "      <td>black</td>\n",
       "      <td>petrol</td>\n",
       "      <td>25</td>\n",
       "      <td>4</td>\n",
       "      <td>21</td>\n",
       "      <td>mechanical</td>\n",
       "      <td>2.2</td>\n",
       "      <td>...</td>\n",
       "      <td>1000000</td>\n",
       "      <td>задний</td>\n",
       "      <td>LEFT</td>\n",
       "      <td>3</td>\n",
       "      <td>ORIGINAL</td>\n",
       "      <td>True</td>\n",
       "      <td>NaN</td>\n",
       "      <td>280000.0</td>\n",
       "      <td>1</td>\n",
       "      <td>MT</td>\n",
       "    </tr>\n",
       "    <tr>\n",
       "      <th>45706</th>\n",
       "      <td>NaN</td>\n",
       "      <td>SUV</td>\n",
       "      <td>BMW</td>\n",
       "      <td>white</td>\n",
       "      <td>diesel</td>\n",
       "      <td>14</td>\n",
       "      <td>5</td>\n",
       "      <td>11</td>\n",
       "      <td>automatic</td>\n",
       "      <td>2.2</td>\n",
       "      <td>...</td>\n",
       "      <td>1000000</td>\n",
       "      <td>полный</td>\n",
       "      <td>LEFT</td>\n",
       "      <td>1</td>\n",
       "      <td>ORIGINAL</td>\n",
       "      <td>True</td>\n",
       "      <td>{'year': 2012, 'month': 6}</td>\n",
       "      <td>1250000.0</td>\n",
       "      <td>1</td>\n",
       "      <td>AT</td>\n",
       "    </tr>\n",
       "    <tr>\n",
       "      <th>51618</th>\n",
       "      <td>NaN</td>\n",
       "      <td>sedan</td>\n",
       "      <td>MERCEDES</td>\n",
       "      <td>grey</td>\n",
       "      <td>petrol</td>\n",
       "      <td>38</td>\n",
       "      <td>4</td>\n",
       "      <td>35</td>\n",
       "      <td>mechanical</td>\n",
       "      <td>2.0</td>\n",
       "      <td>...</td>\n",
       "      <td>1000000</td>\n",
       "      <td>задний</td>\n",
       "      <td>LEFT</td>\n",
       "      <td>3</td>\n",
       "      <td>DUPLICATE</td>\n",
       "      <td>True</td>\n",
       "      <td>NaN</td>\n",
       "      <td>160000.0</td>\n",
       "      <td>1</td>\n",
       "      <td>MT</td>\n",
       "    </tr>\n",
       "    <tr>\n",
       "      <th>55309</th>\n",
       "      <td>NaN</td>\n",
       "      <td>SUV</td>\n",
       "      <td>MERCEDES</td>\n",
       "      <td>black</td>\n",
       "      <td>petrol</td>\n",
       "      <td>41</td>\n",
       "      <td>3</td>\n",
       "      <td>35</td>\n",
       "      <td>mechanical</td>\n",
       "      <td>2.2</td>\n",
       "      <td>...</td>\n",
       "      <td>1000000</td>\n",
       "      <td>полный</td>\n",
       "      <td>LEFT</td>\n",
       "      <td>1</td>\n",
       "      <td>ORIGINAL</td>\n",
       "      <td>True</td>\n",
       "      <td>NaN</td>\n",
       "      <td>350000.0</td>\n",
       "      <td>1</td>\n",
       "      <td>MT</td>\n",
       "    </tr>\n",
       "    <tr>\n",
       "      <th>59143</th>\n",
       "      <td>NaN</td>\n",
       "      <td>minivan</td>\n",
       "      <td>MERCEDES</td>\n",
       "      <td>black</td>\n",
       "      <td>petrol</td>\n",
       "      <td>24</td>\n",
       "      <td>4</td>\n",
       "      <td>23</td>\n",
       "      <td>mechanical</td>\n",
       "      <td>2.2</td>\n",
       "      <td>...</td>\n",
       "      <td>1000000</td>\n",
       "      <td>передний</td>\n",
       "      <td>LEFT</td>\n",
       "      <td>3</td>\n",
       "      <td>DUPLICATE</td>\n",
       "      <td>True</td>\n",
       "      <td>NaN</td>\n",
       "      <td>365000.0</td>\n",
       "      <td>1</td>\n",
       "      <td>MT</td>\n",
       "    </tr>\n",
       "    <tr>\n",
       "      <th>62548</th>\n",
       "      <td>NaN</td>\n",
       "      <td>SUV</td>\n",
       "      <td>MITSUBISHI</td>\n",
       "      <td>green</td>\n",
       "      <td>petrol</td>\n",
       "      <td>29</td>\n",
       "      <td>5</td>\n",
       "      <td>25</td>\n",
       "      <td>automatic</td>\n",
       "      <td>3.0</td>\n",
       "      <td>...</td>\n",
       "      <td>1000000</td>\n",
       "      <td>полный</td>\n",
       "      <td>LEFT</td>\n",
       "      <td>3</td>\n",
       "      <td>ORIGINAL</td>\n",
       "      <td>True</td>\n",
       "      <td>{'year': 2013, 'month': 1}</td>\n",
       "      <td>100000.0</td>\n",
       "      <td>1</td>\n",
       "      <td>AT</td>\n",
       "    </tr>\n",
       "    <tr>\n",
       "      <th>63350</th>\n",
       "      <td>NaN</td>\n",
       "      <td>compact_van</td>\n",
       "      <td>MITSUBISHI</td>\n",
       "      <td>black</td>\n",
       "      <td>petrol</td>\n",
       "      <td>23</td>\n",
       "      <td>5</td>\n",
       "      <td>22</td>\n",
       "      <td>mechanical</td>\n",
       "      <td>2.0</td>\n",
       "      <td>...</td>\n",
       "      <td>1000000</td>\n",
       "      <td>полный</td>\n",
       "      <td>RIGHT</td>\n",
       "      <td>3</td>\n",
       "      <td>DUPLICATE</td>\n",
       "      <td>True</td>\n",
       "      <td>NaN</td>\n",
       "      <td>330000.0</td>\n",
       "      <td>1</td>\n",
       "      <td>MT</td>\n",
       "    </tr>\n",
       "    <tr>\n",
       "      <th>76438</th>\n",
       "      <td>NaN</td>\n",
       "      <td>coupe</td>\n",
       "      <td>TOYOTA</td>\n",
       "      <td>black</td>\n",
       "      <td>petrol</td>\n",
       "      <td>29</td>\n",
       "      <td>2</td>\n",
       "      <td>27</td>\n",
       "      <td>mechanical</td>\n",
       "      <td>1.6</td>\n",
       "      <td>...</td>\n",
       "      <td>1000000</td>\n",
       "      <td>передний</td>\n",
       "      <td>RIGHT</td>\n",
       "      <td>3</td>\n",
       "      <td>DUPLICATE</td>\n",
       "      <td>True</td>\n",
       "      <td>NaN</td>\n",
       "      <td>100000.0</td>\n",
       "      <td>1</td>\n",
       "      <td>MT</td>\n",
       "    </tr>\n",
       "    <tr>\n",
       "      <th>77852</th>\n",
       "      <td>NaN</td>\n",
       "      <td>SUV</td>\n",
       "      <td>TOYOTA</td>\n",
       "      <td>white</td>\n",
       "      <td>diesel</td>\n",
       "      <td>36</td>\n",
       "      <td>3</td>\n",
       "      <td>33</td>\n",
       "      <td>mechanical</td>\n",
       "      <td>2.5</td>\n",
       "      <td>...</td>\n",
       "      <td>1000000</td>\n",
       "      <td>полный</td>\n",
       "      <td>LEFT</td>\n",
       "      <td>3</td>\n",
       "      <td>DUPLICATE</td>\n",
       "      <td>True</td>\n",
       "      <td>NaN</td>\n",
       "      <td>350000.0</td>\n",
       "      <td>1</td>\n",
       "      <td>MT</td>\n",
       "    </tr>\n",
       "    <tr>\n",
       "      <th>78344</th>\n",
       "      <td>NaN</td>\n",
       "      <td>SUV</td>\n",
       "      <td>TOYOTA</td>\n",
       "      <td>blue</td>\n",
       "      <td>petrol</td>\n",
       "      <td>24</td>\n",
       "      <td>5</td>\n",
       "      <td>23</td>\n",
       "      <td>mechanical</td>\n",
       "      <td>3.4</td>\n",
       "      <td>...</td>\n",
       "      <td>1000000</td>\n",
       "      <td>полный</td>\n",
       "      <td>LEFT</td>\n",
       "      <td>1</td>\n",
       "      <td>ORIGINAL</td>\n",
       "      <td>True</td>\n",
       "      <td>{'year': 1998, 'month': 3}</td>\n",
       "      <td>440000.0</td>\n",
       "      <td>1</td>\n",
       "      <td>MT</td>\n",
       "    </tr>\n",
       "    <tr>\n",
       "      <th>78658</th>\n",
       "      <td>NaN</td>\n",
       "      <td>sedan_hardtop</td>\n",
       "      <td>TOYOTA</td>\n",
       "      <td>brown</td>\n",
       "      <td>petrol</td>\n",
       "      <td>32</td>\n",
       "      <td>4</td>\n",
       "      <td>30</td>\n",
       "      <td>automatic</td>\n",
       "      <td>2.0</td>\n",
       "      <td>...</td>\n",
       "      <td>1000000</td>\n",
       "      <td>задний</td>\n",
       "      <td>RIGHT</td>\n",
       "      <td>3</td>\n",
       "      <td>DUPLICATE</td>\n",
       "      <td>True</td>\n",
       "      <td>NaN</td>\n",
       "      <td>270000.0</td>\n",
       "      <td>1</td>\n",
       "      <td>AT</td>\n",
       "    </tr>\n",
       "    <tr>\n",
       "      <th>83896</th>\n",
       "      <td>NaN</td>\n",
       "      <td>sedan</td>\n",
       "      <td>VOLKSWAGEN</td>\n",
       "      <td>red</td>\n",
       "      <td>petrol</td>\n",
       "      <td>32</td>\n",
       "      <td>4</td>\n",
       "      <td>32</td>\n",
       "      <td>mechanical</td>\n",
       "      <td>1.8</td>\n",
       "      <td>...</td>\n",
       "      <td>1000000</td>\n",
       "      <td>передний</td>\n",
       "      <td>LEFT</td>\n",
       "      <td>3</td>\n",
       "      <td>ORIGINAL</td>\n",
       "      <td>True</td>\n",
       "      <td>NaN</td>\n",
       "      <td>25000.0</td>\n",
       "      <td>1</td>\n",
       "      <td>MT</td>\n",
       "    </tr>\n",
       "    <tr>\n",
       "      <th>87493</th>\n",
       "      <td>NaN</td>\n",
       "      <td>minivan</td>\n",
       "      <td>VOLKSWAGEN</td>\n",
       "      <td>white</td>\n",
       "      <td>petrol</td>\n",
       "      <td>41</td>\n",
       "      <td>3</td>\n",
       "      <td>30</td>\n",
       "      <td>automatic</td>\n",
       "      <td>1.9</td>\n",
       "      <td>...</td>\n",
       "      <td>1000000</td>\n",
       "      <td>задний</td>\n",
       "      <td>LEFT</td>\n",
       "      <td>3</td>\n",
       "      <td>ORIGINAL</td>\n",
       "      <td>True</td>\n",
       "      <td>NaN</td>\n",
       "      <td>130000.0</td>\n",
       "      <td>1</td>\n",
       "      <td>AT</td>\n",
       "    </tr>\n",
       "    <tr>\n",
       "      <th>94511</th>\n",
       "      <td>NaN</td>\n",
       "      <td>sedan</td>\n",
       "      <td>BMW</td>\n",
       "      <td>black</td>\n",
       "      <td>petrol</td>\n",
       "      <td>20</td>\n",
       "      <td>4</td>\n",
       "      <td>18</td>\n",
       "      <td>mechanical</td>\n",
       "      <td>2.2</td>\n",
       "      <td>...</td>\n",
       "      <td>1000000</td>\n",
       "      <td>задний</td>\n",
       "      <td>LEFT</td>\n",
       "      <td>3</td>\n",
       "      <td>ORIGINAL</td>\n",
       "      <td>True</td>\n",
       "      <td>NaN</td>\n",
       "      <td>355000.0</td>\n",
       "      <td>1</td>\n",
       "      <td>MT</td>\n",
       "    </tr>\n",
       "    <tr>\n",
       "      <th>98442</th>\n",
       "      <td>NaN</td>\n",
       "      <td>sedan</td>\n",
       "      <td>BMW</td>\n",
       "      <td>black</td>\n",
       "      <td>petrol</td>\n",
       "      <td>33</td>\n",
       "      <td>4</td>\n",
       "      <td>29</td>\n",
       "      <td>mechanical</td>\n",
       "      <td>2.2</td>\n",
       "      <td>...</td>\n",
       "      <td>1000000</td>\n",
       "      <td>задний</td>\n",
       "      <td>LEFT</td>\n",
       "      <td>3</td>\n",
       "      <td>DUPLICATE</td>\n",
       "      <td>True</td>\n",
       "      <td>NaN</td>\n",
       "      <td>110000.0</td>\n",
       "      <td>1</td>\n",
       "      <td>MT</td>\n",
       "    </tr>\n",
       "    <tr>\n",
       "      <th>101500</th>\n",
       "      <td>NaN</td>\n",
       "      <td>sedan</td>\n",
       "      <td>TOYOTA</td>\n",
       "      <td>white</td>\n",
       "      <td>petrol</td>\n",
       "      <td>37</td>\n",
       "      <td>4</td>\n",
       "      <td>35</td>\n",
       "      <td>automatic</td>\n",
       "      <td>2.0</td>\n",
       "      <td>...</td>\n",
       "      <td>1000000</td>\n",
       "      <td>задний</td>\n",
       "      <td>RIGHT</td>\n",
       "      <td>3</td>\n",
       "      <td>DUPLICATE</td>\n",
       "      <td>True</td>\n",
       "      <td>{'year': 2018, 'month': 12}</td>\n",
       "      <td>270000.0</td>\n",
       "      <td>1</td>\n",
       "      <td>AT</td>\n",
       "    </tr>\n",
       "    <tr>\n",
       "      <th>105299</th>\n",
       "      <td>NaN</td>\n",
       "      <td>coupe</td>\n",
       "      <td>AUDI</td>\n",
       "      <td>red</td>\n",
       "      <td>petrol</td>\n",
       "      <td>17</td>\n",
       "      <td>2</td>\n",
       "      <td>16</td>\n",
       "      <td>automatic</td>\n",
       "      <td>1.8</td>\n",
       "      <td>...</td>\n",
       "      <td>1000000</td>\n",
       "      <td>передний</td>\n",
       "      <td>RIGHT</td>\n",
       "      <td>3</td>\n",
       "      <td>DUPLICATE</td>\n",
       "      <td>True</td>\n",
       "      <td>{'year': 2011, 'month': 6}</td>\n",
       "      <td>420000.0</td>\n",
       "      <td>1</td>\n",
       "      <td>AT</td>\n",
       "    </tr>\n",
       "    <tr>\n",
       "      <th>105401</th>\n",
       "      <td>NaN</td>\n",
       "      <td>sedan</td>\n",
       "      <td>BMW</td>\n",
       "      <td>black</td>\n",
       "      <td>petrol</td>\n",
       "      <td>33</td>\n",
       "      <td>4</td>\n",
       "      <td>29</td>\n",
       "      <td>mechanical</td>\n",
       "      <td>2.2</td>\n",
       "      <td>...</td>\n",
       "      <td>1000000</td>\n",
       "      <td>задний</td>\n",
       "      <td>LEFT</td>\n",
       "      <td>3</td>\n",
       "      <td>DUPLICATE</td>\n",
       "      <td>True</td>\n",
       "      <td>NaN</td>\n",
       "      <td>110000.0</td>\n",
       "      <td>1</td>\n",
       "      <td>MT</td>\n",
       "    </tr>\n",
       "    <tr>\n",
       "      <th>119913</th>\n",
       "      <td>NaN</td>\n",
       "      <td>sedan</td>\n",
       "      <td>BMW</td>\n",
       "      <td>grey</td>\n",
       "      <td>petrol</td>\n",
       "      <td>34</td>\n",
       "      <td>4</td>\n",
       "      <td>31</td>\n",
       "      <td>mechanical</td>\n",
       "      <td>2.2</td>\n",
       "      <td>...</td>\n",
       "      <td>1000000</td>\n",
       "      <td>задний</td>\n",
       "      <td>LEFT</td>\n",
       "      <td>3</td>\n",
       "      <td>ORIGINAL</td>\n",
       "      <td>True</td>\n",
       "      <td>{'year': 2019, 'month': 12}</td>\n",
       "      <td>75000.0</td>\n",
       "      <td>1</td>\n",
       "      <td>MT</td>\n",
       "    </tr>\n",
       "    <tr>\n",
       "      <th>132811</th>\n",
       "      <td>NaN</td>\n",
       "      <td>sedan</td>\n",
       "      <td>VOLKSWAGEN</td>\n",
       "      <td>grey</td>\n",
       "      <td>petrol</td>\n",
       "      <td>32</td>\n",
       "      <td>4</td>\n",
       "      <td>31</td>\n",
       "      <td>mechanical</td>\n",
       "      <td>1.8</td>\n",
       "      <td>...</td>\n",
       "      <td>1000000</td>\n",
       "      <td>передний</td>\n",
       "      <td>LEFT</td>\n",
       "      <td>3</td>\n",
       "      <td>DUPLICATE</td>\n",
       "      <td>True</td>\n",
       "      <td>NaN</td>\n",
       "      <td>45000.0</td>\n",
       "      <td>1</td>\n",
       "      <td>MT</td>\n",
       "    </tr>\n",
       "  </tbody>\n",
       "</table>\n",
       "<p>32 rows × 21 columns</p>\n",
       "</div>"
      ],
      "text/plain": [
       "             sell_id      body_type       brand       color fuel_type  \\\n",
       "4647    1.101251e+09          sedan        AUDI        grey    petrol   \n",
       "6568    1.099397e+09          sedan       VOLVO  light_blue    petrol   \n",
       "9463    1.092626e+09          sedan         BMW       black    petrol   \n",
       "9888    1.099210e+09          sedan         BMW        grey    petrol   \n",
       "17203   1.100909e+09          sedan    MERCEDES       beige    petrol   \n",
       "18308   1.100087e+09          sedan    MERCEDES        grey    petrol   \n",
       "20164   1.079566e+09          coupe      TOYOTA       black    petrol   \n",
       "21459   1.098548e+09            SUV      TOYOTA      purple    diesel   \n",
       "25168   1.100720e+09        minivan  VOLKSWAGEN       white    petrol   \n",
       "25464   1.100471e+09          sedan  VOLKSWAGEN       white    petrol   \n",
       "28391   1.101248e+09      hatchback  MITSUBISHI        grey    petrol   \n",
       "42095            NaN          sedan         BMW      silver    petrol   \n",
       "43050            NaN          sedan         BMW       black    petrol   \n",
       "45706            NaN            SUV         BMW       white    diesel   \n",
       "51618            NaN          sedan    MERCEDES        grey    petrol   \n",
       "55309            NaN            SUV    MERCEDES       black    petrol   \n",
       "59143            NaN        minivan    MERCEDES       black    petrol   \n",
       "62548            NaN            SUV  MITSUBISHI       green    petrol   \n",
       "63350            NaN    compact_van  MITSUBISHI       black    petrol   \n",
       "76438            NaN          coupe      TOYOTA       black    petrol   \n",
       "77852            NaN            SUV      TOYOTA       white    diesel   \n",
       "78344            NaN            SUV      TOYOTA        blue    petrol   \n",
       "78658            NaN  sedan_hardtop      TOYOTA       brown    petrol   \n",
       "83896            NaN          sedan  VOLKSWAGEN         red    petrol   \n",
       "87493            NaN        minivan  VOLKSWAGEN       white    petrol   \n",
       "94511            NaN          sedan         BMW       black    petrol   \n",
       "98442            NaN          sedan         BMW       black    petrol   \n",
       "101500           NaN          sedan      TOYOTA       white    petrol   \n",
       "105299           NaN          coupe        AUDI         red    petrol   \n",
       "105401           NaN          sedan         BMW       black    petrol   \n",
       "119913           NaN          sedan         BMW        grey    petrol   \n",
       "132811           NaN          sedan  VOLKSWAGEN        grey    petrol   \n",
       "\n",
       "        model_age  number_of_doors  car_age vehicle_configuration  \\\n",
       "4647           34                4       30            mechanical   \n",
       "6568           46                4       42            mechanical   \n",
       "9463           34                4       31            mechanical   \n",
       "9888           33                4       31            mechanical   \n",
       "17203          36                4       33            mechanical   \n",
       "18308          29                4       29             automatic   \n",
       "20164          29                2       27            mechanical   \n",
       "21459          31                5       26             automatic   \n",
       "25168          41                3       36             automatic   \n",
       "25464          36                4       30            mechanical   \n",
       "28391          21                5       17             automatic   \n",
       "42095          25                4       23            mechanical   \n",
       "43050          25                4       21            mechanical   \n",
       "45706          14                5       11             automatic   \n",
       "51618          38                4       35            mechanical   \n",
       "55309          41                3       35            mechanical   \n",
       "59143          24                4       23            mechanical   \n",
       "62548          29                5       25             automatic   \n",
       "63350          23                5       22            mechanical   \n",
       "76438          29                2       27            mechanical   \n",
       "77852          36                3       33            mechanical   \n",
       "78344          24                5       23            mechanical   \n",
       "78658          32                4       30             automatic   \n",
       "83896          32                4       32            mechanical   \n",
       "87493          41                3       30             automatic   \n",
       "94511          20                4       18            mechanical   \n",
       "98442          33                4       29            mechanical   \n",
       "101500         37                4       35             automatic   \n",
       "105299         17                2       16             automatic   \n",
       "105401         33                4       29            mechanical   \n",
       "119913         34                4       31            mechanical   \n",
       "132811         32                4       31            mechanical   \n",
       "\n",
       "       engine_volume  ...  mileage  type_of_drive steering_wheel owners_qty  \\\n",
       "4647             1.8  ...  1000000       передний          Левый          3   \n",
       "6568             2.0  ...  1000000         задний          Левый          3   \n",
       "9463             3.0  ...  1000000         задний          Левый          1   \n",
       "9888             2.0  ...  1000000         задний          Левый          3   \n",
       "17203            2.3  ...  1000000         задний          Левый          3   \n",
       "18308            4.2  ...  1000000         задний          Левый          3   \n",
       "20164            1.6  ...  1000000       передний         Правый          3   \n",
       "21459            4.2  ...  1000000         полный          Левый          3   \n",
       "25168            2.1  ...  1000000         задний          Левый          1   \n",
       "25464            1.8  ...  1000000       передний          Левый          2   \n",
       "28391            1.6  ...  1000000       передний          Левый          3   \n",
       "42095            2.2  ...  1000000         задний           LEFT          3   \n",
       "43050            2.2  ...  1000000         задний           LEFT          3   \n",
       "45706            2.2  ...  1000000         полный           LEFT          1   \n",
       "51618            2.0  ...  1000000         задний           LEFT          3   \n",
       "55309            2.2  ...  1000000         полный           LEFT          1   \n",
       "59143            2.2  ...  1000000       передний           LEFT          3   \n",
       "62548            3.0  ...  1000000         полный           LEFT          3   \n",
       "63350            2.0  ...  1000000         полный          RIGHT          3   \n",
       "76438            1.6  ...  1000000       передний          RIGHT          3   \n",
       "77852            2.5  ...  1000000         полный           LEFT          3   \n",
       "78344            3.4  ...  1000000         полный           LEFT          1   \n",
       "78658            2.0  ...  1000000         задний          RIGHT          3   \n",
       "83896            1.8  ...  1000000       передний           LEFT          3   \n",
       "87493            1.9  ...  1000000         задний           LEFT          3   \n",
       "94511            2.2  ...  1000000         задний           LEFT          3   \n",
       "98442            2.2  ...  1000000         задний           LEFT          3   \n",
       "101500           2.0  ...  1000000         задний          RIGHT          3   \n",
       "105299           1.8  ...  1000000       передний          RIGHT          3   \n",
       "105401           2.2  ...  1000000         задний           LEFT          3   \n",
       "119913           2.2  ...  1000000         задний           LEFT          3   \n",
       "132811           1.8  ...  1000000       передний           LEFT          3   \n",
       "\n",
       "          licence     customs               ownership_time      price  sample  \\\n",
       "4647     Дубликат  Растаможен                          NaN        NaN       0   \n",
       "6568     Оригинал  Растаможен            2 года и 3 месяца        NaN       0   \n",
       "9463     Дубликат  Растаможен                          NaN        NaN       0   \n",
       "9888     Дубликат  Растаможен           2 года и 5 месяцев        NaN       0   \n",
       "17203    Оригинал  Растаможен           2 года и 7 месяцев        NaN       0   \n",
       "18308    Дубликат  Растаможен                          NaN        NaN       0   \n",
       "20164    Дубликат  Растаможен                          NaN        NaN       0   \n",
       "21459    Дубликат  Растаможен                       4 года        NaN       0   \n",
       "25168    Дубликат  Растаможен                          NaN        NaN       0   \n",
       "25464    Оригинал  Растаможен                          NaN        NaN       0   \n",
       "28391    Дубликат  Растаможен                          NaN        NaN       0   \n",
       "42095   DUPLICATE        True                          NaN   325000.0       1   \n",
       "43050    ORIGINAL        True                          NaN   280000.0       1   \n",
       "45706    ORIGINAL        True   {'year': 2012, 'month': 6}  1250000.0       1   \n",
       "51618   DUPLICATE        True                          NaN   160000.0       1   \n",
       "55309    ORIGINAL        True                          NaN   350000.0       1   \n",
       "59143   DUPLICATE        True                          NaN   365000.0       1   \n",
       "62548    ORIGINAL        True   {'year': 2013, 'month': 1}   100000.0       1   \n",
       "63350   DUPLICATE        True                          NaN   330000.0       1   \n",
       "76438   DUPLICATE        True                          NaN   100000.0       1   \n",
       "77852   DUPLICATE        True                          NaN   350000.0       1   \n",
       "78344    ORIGINAL        True   {'year': 1998, 'month': 3}   440000.0       1   \n",
       "78658   DUPLICATE        True                          NaN   270000.0       1   \n",
       "83896    ORIGINAL        True                          NaN    25000.0       1   \n",
       "87493    ORIGINAL        True                          NaN   130000.0       1   \n",
       "94511    ORIGINAL        True                          NaN   355000.0       1   \n",
       "98442   DUPLICATE        True                          NaN   110000.0       1   \n",
       "101500  DUPLICATE        True  {'year': 2018, 'month': 12}   270000.0       1   \n",
       "105299  DUPLICATE        True   {'year': 2011, 'month': 6}   420000.0       1   \n",
       "105401  DUPLICATE        True                          NaN   110000.0       1   \n",
       "119913   ORIGINAL        True  {'year': 2019, 'month': 12}    75000.0       1   \n",
       "132811  DUPLICATE        True                          NaN    45000.0       1   \n",
       "\n",
       "        transmission  \n",
       "4647              MT  \n",
       "6568              MT  \n",
       "9463              MT  \n",
       "9888              MT  \n",
       "17203             MT  \n",
       "18308             AT  \n",
       "20164             MT  \n",
       "21459             AT  \n",
       "25168             AT  \n",
       "25464             MT  \n",
       "28391             AT  \n",
       "42095             MT  \n",
       "43050             MT  \n",
       "45706             AT  \n",
       "51618             MT  \n",
       "55309             MT  \n",
       "59143             MT  \n",
       "62548             AT  \n",
       "63350             MT  \n",
       "76438             MT  \n",
       "77852             MT  \n",
       "78344             MT  \n",
       "78658             AT  \n",
       "83896             MT  \n",
       "87493             AT  \n",
       "94511             MT  \n",
       "98442             MT  \n",
       "101500            AT  \n",
       "105299            AT  \n",
       "105401            MT  \n",
       "119913            MT  \n",
       "132811            MT  \n",
       "\n",
       "[32 rows x 21 columns]"
      ]
     },
     "execution_count": 248,
     "metadata": {},
     "output_type": "execute_result"
    }
   ],
   "source": [
    "# Посмотрим на автомобили с пробегом 1000000км:\n",
    "data.loc[data['mileage'] == 1000000]"
   ]
  },
  {
   "cell_type": "markdown",
   "metadata": {},
   "source": [
    "Логически рассуждая, предполагаем, что автомобили с возрастом от 11 до 42 лет вполне могли проехать столько км. Считаем, что выбросов нет."
   ]
  },
  {
   "cell_type": "code",
   "execution_count": 249,
   "metadata": {
    "execution": {
     "iopub.execute_input": "2021-06-10T14:12:06.42827Z",
     "iopub.status.busy": "2021-06-10T14:12:06.427887Z",
     "iopub.status.idle": "2021-06-10T14:12:07.094315Z",
     "shell.execute_reply": "2021-06-10T14:12:07.093297Z",
     "shell.execute_reply.started": "2021-06-10T14:12:06.428234Z"
    }
   },
   "outputs": [
    {
     "data": {
      "image/png": "[encoded data removed]",
      "text/plain": [
       "<Figure size 432x288 with 1 Axes>"
      ]
     },
     "metadata": {
      "needs_background": "light"
     },
     "output_type": "display_data"
    },
    {
     "data": {
      "image/png": "[encoded data removed]",
      "text/plain": [
       "<Figure size 432x288 with 1 Axes>"
      ]
     },
     "metadata": {
      "needs_background": "light"
     },
     "output_type": "display_data"
    }
   ],
   "source": [
    "# Посмотрим распределение признака после логарифмирования,оно сместилось сильно вправо.\n",
    "# Оставим признак без изменений:\n",
    "visualizing_number(np.log(data['mileage'] + 1))"
   ]
  },
  {
   "cell_type": "code",
   "execution_count": 250,
   "metadata": {
    "execution": {
     "iopub.execute_input": "2021-06-10T14:12:07.09738Z",
     "iopub.status.busy": "2021-06-10T14:12:07.096958Z",
     "iopub.status.idle": "2021-06-10T14:12:07.102526Z",
     "shell.execute_reply": "2021-06-10T14:12:07.101157Z",
     "shell.execute_reply.started": "2021-06-10T14:12:07.097333Z"
    }
   },
   "outputs": [],
   "source": [
    "num_cols.append('mileage')"
   ]
  },
  {
   "cell_type": "markdown",
   "metadata": {},
   "source": [
    "## 14. type_of_drive"
   ]
  },
  {
   "cell_type": "code",
   "execution_count": 251,
   "metadata": {
    "execution": {
     "iopub.execute_input": "2021-06-10T14:12:07.701541Z",
     "iopub.status.busy": "2021-06-10T14:12:07.701167Z",
     "iopub.status.idle": "2021-06-10T14:12:07.741116Z",
     "shell.execute_reply": "2021-06-10T14:12:07.740047Z",
     "shell.execute_reply.started": "2021-06-10T14:12:07.701508Z"
    }
   },
   "outputs": [
    {
     "data": {
      "text/plain": [
       "полный      63378\n",
       "передний    60369\n",
       "задний      17159\n",
       "Name: type_of_drive, dtype: int64"
      ]
     },
     "execution_count": 251,
     "metadata": {},
     "output_type": "execute_result"
    }
   ],
   "source": [
    "data['type_of_drive'].value_counts()"
   ]
  },
  {
   "cell_type": "code",
   "execution_count": 252,
   "metadata": {
    "execution": {
     "iopub.execute_input": "2021-06-10T14:12:08.315632Z",
     "iopub.status.busy": "2021-06-10T14:12:08.315068Z",
     "iopub.status.idle": "2021-06-10T14:12:08.344063Z",
     "shell.execute_reply": "2021-06-10T14:12:08.343121Z",
     "shell.execute_reply.started": "2021-06-10T14:12:08.315584Z"
    }
   },
   "outputs": [],
   "source": [
    "# Унифицируем названия приводов:\n",
    "type_of_drive_dict = {'полный':'four_wheel', \n",
    "                      'передний':'front_wheel',\n",
    "                      'задний':'rear'\n",
    "                     }\n",
    "data['type_of_drive'] = data['type_of_drive'].map(type_of_drive_dict)"
   ]
  },
  {
   "cell_type": "code",
   "execution_count": 253,
   "metadata": {
    "execution": {
     "iopub.execute_input": "2021-06-10T14:12:08.619935Z",
     "iopub.status.busy": "2021-06-10T14:12:08.619588Z",
     "iopub.status.idle": "2021-06-10T14:12:08.870196Z",
     "shell.execute_reply": "2021-06-10T14:12:08.869231Z",
     "shell.execute_reply.started": "2021-06-10T14:12:08.619907Z"
    }
   },
   "outputs": [
    {
     "data": {
      "text/plain": [
       "<matplotlib.axes._subplots.AxesSubplot at 0x7feaae9f31f0>"
      ]
     },
     "execution_count": 253,
     "metadata": {},
     "output_type": "execute_result"
    },
    {
     "data": {
      "image/png": "[encoded data removed]",
      "text/plain": [
       "<Figure size 432x288 with 1 Axes>"
      ]
     },
     "metadata": {
      "needs_background": "light"
     },
     "output_type": "display_data"
    }
   ],
   "source": [
    "sns.countplot(x = data['type_of_drive'], data = data)"
   ]
  },
  {
   "cell_type": "markdown",
   "metadata": {
    "execution": {
     "iopub.execute_input": "2021-06-08T18:50:17.21869Z",
     "iopub.status.busy": "2021-06-08T18:50:17.21829Z",
     "iopub.status.idle": "2021-06-08T18:50:17.238375Z",
     "shell.execute_reply": "2021-06-08T18:50:17.237327Z",
     "shell.execute_reply.started": "2021-06-08T18:50:17.218654Z"
    }
   },
   "source": [
    "В признаке \"тип привода\" нет пропусков и все данные выглядят корректно."
   ]
  },
  {
   "cell_type": "code",
   "execution_count": 254,
   "metadata": {
    "execution": {
     "iopub.execute_input": "2021-06-10T14:12:09.479009Z",
     "iopub.status.busy": "2021-06-10T14:12:09.478666Z",
     "iopub.status.idle": "2021-06-10T14:12:09.483465Z",
     "shell.execute_reply": "2021-06-10T14:12:09.482543Z",
     "shell.execute_reply.started": "2021-06-10T14:12:09.478981Z"
    }
   },
   "outputs": [],
   "source": [
    "cat_cols.append('type_of_drive')"
   ]
  },
  {
   "cell_type": "markdown",
   "metadata": {},
   "source": [
    "## 15. steering_wheel"
   ]
  },
  {
   "cell_type": "code",
   "execution_count": 255,
   "metadata": {
    "execution": {
     "iopub.execute_input": "2021-06-10T14:12:10.252813Z",
     "iopub.status.busy": "2021-06-10T14:12:10.252458Z",
     "iopub.status.idle": "2021-06-10T14:12:10.294228Z",
     "shell.execute_reply": "2021-06-10T14:12:10.293261Z",
     "shell.execute_reply.started": "2021-06-10T14:12:10.252784Z"
    }
   },
   "outputs": [
    {
     "data": {
      "text/plain": [
       "LEFT      103498\n",
       "Левый      33287\n",
       "RIGHT       2722\n",
       "Правый      1399\n",
       "Name: steering_wheel, dtype: int64"
      ]
     },
     "execution_count": 255,
     "metadata": {},
     "output_type": "execute_result"
    }
   ],
   "source": [
    "data['steering_wheel'].value_counts()"
   ]
  },
  {
   "cell_type": "code",
   "execution_count": 256,
   "metadata": {
    "execution": {
     "iopub.execute_input": "2021-06-10T14:12:10.613694Z",
     "iopub.status.busy": "2021-06-10T14:12:10.613298Z",
     "iopub.status.idle": "2021-06-10T14:12:10.642204Z",
     "shell.execute_reply": "2021-06-10T14:12:10.641069Z",
     "shell.execute_reply.started": "2021-06-10T14:12:10.613661Z"
    }
   },
   "outputs": [],
   "source": [
    "# Приведём признак с позицией руля к единообразию:\n",
    "steering_wheel_dict = {'LEFT':'left', \n",
    "                       'Левый':'left',\n",
    "                       'RIGHT':'right', \n",
    "                       'Правый':'right',\n",
    "                        }\n",
    "data['steering_wheel'] = data['steering_wheel'].map(steering_wheel_dict)"
   ]
  },
  {
   "cell_type": "code",
   "execution_count": 257,
   "metadata": {
    "execution": {
     "iopub.execute_input": "2021-06-10T14:12:11.156892Z",
     "iopub.status.busy": "2021-06-10T14:12:11.156537Z",
     "iopub.status.idle": "2021-06-10T14:12:11.192985Z",
     "shell.execute_reply": "2021-06-10T14:12:11.191988Z",
     "shell.execute_reply.started": "2021-06-10T14:12:11.156862Z"
    }
   },
   "outputs": [
    {
     "data": {
      "text/plain": [
       "left     136785\n",
       "right      4121\n",
       "Name: steering_wheel, dtype: int64"
      ]
     },
     "execution_count": 257,
     "metadata": {},
     "output_type": "execute_result"
    }
   ],
   "source": [
    "data['steering_wheel'].value_counts()"
   ]
  },
  {
   "cell_type": "markdown",
   "metadata": {},
   "source": [
    "У нас появился первый бинарный признак."
   ]
  },
  {
   "cell_type": "code",
   "execution_count": 258,
   "metadata": {
    "execution": {
     "iopub.execute_input": "2021-06-10T14:12:12.241063Z",
     "iopub.status.busy": "2021-06-10T14:12:12.240719Z",
     "iopub.status.idle": "2021-06-10T14:12:12.246183Z",
     "shell.execute_reply": "2021-06-10T14:12:12.244973Z",
     "shell.execute_reply.started": "2021-06-10T14:12:12.241034Z"
    }
   },
   "outputs": [],
   "source": [
    "bin_cols = []\n",
    "bin_cols.append('steering_wheel')"
   ]
  },
  {
   "cell_type": "markdown",
   "metadata": {},
   "source": [
    "## 16. owners_qty"
   ]
  },
  {
   "cell_type": "code",
   "execution_count": 259,
   "metadata": {
    "execution": {
     "iopub.execute_input": "2021-06-10T14:12:13.023565Z",
     "iopub.status.busy": "2021-06-10T14:12:13.022897Z",
     "iopub.status.idle": "2021-06-10T14:12:13.059001Z",
     "shell.execute_reply": "2021-06-10T14:12:13.057903Z",
     "shell.execute_reply.started": "2021-06-10T14:12:13.02352Z"
    }
   },
   "outputs": [
    {
     "data": {
      "text/plain": [
       "3.0    43199\n",
       "1.0    32890\n",
       "2.0    30124\n",
       "3      15957\n",
       "1       9459\n",
       "2       9270\n",
       "Name: owners_qty, dtype: int64"
      ]
     },
     "execution_count": 259,
     "metadata": {},
     "output_type": "execute_result"
    }
   ],
   "source": [
    "data['owners_qty'].value_counts()"
   ]
  },
  {
   "cell_type": "code",
   "execution_count": 260,
   "metadata": {
    "execution": {
     "iopub.execute_input": "2021-06-10T14:12:13.556411Z",
     "iopub.status.busy": "2021-06-10T14:12:13.55581Z",
     "iopub.status.idle": "2021-06-10T14:12:13.72636Z",
     "shell.execute_reply": "2021-06-10T14:12:13.725551Z",
     "shell.execute_reply.started": "2021-06-10T14:12:13.556362Z"
    }
   },
   "outputs": [],
   "source": [
    "# Заполним пропуски на самое популярное значение:\n",
    "data['owners_qty'] = data['owners_qty'].fillna('3')"
   ]
  },
  {
   "cell_type": "code",
   "execution_count": 261,
   "metadata": {
    "execution": {
     "iopub.execute_input": "2021-06-10T14:12:13.890261Z",
     "iopub.status.busy": "2021-06-10T14:12:13.889914Z",
     "iopub.status.idle": "2021-06-10T14:12:13.904739Z",
     "shell.execute_reply": "2021-06-10T14:12:13.903588Z",
     "shell.execute_reply.started": "2021-06-10T14:12:13.890232Z"
    }
   },
   "outputs": [],
   "source": [
    "# Преобразуем типы данных str и float в int:\n",
    "for i in data['owners_qty']:\n",
    "    data['owners_qty'] = data['owners_qty'].astype('int')"
   ]
  },
  {
   "cell_type": "code",
   "execution_count": 262,
   "metadata": {
    "execution": {
     "iopub.execute_input": "2021-06-10T14:12:14.724978Z",
     "iopub.status.busy": "2021-06-10T14:12:14.724608Z",
     "iopub.status.idle": "2021-06-10T14:12:15.026231Z",
     "shell.execute_reply": "2021-06-10T14:12:15.025294Z",
     "shell.execute_reply.started": "2021-06-10T14:12:14.724946Z"
    }
   },
   "outputs": [
    {
     "data": {
      "text/plain": [
       "<matplotlib.axes._subplots.AxesSubplot at 0x7feaaa79d460>"
      ]
     },
     "execution_count": 262,
     "metadata": {},
     "output_type": "execute_result"
    },
    {
     "data": {
      "image/png": "[encoded data removed]",
      "text/plain": [
       "<Figure size 432x288 with 1 Axes>"
      ]
     },
     "metadata": {
      "needs_background": "light"
     },
     "output_type": "display_data"
    }
   ],
   "source": [
    "sns.countplot(x = data['owners_qty'], data = data)"
   ]
  },
  {
   "cell_type": "markdown",
   "metadata": {},
   "source": [
    "Итак, признак **owners_qty** преобразился:\n",
    "- 1 - у автомобиля был 1 владелец,\n",
    "- 2 - было 2 владельца,\n",
    "- 3 - было 3 и более владельцев."
   ]
  },
  {
   "cell_type": "code",
   "execution_count": 263,
   "metadata": {
    "execution": {
     "iopub.execute_input": "2021-06-10T14:12:15.864288Z",
     "iopub.status.busy": "2021-06-10T14:12:15.863941Z",
     "iopub.status.idle": "2021-06-10T14:12:15.869129Z",
     "shell.execute_reply": "2021-06-10T14:12:15.867845Z",
     "shell.execute_reply.started": "2021-06-10T14:12:15.864259Z"
    }
   },
   "outputs": [],
   "source": [
    "cat_cols.append('owners_qty')"
   ]
  },
  {
   "cell_type": "markdown",
   "metadata": {},
   "source": [
    "## 17. licence"
   ]
  },
  {
   "cell_type": "code",
   "execution_count": 264,
   "metadata": {
    "execution": {
     "iopub.execute_input": "2021-06-10T14:12:16.59746Z",
     "iopub.status.busy": "2021-06-10T14:12:16.597089Z",
     "iopub.status.idle": "2021-06-10T14:12:16.638898Z",
     "shell.execute_reply": "2021-06-10T14:12:16.637847Z",
     "shell.execute_reply.started": "2021-06-10T14:12:16.597398Z"
    }
   },
   "outputs": [
    {
     "data": {
      "text/plain": [
       "ORIGINAL     94042\n",
       "Оригинал     30098\n",
       "DUPLICATE    12176\n",
       "Дубликат      4587\n",
       "Name: licence, dtype: int64"
      ]
     },
     "execution_count": 264,
     "metadata": {},
     "output_type": "execute_result"
    }
   ],
   "source": [
    "data['licence'].value_counts()"
   ]
  },
  {
   "cell_type": "code",
   "execution_count": 265,
   "metadata": {
    "execution": {
     "iopub.execute_input": "2021-06-10T14:12:16.916507Z",
     "iopub.status.busy": "2021-06-10T14:12:16.916142Z",
     "iopub.status.idle": "2021-06-10T14:12:16.949248Z",
     "shell.execute_reply": "2021-06-10T14:12:16.948294Z",
     "shell.execute_reply.started": "2021-06-10T14:12:16.916475Z"
    }
   },
   "outputs": [],
   "source": [
    "# Стандартизируем названия:\n",
    "licence_dict = {'ORIGINAL':'original', \n",
    "                'Оригинал':'original', \n",
    "                'DUPLICATE':'duplicate', \n",
    "                'Дубликат':'duplicate'\n",
    "             }\n",
    "data['licence'] = data['licence'].map(licence_dict)"
   ]
  },
  {
   "cell_type": "code",
   "execution_count": 266,
   "metadata": {
    "execution": {
     "iopub.execute_input": "2021-06-10T14:12:17.505731Z",
     "iopub.status.busy": "2021-06-10T14:12:17.505362Z",
     "iopub.status.idle": "2021-06-10T14:12:17.527816Z",
     "shell.execute_reply": "2021-06-10T14:12:17.526553Z",
     "shell.execute_reply.started": "2021-06-10T14:12:17.505701Z"
    }
   },
   "outputs": [
    {
     "data": {
      "text/plain": [
       "3"
      ]
     },
     "execution_count": 266,
     "metadata": {},
     "output_type": "execute_result"
    }
   ],
   "source": [
    "# В итоге получаем 3 пропуска:\n",
    "data['licence'].isna().sum()"
   ]
  },
  {
   "cell_type": "code",
   "execution_count": 267,
   "metadata": {
    "execution": {
     "iopub.execute_input": "2021-06-10T14:12:17.784077Z",
     "iopub.status.busy": "2021-06-10T14:12:17.783721Z",
     "iopub.status.idle": "2021-06-10T14:12:17.806968Z",
     "shell.execute_reply": "2021-06-10T14:12:17.805311Z",
     "shell.execute_reply.started": "2021-06-10T14:12:17.784047Z"
    }
   },
   "outputs": [],
   "source": [
    "# Заменяем пропуски на самое популярное значение - original:\n",
    "data['licence'] = data['licence'].fillna('original')"
   ]
  },
  {
   "cell_type": "code",
   "execution_count": 268,
   "metadata": {
    "execution": {
     "iopub.execute_input": "2021-06-10T14:12:18.2853Z",
     "iopub.status.busy": "2021-06-10T14:12:18.284931Z",
     "iopub.status.idle": "2021-06-10T14:12:18.526778Z",
     "shell.execute_reply": "2021-06-10T14:12:18.525846Z",
     "shell.execute_reply.started": "2021-06-10T14:12:18.285264Z"
    }
   },
   "outputs": [
    {
     "data": {
      "text/plain": [
       "<matplotlib.axes._subplots.AxesSubplot at 0x7feaaeababe0>"
      ]
     },
     "execution_count": 268,
     "metadata": {},
     "output_type": "execute_result"
    },
    {
     "data": {
      "image/png": "[encoded data removed]",
      "text/plain": [
       "<Figure size 432x288 with 1 Axes>"
      ]
     },
     "metadata": {
      "needs_background": "light"
     },
     "output_type": "display_data"
    }
   ],
   "source": [
    "sns.countplot(x = data['licence'], data = data)"
   ]
  },
  {
   "cell_type": "code",
   "execution_count": 269,
   "metadata": {
    "execution": {
     "iopub.execute_input": "2021-06-10T14:12:18.875348Z",
     "iopub.status.busy": "2021-06-10T14:12:18.874796Z",
     "iopub.status.idle": "2021-06-10T14:12:18.880753Z",
     "shell.execute_reply": "2021-06-10T14:12:18.879465Z",
     "shell.execute_reply.started": "2021-06-10T14:12:18.875298Z"
    }
   },
   "outputs": [],
   "source": [
    "bin_cols.append('licence')"
   ]
  },
  {
   "cell_type": "markdown",
   "metadata": {},
   "source": [
    "## 18. customs"
   ]
  },
  {
   "cell_type": "code",
   "execution_count": 270,
   "metadata": {
    "execution": {
     "iopub.execute_input": "2021-06-10T14:12:19.589442Z",
     "iopub.status.busy": "2021-06-10T14:12:19.589063Z",
     "iopub.status.idle": "2021-06-10T14:12:19.605796Z",
     "shell.execute_reply": "2021-06-10T14:12:19.604526Z",
     "shell.execute_reply.started": "2021-06-10T14:12:19.589386Z"
    }
   },
   "outputs": [
    {
     "data": {
      "text/plain": [
       "array(['Растаможен', True], dtype=object)"
      ]
     },
     "execution_count": 270,
     "metadata": {},
     "output_type": "execute_result"
    }
   ],
   "source": [
    "data['customs'].unique()"
   ]
  },
  {
   "cell_type": "code",
   "execution_count": 271,
   "metadata": {
    "execution": {
     "iopub.execute_input": "2021-06-10T14:12:20.057696Z",
     "iopub.status.busy": "2021-06-10T14:12:20.057147Z",
     "iopub.status.idle": "2021-06-10T14:12:20.084289Z",
     "shell.execute_reply": "2021-06-10T14:12:20.083486Z",
     "shell.execute_reply.started": "2021-06-10T14:12:20.057647Z"
    }
   },
   "outputs": [],
   "source": [
    "# Удаляем признак:\n",
    "data = data.drop('customs', 1)"
   ]
  },
  {
   "cell_type": "markdown",
   "metadata": {},
   "source": [
    "## 19. ownership_time"
   ]
  },
  {
   "cell_type": "code",
   "execution_count": 272,
   "metadata": {
    "execution": {
     "iopub.execute_input": "2021-06-10T14:12:20.983576Z",
     "iopub.status.busy": "2021-06-10T14:12:20.983012Z",
     "iopub.status.idle": "2021-06-10T14:12:21.012584Z",
     "shell.execute_reply": "2021-06-10T14:12:21.011378Z",
     "shell.execute_reply.started": "2021-06-10T14:12:20.983525Z"
    }
   },
   "outputs": [
    {
     "data": {
      "text/plain": [
       "{'year': 2018, 'month': 12}    621\n",
       "{'year': 2018, 'month': 10}    610\n",
       "{'year': 2019, 'month': 3}     597\n",
       "{'year': 2018, 'month': 11}    592\n",
       "{'year': 2018, 'month': 9}     587\n",
       "                              ... \n",
       "26 лет и 3 месяца                1\n",
       "24 года и 2 месяца               1\n",
       "{'year': 2004, 'month': 6}       1\n",
       "20 лет и 8 месяцев               1\n",
       "29 лет и 11 месяцев              1\n",
       "Name: ownership_time, Length: 564, dtype: int64"
      ]
     },
     "execution_count": 272,
     "metadata": {},
     "output_type": "execute_result"
    }
   ],
   "source": [
    "data['ownership_time'].value_counts()"
   ]
  },
  {
   "cell_type": "code",
   "execution_count": 273,
   "metadata": {
    "execution": {
     "iopub.execute_input": "2021-06-10T14:12:21.640784Z",
     "iopub.status.busy": "2021-06-10T14:12:21.64039Z",
     "iopub.status.idle": "2021-06-10T14:12:21.656561Z",
     "shell.execute_reply": "2021-06-10T14:12:21.655351Z",
     "shell.execute_reply.started": "2021-06-10T14:12:21.64075Z"
    }
   },
   "outputs": [
    {
     "data": {
      "text/plain": [
       "90149"
      ]
     },
     "execution_count": 273,
     "metadata": {},
     "output_type": "execute_result"
    }
   ],
   "source": [
    "# Посмотрим на количество пропусков в признаке:\n",
    "data['ownership_time'].isna().sum()"
   ]
  },
  {
   "cell_type": "code",
   "execution_count": 274,
   "metadata": {
    "execution": {
     "iopub.execute_input": "2021-06-10T14:12:22.346302Z",
     "iopub.status.busy": "2021-06-10T14:12:22.345954Z",
     "iopub.status.idle": "2021-06-10T14:12:22.363227Z",
     "shell.execute_reply": "2021-06-10T14:12:22.361863Z",
     "shell.execute_reply.started": "2021-06-10T14:12:22.346272Z"
    }
   },
   "outputs": [
    {
     "data": {
      "text/plain": [
       "63.97811306828666"
      ]
     },
     "execution_count": 274,
     "metadata": {},
     "output_type": "execute_result"
    }
   ],
   "source": [
    "((data['ownership_time'].isna().sum()) / len(data)) * 100"
   ]
  },
  {
   "cell_type": "markdown",
   "metadata": {},
   "source": [
    "64% пропусков - это критичный показатель. Удалим признак из датасета:"
   ]
  },
  {
   "cell_type": "code",
   "execution_count": 275,
   "metadata": {
    "execution": {
     "iopub.execute_input": "2021-06-10T14:12:23.362956Z",
     "iopub.status.busy": "2021-06-10T14:12:23.362435Z",
     "iopub.status.idle": "2021-06-10T14:12:23.38856Z",
     "shell.execute_reply": "2021-06-10T14:12:23.387698Z",
     "shell.execute_reply.started": "2021-06-10T14:12:23.362913Z"
    }
   },
   "outputs": [],
   "source": [
    "data = data.drop('ownership_time', 1)"
   ]
  },
  {
   "cell_type": "code",
   "execution_count": 276,
   "metadata": {
    "execution": {
     "iopub.execute_input": "2021-06-10T14:12:23.976781Z",
     "iopub.status.busy": "2021-06-10T14:12:23.976254Z",
     "iopub.status.idle": "2021-06-10T14:12:24.005473Z",
     "shell.execute_reply": "2021-06-10T14:12:24.004361Z",
     "shell.execute_reply.started": "2021-06-10T14:12:23.976747Z"
    }
   },
   "outputs": [
    {
     "data": {
      "text/html": [
       "<div>\n",
       "<style scoped>\n",
       "    .dataframe tbody tr th:only-of-type {\n",
       "        vertical-align: middle;\n",
       "    }\n",
       "\n",
       "    .dataframe tbody tr th {\n",
       "        vertical-align: top;\n",
       "    }\n",
       "\n",
       "    .dataframe thead th {\n",
       "        text-align: right;\n",
       "    }\n",
       "</style>\n",
       "<table border=\"1\" class=\"dataframe\">\n",
       "  <thead>\n",
       "    <tr style=\"text-align: right;\">\n",
       "      <th></th>\n",
       "      <th>sell_id</th>\n",
       "      <th>body_type</th>\n",
       "      <th>brand</th>\n",
       "      <th>color</th>\n",
       "      <th>fuel_type</th>\n",
       "      <th>model_age</th>\n",
       "      <th>number_of_doors</th>\n",
       "      <th>car_age</th>\n",
       "      <th>vehicle_configuration</th>\n",
       "      <th>engine_volume</th>\n",
       "      <th>engine_power</th>\n",
       "      <th>mileage</th>\n",
       "      <th>type_of_drive</th>\n",
       "      <th>steering_wheel</th>\n",
       "      <th>owners_qty</th>\n",
       "      <th>licence</th>\n",
       "      <th>price</th>\n",
       "      <th>sample</th>\n",
       "      <th>transmission</th>\n",
       "    </tr>\n",
       "  </thead>\n",
       "  <tbody>\n",
       "    <tr>\n",
       "      <th>104643</th>\n",
       "      <td>NaN</td>\n",
       "      <td>liftback</td>\n",
       "      <td>SKODA</td>\n",
       "      <td>white</td>\n",
       "      <td>diesel</td>\n",
       "      <td>12</td>\n",
       "      <td>5</td>\n",
       "      <td>7</td>\n",
       "      <td>robot</td>\n",
       "      <td>2.0</td>\n",
       "      <td>2</td>\n",
       "      <td>130000</td>\n",
       "      <td>front_wheel</td>\n",
       "      <td>left</td>\n",
       "      <td>3</td>\n",
       "      <td>original</td>\n",
       "      <td>825000.0</td>\n",
       "      <td>1</td>\n",
       "      <td>AMT</td>\n",
       "    </tr>\n",
       "    <tr>\n",
       "      <th>129894</th>\n",
       "      <td>NaN</td>\n",
       "      <td>sedan</td>\n",
       "      <td>VOLKSWAGEN</td>\n",
       "      <td>white</td>\n",
       "      <td>petrol</td>\n",
       "      <td>11</td>\n",
       "      <td>4</td>\n",
       "      <td>6</td>\n",
       "      <td>mechanical</td>\n",
       "      <td>1.6</td>\n",
       "      <td>2</td>\n",
       "      <td>120000</td>\n",
       "      <td>front_wheel</td>\n",
       "      <td>left</td>\n",
       "      <td>2</td>\n",
       "      <td>original</td>\n",
       "      <td>500000.0</td>\n",
       "      <td>1</td>\n",
       "      <td>MT</td>\n",
       "    </tr>\n",
       "    <tr>\n",
       "      <th>8119</th>\n",
       "      <td>1.084928e+09</td>\n",
       "      <td>sedan</td>\n",
       "      <td>BMW</td>\n",
       "      <td>black</td>\n",
       "      <td>petrol</td>\n",
       "      <td>33</td>\n",
       "      <td>4</td>\n",
       "      <td>26</td>\n",
       "      <td>mechanical</td>\n",
       "      <td>2.5</td>\n",
       "      <td>3</td>\n",
       "      <td>80000</td>\n",
       "      <td>rear</td>\n",
       "      <td>left</td>\n",
       "      <td>3</td>\n",
       "      <td>original</td>\n",
       "      <td>NaN</td>\n",
       "      <td>0</td>\n",
       "      <td>MT</td>\n",
       "    </tr>\n",
       "    <tr>\n",
       "      <th>116805</th>\n",
       "      <td>NaN</td>\n",
       "      <td>SUV</td>\n",
       "      <td>MERCEDES</td>\n",
       "      <td>brown</td>\n",
       "      <td>diesel</td>\n",
       "      <td>9</td>\n",
       "      <td>5</td>\n",
       "      <td>7</td>\n",
       "      <td>automatic</td>\n",
       "      <td>2.2</td>\n",
       "      <td>5</td>\n",
       "      <td>118647</td>\n",
       "      <td>four_wheel</td>\n",
       "      <td>left</td>\n",
       "      <td>3</td>\n",
       "      <td>original</td>\n",
       "      <td>1669000.0</td>\n",
       "      <td>1</td>\n",
       "      <td>AT</td>\n",
       "    </tr>\n",
       "    <tr>\n",
       "      <th>105604</th>\n",
       "      <td>NaN</td>\n",
       "      <td>sedan</td>\n",
       "      <td>LEXUS</td>\n",
       "      <td>white</td>\n",
       "      <td>petrol</td>\n",
       "      <td>7</td>\n",
       "      <td>4</td>\n",
       "      <td>7</td>\n",
       "      <td>automatic</td>\n",
       "      <td>2.2</td>\n",
       "      <td>4</td>\n",
       "      <td>149000</td>\n",
       "      <td>rear</td>\n",
       "      <td>left</td>\n",
       "      <td>3</td>\n",
       "      <td>original</td>\n",
       "      <td>1350000.0</td>\n",
       "      <td>1</td>\n",
       "      <td>AT</td>\n",
       "    </tr>\n",
       "  </tbody>\n",
       "</table>\n",
       "</div>"
      ],
      "text/plain": [
       "             sell_id body_type       brand  color fuel_type  model_age  \\\n",
       "104643           NaN  liftback       SKODA  white    diesel         12   \n",
       "129894           NaN     sedan  VOLKSWAGEN  white    petrol         11   \n",
       "8119    1.084928e+09     sedan         BMW  black    petrol         33   \n",
       "116805           NaN       SUV    MERCEDES  brown    diesel          9   \n",
       "105604           NaN     sedan       LEXUS  white    petrol          7   \n",
       "\n",
       "        number_of_doors  car_age vehicle_configuration engine_volume  \\\n",
       "104643                5        7                 robot           2.0   \n",
       "129894                4        6            mechanical           1.6   \n",
       "8119                  4       26            mechanical           2.5   \n",
       "116805                5        7             automatic           2.2   \n",
       "105604                4        7             automatic           2.2   \n",
       "\n",
       "        engine_power  mileage type_of_drive steering_wheel  owners_qty  \\\n",
       "104643             2   130000   front_wheel           left           3   \n",
       "129894             2   120000   front_wheel           left           2   \n",
       "8119               3    80000          rear           left           3   \n",
       "116805             5   118647    four_wheel           left           3   \n",
       "105604             4   149000          rear           left           3   \n",
       "\n",
       "         licence      price  sample transmission  \n",
       "104643  original   825000.0       1          AMT  \n",
       "129894  original   500000.0       1           MT  \n",
       "8119    original        NaN       0           MT  \n",
       "116805  original  1669000.0       1           AT  \n",
       "105604  original  1350000.0       1           AT  "
      ]
     },
     "execution_count": 276,
     "metadata": {},
     "output_type": "execute_result"
    }
   ],
   "source": [
    "# Посмотрим на то, как выглядит датасет сейчас:\n",
    "data.sample(5)"
   ]
  },
  {
   "cell_type": "code",
   "execution_count": 277,
   "metadata": {
    "execution": {
     "iopub.execute_input": "2021-06-10T14:12:24.444133Z",
     "iopub.status.busy": "2021-06-10T14:12:24.443777Z",
     "iopub.status.idle": "2021-06-10T14:12:24.614754Z",
     "shell.execute_reply": "2021-06-10T14:12:24.613817Z",
     "shell.execute_reply.started": "2021-06-10T14:12:24.444096Z"
    }
   },
   "outputs": [
    {
     "data": {
      "text/plain": [
       "3981"
      ]
     },
     "execution_count": 277,
     "metadata": {},
     "output_type": "execute_result"
    }
   ],
   "source": [
    "# Мы привели датасет к единообразному виду. Посмотрим, есть ли в нём ещё дубликаты:\n",
    "len(data) - len(data.drop_duplicates())"
   ]
  },
  {
   "cell_type": "code",
   "execution_count": 278,
   "metadata": {
    "execution": {
     "iopub.execute_input": "2021-06-10T14:12:25.207783Z",
     "iopub.status.busy": "2021-06-10T14:12:25.206269Z",
     "iopub.status.idle": "2021-06-10T14:12:25.370459Z",
     "shell.execute_reply": "2021-06-10T14:12:25.369351Z",
     "shell.execute_reply.started": "2021-06-10T14:12:25.207732Z"
    }
   },
   "outputs": [],
   "source": [
    "# Да, было найдено 4147 дубликата. Удалим их:\n",
    "data = data.drop_duplicates()"
   ]
  },
  {
   "cell_type": "code",
   "execution_count": 279,
   "metadata": {
    "execution": {
     "iopub.execute_input": "2021-06-10T14:12:25.653935Z",
     "iopub.status.busy": "2021-06-10T14:12:25.653576Z",
     "iopub.status.idle": "2021-06-10T14:12:25.667979Z",
     "shell.execute_reply": "2021-06-10T14:12:25.666985Z",
     "shell.execute_reply.started": "2021-06-10T14:12:25.653907Z"
    }
   },
   "outputs": [],
   "source": [
    "data1 = data.copy()"
   ]
  },
  {
   "cell_type": "markdown",
   "metadata": {},
   "source": [
    "# Анализ признаков по типам"
   ]
  },
  {
   "cell_type": "code",
   "execution_count": 280,
   "metadata": {
    "execution": {
     "iopub.execute_input": "2021-06-10T14:12:27.930351Z",
     "iopub.status.busy": "2021-06-10T14:12:27.929864Z",
     "iopub.status.idle": "2021-06-10T14:12:27.935546Z",
     "shell.execute_reply": "2021-06-10T14:12:27.934817Z",
     "shell.execute_reply.started": "2021-06-10T14:12:27.930319Z"
    }
   },
   "outputs": [
    {
     "name": "stdout",
     "output_type": "stream",
     "text": [
      "['steering_wheel', 'licence']\n",
      "['model_age', 'car_age', 'mileage']\n",
      "['body_type', 'brand', 'color', 'fuel_type', 'transmission', 'number_of_doors', 'vehicle_configuration', 'engine_volume', 'engine_power', 'type_of_drive', 'owners_qty']\n"
     ]
    }
   ],
   "source": [
    "print(bin_cols)\n",
    "print(num_cols)\n",
    "print(cat_cols)"
   ]
  },
  {
   "cell_type": "markdown",
   "metadata": {},
   "source": [
    "## Анализ бинарных признаков"
   ]
  },
  {
   "cell_type": "code",
   "execution_count": 281,
   "metadata": {
    "execution": {
     "iopub.execute_input": "2021-06-10T14:12:28.999109Z",
     "iopub.status.busy": "2021-06-10T14:12:28.998582Z",
     "iopub.status.idle": "2021-06-10T14:12:29.133523Z",
     "shell.execute_reply": "2021-06-10T14:12:29.132554Z",
     "shell.execute_reply.started": "2021-06-10T14:12:28.999063Z"
    }
   },
   "outputs": [
    {
     "data": {
      "text/html": [
       "<div>\n",
       "<style scoped>\n",
       "    .dataframe tbody tr th:only-of-type {\n",
       "        vertical-align: middle;\n",
       "    }\n",
       "\n",
       "    .dataframe tbody tr th {\n",
       "        vertical-align: top;\n",
       "    }\n",
       "\n",
       "    .dataframe thead th {\n",
       "        text-align: right;\n",
       "    }\n",
       "</style>\n",
       "<table border=\"1\" class=\"dataframe\">\n",
       "  <thead>\n",
       "    <tr style=\"text-align: right;\">\n",
       "      <th></th>\n",
       "      <th>steering_wheel</th>\n",
       "      <th>licence</th>\n",
       "    </tr>\n",
       "  </thead>\n",
       "  <tbody>\n",
       "    <tr>\n",
       "      <th>0</th>\n",
       "      <td>0</td>\n",
       "      <td>1</td>\n",
       "    </tr>\n",
       "    <tr>\n",
       "      <th>1</th>\n",
       "      <td>0</td>\n",
       "      <td>1</td>\n",
       "    </tr>\n",
       "    <tr>\n",
       "      <th>2</th>\n",
       "      <td>0</td>\n",
       "      <td>1</td>\n",
       "    </tr>\n",
       "    <tr>\n",
       "      <th>3</th>\n",
       "      <td>0</td>\n",
       "      <td>1</td>\n",
       "    </tr>\n",
       "    <tr>\n",
       "      <th>4</th>\n",
       "      <td>0</td>\n",
       "      <td>1</td>\n",
       "    </tr>\n",
       "  </tbody>\n",
       "</table>\n",
       "</div>"
      ],
      "text/plain": [
       "   steering_wheel  licence\n",
       "0               0        1\n",
       "1               0        1\n",
       "2               0        1\n",
       "3               0        1\n",
       "4               0        1"
      ]
     },
     "execution_count": 281,
     "metadata": {},
     "output_type": "execute_result"
    }
   ],
   "source": [
    "# Заменим значения бинарных признаков на 0 и 1:\n",
    "label_encoder = LabelEncoder()\n",
    "for i in bin_cols:\n",
    "    data[i] = label_encoder.fit_transform(data[i])\n",
    "    \n",
    "data[bin_cols].head(5)"
   ]
  },
  {
   "cell_type": "markdown",
   "metadata": {},
   "source": [
    "Посмотрим значимость бинарных признаков:"
   ]
  },
  {
   "cell_type": "code",
   "execution_count": 282,
   "metadata": {
    "execution": {
     "iopub.execute_input": "2021-06-10T14:12:30.183514Z",
     "iopub.status.busy": "2021-06-10T14:12:30.183145Z",
     "iopub.status.idle": "2021-06-10T14:12:30.488494Z",
     "shell.execute_reply": "2021-06-10T14:12:30.48747Z",
     "shell.execute_reply.started": "2021-06-10T14:12:30.183484Z"
    }
   },
   "outputs": [
    {
     "data": {
      "text/plain": [
       "<matplotlib.axes._subplots.AxesSubplot at 0x7feaa9eb50d0>"
      ]
     },
     "execution_count": 282,
     "metadata": {},
     "output_type": "execute_result"
    },
    {
     "data": {
      "image/png": "[encoded data removed]",
      "text/plain": [
       "<Figure size 432x288 with 1 Axes>"
      ]
     },
     "metadata": {
      "needs_background": "light"
     },
     "output_type": "display_data"
    }
   ],
   "source": [
    "imp_cat = Series(mutual_info_classif(data[data['price'].isna() == False][bin_cols], \n",
    "                                     data[data['price'].isna() == False]['price'],\n",
    "                                     discrete_features=True), index=bin_cols)\n",
    "imp_cat.sort_values(inplace=True)\n",
    "imp_cat.plot(kind='barh')"
   ]
  },
  {
   "cell_type": "markdown",
   "metadata": {},
   "source": [
    "## Анализ численных признаков"
   ]
  },
  {
   "cell_type": "code",
   "execution_count": 283,
   "metadata": {
    "execution": {
     "iopub.execute_input": "2021-06-10T14:12:30.994283Z",
     "iopub.status.busy": "2021-06-10T14:12:30.993926Z",
     "iopub.status.idle": "2021-06-10T14:12:31.243909Z",
     "shell.execute_reply": "2021-06-10T14:12:31.242825Z",
     "shell.execute_reply.started": "2021-06-10T14:12:30.994251Z"
    }
   },
   "outputs": [
    {
     "data": {
      "text/plain": [
       "<matplotlib.axes._subplots.AxesSubplot at 0x7feaa9e9bf10>"
      ]
     },
     "execution_count": 283,
     "metadata": {},
     "output_type": "execute_result"
    },
    {
     "data": {
      "image/png": "[encoded data removed]",
      "text/plain": [
       "<Figure size 720x360 with 2 Axes>"
      ]
     },
     "metadata": {
      "needs_background": "light"
     },
     "output_type": "display_data"
    }
   ],
   "source": [
    "plt.figure(figsize=(10,5))\n",
    "sns.heatmap(data[num_cols+['price']].corr(), annot=True)"
   ]
  },
  {
   "cell_type": "markdown",
   "metadata": {},
   "source": [
    "На цену автомобиля в равной степени влияют 3 признака: пробег, возраст машины и возраст модели. Между собой сильно скореллированы параметры car_age / model_age (0.97!), а также mileage / model_age и mileage / car_age."
   ]
  },
  {
   "cell_type": "code",
   "execution_count": 284,
   "metadata": {
    "execution": {
     "iopub.execute_input": "2021-06-10T14:12:31.921803Z",
     "iopub.status.busy": "2021-06-10T14:12:31.921388Z",
     "iopub.status.idle": "2021-06-10T14:12:31.946816Z",
     "shell.execute_reply": "2021-06-10T14:12:31.945964Z",
     "shell.execute_reply.started": "2021-06-10T14:12:31.921768Z"
    }
   },
   "outputs": [],
   "source": [
    "# Удалим из датасета параметр model_age, при этом оставим идентичный признак car_age:\n",
    "data = data.drop('model_age', 1)\n",
    "num_cols.remove('model_age')"
   ]
  },
  {
   "cell_type": "code",
   "execution_count": 285,
   "metadata": {
    "execution": {
     "iopub.execute_input": "2021-06-10T14:12:32.345208Z",
     "iopub.status.busy": "2021-06-10T14:12:32.344698Z",
     "iopub.status.idle": "2021-06-10T14:12:34.424351Z",
     "shell.execute_reply": "2021-06-10T14:12:34.423524Z",
     "shell.execute_reply.started": "2021-06-10T14:12:32.345175Z"
    }
   },
   "outputs": [
    {
     "data": {
      "text/plain": [
       "<matplotlib.axes._subplots.AxesSubplot at 0x7feaac644340>"
      ]
     },
     "execution_count": 285,
     "metadata": {},
     "output_type": "execute_result"
    },
    {
     "data": {
      "image/png": "[encoded data removed]",
      "text/plain": [
       "<Figure size 432x288 with 1 Axes>"
      ]
     },
     "metadata": {
      "needs_background": "light"
     },
     "output_type": "display_data"
    }
   ],
   "source": [
    "# Посмотрим на значимость непрерывных переменных:\n",
    "imp_num = Series(f_classif(data[data['price'].isna() == False][num_cols], \n",
    "                           data[data['price'].isna() == False]['price'])[0], \n",
    "                           index = num_cols)\n",
    "imp_num.sort_values(inplace = True)\n",
    "imp_num.plot(kind = 'barh')"
   ]
  },
  {
   "cell_type": "markdown",
   "metadata": {},
   "source": [
    "## Анализ категориальных признаков"
   ]
  },
  {
   "cell_type": "code",
   "execution_count": 286,
   "metadata": {
    "execution": {
     "iopub.execute_input": "2021-06-10T14:12:34.426748Z",
     "iopub.status.busy": "2021-06-10T14:12:34.426408Z",
     "iopub.status.idle": "2021-06-10T14:12:34.859066Z",
     "shell.execute_reply": "2021-06-10T14:12:34.858234Z",
     "shell.execute_reply.started": "2021-06-10T14:12:34.426716Z"
    }
   },
   "outputs": [],
   "source": [
    "# Преобразуем все значения категориальных признаков в числа:\n",
    "for i in cat_cols:\n",
    "    label_encoder.fit(data[i])\n",
    "    data[i] = label_encoder.transform(data[i])"
   ]
  },
  {
   "cell_type": "code",
   "execution_count": 287,
   "metadata": {
    "execution": {
     "iopub.execute_input": "2021-06-10T14:12:34.860541Z",
     "iopub.status.busy": "2021-06-10T14:12:34.860111Z",
     "iopub.status.idle": "2021-06-10T14:12:35.417523Z",
     "shell.execute_reply": "2021-06-10T14:12:35.416838Z",
     "shell.execute_reply.started": "2021-06-10T14:12:34.860504Z"
    }
   },
   "outputs": [
    {
     "data": {
      "text/plain": [
       "<matplotlib.axes._subplots.AxesSubplot at 0x7feaadc25d90>"
      ]
     },
     "execution_count": 287,
     "metadata": {},
     "output_type": "execute_result"
    },
    {
     "data": {
      "image/png": "[encoded data removed]",
      "text/plain": [
       "<Figure size 432x288 with 1 Axes>"
      ]
     },
     "metadata": {
      "needs_background": "light"
     },
     "output_type": "display_data"
    }
   ],
   "source": [
    "# Посмотрим на значимость категориальных признаков:\n",
    "imp_cat = Series(mutual_info_classif(data[data['price'].isna() == False][cat_cols], \n",
    "                                     data[data['price'].isna() == False]['price'],\n",
    "                                     discrete_features = True), index = cat_cols)\n",
    "imp_cat.sort_values(inplace = True)\n",
    "imp_cat.plot(kind = 'barh')"
   ]
  },
  {
   "cell_type": "markdown",
   "metadata": {},
   "source": [
    "Интересные наблюдения:\n",
    "- в тройку самых значимых категориальных признаков вошли: объём и мощность двигателя, а также бренд автомобиля,\n",
    "- цвет авто влияет на выбор покупателей в большей степени, чем типы двигателя или трансмиссии."
   ]
  },
  {
   "cell_type": "code",
   "execution_count": 288,
   "metadata": {
    "execution": {
     "iopub.execute_input": "2021-06-10T14:12:35.419213Z",
     "iopub.status.busy": "2021-06-10T14:12:35.418819Z",
     "iopub.status.idle": "2021-06-10T14:12:36.112944Z",
     "shell.execute_reply": "2021-06-10T14:12:36.112172Z",
     "shell.execute_reply.started": "2021-06-10T14:12:35.419184Z"
    }
   },
   "outputs": [
    {
     "data": {
      "text/plain": [
       "<matplotlib.axes._subplots.AxesSubplot at 0x7feaac6fc040>"
      ]
     },
     "execution_count": 288,
     "metadata": {},
     "output_type": "execute_result"
    },
    {
     "data": {
      "image/png": "[encoded data removed]",
      "text/plain": [
       "<Figure size 432x288 with 1 Axes>"
      ]
     },
     "metadata": {
      "needs_background": "light"
     },
     "output_type": "display_data"
    }
   ],
   "source": [
    "# Посмотрим значимость всех переменных на одном графике:\n",
    "imp_cat = Series(mutual_info_classif(data[data['price'].isna() == False][cat_cols + num_cols + bin_cols], \n",
    "                                     data[data['price'].isna() == False]['price'],\n",
    "                                     discrete_features = True), index = cat_cols + num_cols + bin_cols)\n",
    "imp_cat.sort_values(inplace = True)\n",
    "imp_cat.plot(kind = 'barh')"
   ]
  },
  {
   "cell_type": "markdown",
   "metadata": {},
   "source": [
    "## Подытог EDA\n",
    "\n",
    "Мы обработали все признаки:\n",
    "- определили типы переменных,\n",
    "- извлекли признаки из существующих данных,\n",
    "- заполнили пропуски,\n",
    "- проанилизировали выбросы,\n",
    "- стандартизировали общий вид данных,\n",
    "- проанилизировали взаимосвязь признаков между собой и их с таргетом,\n",
    "- проанализировали значимость всех признаков для цены автомобиля,\n",
    "- удалили наименее ценные параметры из датасета."
   ]
  },
  {
   "cell_type": "markdown",
   "metadata": {},
   "source": [
    "# Feature Engeneering"
   ]
  },
  {
   "cell_type": "markdown",
   "metadata": {},
   "source": [
    "## mileage_year\n",
    "Образуем новый признак mileage_year, который покажет средний пробег автомобиля в год."
   ]
  },
  {
   "cell_type": "code",
   "execution_count": 323,
   "metadata": {},
   "outputs": [],
   "source": [
    "# Добавим на время искусственный признак car_age1 и заменим в нём 0 на 1.\n",
    "# Это необходимо для того, чтобы в будущем при делении на car_age не было ошибки:\n",
    "data['car_age1'] = data['car_age']\n",
    "data.loc[(data['car_age1'] == 0)] = 1"
   ]
  },
  {
   "cell_type": "code",
   "execution_count": 324,
   "metadata": {},
   "outputs": [],
   "source": [
    "data['mileage_year'] = round(data['mileage'] / data['car_age']).astype(int)"
   ]
  },
  {
   "cell_type": "code",
   "execution_count": 325,
   "metadata": {},
   "outputs": [],
   "source": [
    " # Удалим вспомогательный столбец:\n",
    "data = data.drop('car_age1', 1)"
   ]
  },
  {
   "cell_type": "code",
   "execution_count": 326,
   "metadata": {},
   "outputs": [],
   "source": [
    "num_cols.append('mileage_year')"
   ]
  },
  {
   "cell_type": "code",
   "execution_count": 327,
   "metadata": {},
   "outputs": [
    {
     "data": {
      "text/plain": [
       "<matplotlib.axes._subplots.AxesSubplot at 0x7fea8ac54ac0>"
      ]
     },
     "execution_count": 327,
     "metadata": {},
     "output_type": "execute_result"
    },
    {
     "data": {
      "image/png": "[encoded data removed]",
      "text/plain": [
       "<Figure size 432x288 with 1 Axes>"
      ]
     },
     "metadata": {
      "needs_background": "light"
     },
     "output_type": "display_data"
    }
   ],
   "source": [
    "# Посмотрим значимость всех переменных на одном графике:\n",
    "imp_cat = Series(mutual_info_classif(data[data['price'].isna() == False][cat_cols + num_cols + bin_cols], \n",
    "                                     data[data['price'].isna() == False]['price'],\n",
    "                                     discrete_features = True), index = cat_cols + num_cols + bin_cols)\n",
    "imp_cat.sort_values(inplace = True)\n",
    "imp_cat.plot(kind = 'barh')"
   ]
  },
  {
   "cell_type": "markdown",
   "metadata": {},
   "source": [
    "# ML"
   ]
  },
  {
   "cell_type": "code",
   "execution_count": 291,
   "metadata": {
    "execution": {
     "iopub.execute_input": "2021-06-10T14:12:36.419278Z",
     "iopub.status.busy": "2021-06-10T14:12:36.418805Z",
     "iopub.status.idle": "2021-06-10T14:12:38.462773Z",
     "shell.execute_reply": "2021-06-10T14:12:38.46152Z",
     "shell.execute_reply.started": "2021-06-10T14:12:36.419249Z"
    }
   },
   "outputs": [],
   "source": [
    "# зафиксируем версию пакетов, чтобы эксперименты были воспроизводимы:\n",
    "!pip freeze > requirements.txt"
   ]
  },
  {
   "cell_type": "code",
   "execution_count": 292,
   "metadata": {
    "execution": {
     "iopub.execute_input": "2021-06-10T14:12:38.466258Z",
     "iopub.status.busy": "2021-06-10T14:12:38.46579Z",
     "iopub.status.idle": "2021-06-10T14:12:38.471408Z",
     "shell.execute_reply": "2021-06-10T14:12:38.470307Z",
     "shell.execute_reply.started": "2021-06-10T14:12:38.466209Z"
    }
   },
   "outputs": [],
   "source": [
    "# фиксируем RANDOM_SEED, чтобы наши эксперименты были воспроизводимы:\n",
    "RANDOM_SEED = 42\n",
    "VAL_SIZE = 0.2"
   ]
  },
  {
   "cell_type": "markdown",
   "metadata": {},
   "source": [
    "## Train test split"
   ]
  },
  {
   "cell_type": "code",
   "execution_count": 293,
   "metadata": {
    "execution": {
     "iopub.execute_input": "2021-06-10T14:12:50.05877Z",
     "iopub.status.busy": "2021-06-10T14:12:50.058396Z",
     "iopub.status.idle": "2021-06-10T14:12:50.126312Z",
     "shell.execute_reply": "2021-06-10T14:12:50.125381Z",
     "shell.execute_reply.started": "2021-06-10T14:12:50.058739Z"
    }
   },
   "outputs": [],
   "source": [
    "X = data.query('sample == 1').drop(['sell_id', 'sample','price'], axis=1).values\n",
    "X_sub = data.query('sample == 0').drop(['sample','price'], axis=1).values"
   ]
  },
  {
   "cell_type": "code",
   "execution_count": 294,
   "metadata": {
    "execution": {
     "iopub.execute_input": "2021-06-10T14:12:50.708335Z",
     "iopub.status.busy": "2021-06-10T14:12:50.707962Z",
     "iopub.status.idle": "2021-06-10T14:12:50.722927Z",
     "shell.execute_reply": "2021-06-10T14:12:50.721927Z",
     "shell.execute_reply.started": "2021-06-10T14:12:50.708306Z"
    }
   },
   "outputs": [],
   "source": [
    "y = data.query('sample == 1')['price'].values"
   ]
  },
  {
   "cell_type": "code",
   "execution_count": 295,
   "metadata": {
    "execution": {
     "iopub.execute_input": "2021-06-10T14:12:51.391289Z",
     "iopub.status.busy": "2021-06-10T14:12:51.390902Z",
     "iopub.status.idle": "2021-06-10T14:12:51.44617Z",
     "shell.execute_reply": "2021-06-10T14:12:51.445123Z",
     "shell.execute_reply.started": "2021-06-10T14:12:51.391243Z"
    }
   },
   "outputs": [],
   "source": [
    "X_train, X_test, y_train, y_test = train_test_split(X, y, test_size=VAL_SIZE, \n",
    "                                                    shuffle=True, random_state=RANDOM_SEED)"
   ]
  },
  {
   "cell_type": "markdown",
   "metadata": {},
   "source": [
    "## Model 1: Naive"
   ]
  },
  {
   "cell_type": "code",
   "execution_count": 333,
   "metadata": {
    "execution": {
     "iopub.execute_input": "2021-06-10T14:12:51.890826Z",
     "iopub.status.busy": "2021-06-10T14:12:51.890467Z",
     "iopub.status.idle": "2021-06-10T14:12:51.925174Z",
     "shell.execute_reply": "2021-06-10T14:12:51.924248Z",
     "shell.execute_reply.started": "2021-06-10T14:12:51.890795Z"
    }
   },
   "outputs": [
    {
     "name": "stdout",
     "output_type": "stream",
     "text": [
      "\n",
      "Время выполнения -  0:00:00.671531\n",
      "Точность по метрике MAPE:73.71%\n"
     ]
    }
   ],
   "source": [
    "start = datetime.now()\n",
    "\n",
    "naive = LinearRegression().fit(X_train, y_train)\n",
    "y_pred = naive.predict(X_test)\n",
    "\n",
    "print_learn_report(start, y_test, y_pred)"
   ]
  },
  {
   "cell_type": "markdown",
   "metadata": {},
   "source": [
    "## Model 2: CatBoost"
   ]
  },
  {
   "cell_type": "code",
   "execution_count": 336,
   "metadata": {
    "execution": {
     "iopub.execute_input": "2021-06-10T14:12:54.046843Z",
     "iopub.status.busy": "2021-06-10T14:12:54.046471Z",
     "iopub.status.idle": "2021-06-10T14:12:54.051848Z",
     "shell.execute_reply": "2021-06-10T14:12:54.051005Z",
     "shell.execute_reply.started": "2021-06-10T14:12:54.046809Z"
    }
   },
   "outputs": [],
   "source": [
    "cb = CatBoostRegressor(iterations = 5000,\n",
    "                       random_seed = RANDOM_SEED,\n",
    "                       eval_metric='MAPE',\n",
    "                       custom_metric=['R2', 'MAE'],\n",
    "                       silent=True,\n",
    "                       )"
   ]
  },
  {
   "cell_type": "code",
   "execution_count": 337,
   "metadata": {
    "execution": {
     "iopub.execute_input": "2021-06-10T14:12:55.244405Z",
     "iopub.status.busy": "2021-06-10T14:12:55.24405Z",
     "iopub.status.idle": "2021-06-10T14:13:46.697866Z",
     "shell.execute_reply": "2021-06-10T14:13:46.697032Z",
     "shell.execute_reply.started": "2021-06-10T14:12:55.244371Z"
    }
   },
   "outputs": [
    {
     "name": "stdout",
     "output_type": "stream",
     "text": [
      "\n",
      "Время выполнения -  0:01:51.586539\n",
      "Точность по метрике MAPE:14.82%\n"
     ]
    }
   ],
   "source": [
    "start = datetime.now()\n",
    "\n",
    "cb.fit(X_train, y_train,\n",
    "       eval_set=(X_test, y_test),\n",
    "       verbose_eval=0,\n",
    "       use_best_model=True)\n",
    "\n",
    "y_pred = cb.predict(X_test)\n",
    "\n",
    "cb.save_model('catboost_single_model_baseline.model')\n",
    "\n",
    "print_learn_report(start, y_test, y_pred)"
   ]
  },
  {
   "cell_type": "markdown",
   "metadata": {},
   "source": [
    "## Label Encoding"
   ]
  },
  {
   "cell_type": "code",
   "execution_count": 308,
   "metadata": {
    "execution": {
     "iopub.execute_input": "2021-06-10T14:18:21.336287Z",
     "iopub.status.busy": "2021-06-10T14:18:21.335998Z",
     "iopub.status.idle": "2021-06-10T14:18:21.498657Z",
     "shell.execute_reply": "2021-06-10T14:18:21.497409Z",
     "shell.execute_reply.started": "2021-06-10T14:18:21.33626Z"
    }
   },
   "outputs": [],
   "source": [
    "# Переведём категориальные признаки в dummy переменные:\n",
    "data1 = pd.get_dummies(data1, columns=['body_type','brand','color','fuel_type','transmission',\n",
    "                     'vehicle_configuration', 'type_of_drive'])"
   ]
  },
  {
   "cell_type": "code",
   "execution_count": 309,
   "metadata": {
    "execution": {
     "iopub.execute_input": "2021-06-10T14:18:21.5007Z",
     "iopub.status.busy": "2021-06-10T14:18:21.500243Z",
     "iopub.status.idle": "2021-06-10T14:18:21.590888Z",
     "shell.execute_reply": "2021-06-10T14:18:21.589777Z",
     "shell.execute_reply.started": "2021-06-10T14:18:21.500665Z"
    }
   },
   "outputs": [],
   "source": [
    "# Заменим значения бинарных признаков на 0 и 1:\n",
    "label_encoder = LabelEncoder()\n",
    "for i in bin_cols:\n",
    "    data1[i] = label_encoder.fit_transform(data1[i])"
   ]
  },
  {
   "cell_type": "code",
   "execution_count": 310,
   "metadata": {
    "execution": {
     "iopub.execute_input": "2021-06-10T16:09:30.713707Z",
     "iopub.status.busy": "2021-06-10T16:09:30.713262Z",
     "iopub.status.idle": "2021-06-10T16:09:31.143709Z",
     "shell.execute_reply": "2021-06-10T16:09:31.142577Z",
     "shell.execute_reply.started": "2021-06-10T16:09:30.713675Z"
    }
   },
   "outputs": [],
   "source": [
    "X = data1.query('sample == 1').drop(['sell_id', 'sample','price'], axis=1).values\n",
    "X_sub = data1.query('sample == 0').drop(['sell_id', 'sample','price'], axis=1).values"
   ]
  },
  {
   "cell_type": "code",
   "execution_count": 311,
   "metadata": {
    "execution": {
     "iopub.execute_input": "2021-06-10T14:18:21.96241Z",
     "iopub.status.busy": "2021-06-10T14:18:21.96177Z",
     "iopub.status.idle": "2021-06-10T14:18:21.991799Z",
     "shell.execute_reply": "2021-06-10T14:18:21.990644Z",
     "shell.execute_reply.started": "2021-06-10T14:18:21.962364Z"
    }
   },
   "outputs": [],
   "source": [
    "y = data1.query('sample == 1')['price'].values"
   ]
  },
  {
   "cell_type": "code",
   "execution_count": 312,
   "metadata": {
    "execution": {
     "iopub.execute_input": "2021-06-10T14:18:21.993511Z",
     "iopub.status.busy": "2021-06-10T14:18:21.993185Z",
     "iopub.status.idle": "2021-06-10T14:18:22.902101Z",
     "shell.execute_reply": "2021-06-10T14:18:22.900986Z",
     "shell.execute_reply.started": "2021-06-10T14:18:21.993478Z"
    }
   },
   "outputs": [],
   "source": [
    "X_train, X_test, y_train, y_test = train_test_split(X, y, test_size=VAL_SIZE, \n",
    "                                                    shuffle=True, random_state=RANDOM_SEED)"
   ]
  },
  {
   "cell_type": "markdown",
   "metadata": {},
   "source": [
    "## Model 3: GradientBoosting"
   ]
  },
  {
   "cell_type": "code",
   "execution_count": 338,
   "metadata": {
    "execution": {
     "iopub.execute_input": "2021-06-10T14:18:22.903562Z",
     "iopub.status.busy": "2021-06-10T14:18:22.903234Z",
     "iopub.status.idle": "2021-06-10T14:18:22.909165Z",
     "shell.execute_reply": "2021-06-10T14:18:22.907868Z",
     "shell.execute_reply.started": "2021-06-10T14:18:22.90351Z"
    }
   },
   "outputs": [],
   "source": [
    "# Расcчитаем MAPE после преобразования категориальынх признаков методом One-Hot-Encoding.\n",
    "gb = GradientBoostingRegressor(min_samples_split=2, \n",
    "                               learning_rate=0.03, \n",
    "                               max_depth=10, \n",
    "                               n_estimators=1000)"
   ]
  },
  {
   "cell_type": "code",
   "execution_count": null,
   "metadata": {
    "execution": {
     "iopub.execute_input": "2021-06-10T14:18:22.910971Z",
     "iopub.status.busy": "2021-06-10T14:18:22.910602Z",
     "iopub.status.idle": "2021-06-10T14:30:03.864543Z",
     "shell.execute_reply": "2021-06-10T14:30:03.863528Z",
     "shell.execute_reply.started": "2021-06-10T14:18:22.910938Z"
    }
   },
   "outputs": [],
   "source": [
    "start = datetime.now()\n",
    "\n",
    "gb.fit(X_train, y_train)\n",
    "\n",
    "y_pred = gb.predict(X_test)\n",
    "\n",
    "print_learn_report(start, y_test, y_pred)"
   ]
  },
  {
   "cell_type": "markdown",
   "metadata": {},
   "source": [
    "Метрика стала лучше!"
   ]
  },
  {
   "cell_type": "markdown",
   "metadata": {},
   "source": [
    "## Model 4: LinerRegression"
   ]
  },
  {
   "cell_type": "code",
   "execution_count": null,
   "metadata": {
    "execution": {
     "iopub.execute_input": "2021-06-10T14:30:04.9474Z",
     "iopub.status.busy": "2021-06-10T14:30:04.946981Z",
     "iopub.status.idle": "2021-06-10T14:30:05.67572Z",
     "shell.execute_reply": "2021-06-10T14:30:05.674817Z",
     "shell.execute_reply.started": "2021-06-10T14:30:04.947354Z"
    }
   },
   "outputs": [],
   "source": [
    "start = datetime.now()\n",
    "\n",
    "lin_reg = LinearRegression().fit(X_train, y_train)\n",
    "y_pred = lin_reg.predict(X_test)\n",
    "\n",
    "print_learn_report(start, y_test, y_pred)"
   ]
  },
  {
   "cell_type": "markdown",
   "metadata": {
    "execution": {
     "iopub.execute_input": "2021-06-10T14:05:00.251086Z",
     "iopub.status.busy": "2021-06-10T14:05:00.250714Z",
     "iopub.status.idle": "2021-06-10T14:05:00.257473Z",
     "shell.execute_reply": "2021-06-10T14:05:00.256296Z",
     "shell.execute_reply.started": "2021-06-10T14:05:00.251057Z"
    }
   },
   "source": [
    "Линейная регрессия после One-Hot-Encoding тоже показала лучшую метрику MAPE."
   ]
  },
  {
   "cell_type": "markdown",
   "metadata": {},
   "source": [
    "## Model 5: RandomForest"
   ]
  },
  {
   "cell_type": "code",
   "execution_count": null,
   "metadata": {
    "execution": {
     "iopub.execute_input": "2021-06-10T14:30:05.686659Z",
     "iopub.status.busy": "2021-06-10T14:30:05.686188Z",
     "iopub.status.idle": "2021-06-10T14:30:05.695776Z",
     "shell.execute_reply": "2021-06-10T14:30:05.694725Z",
     "shell.execute_reply.started": "2021-06-10T14:30:05.686615Z"
    }
   },
   "outputs": [],
   "source": [
    "rf = RandomForestRegressor(n_estimators=1000, \n",
    "                            n_jobs=-1, \n",
    "                            max_depth=15, \n",
    "                            max_features='log2', \n",
    "                            random_state=RANDOM_SEED, \n",
    "                            oob_score=True) "
   ]
  },
  {
   "cell_type": "code",
   "execution_count": null,
   "metadata": {
    "execution": {
     "iopub.execute_input": "2021-06-10T14:30:05.69754Z",
     "iopub.status.busy": "2021-06-10T14:30:05.697052Z",
     "iopub.status.idle": "2021-06-10T14:30:40.930082Z",
     "shell.execute_reply": "2021-06-10T14:30:40.928998Z",
     "shell.execute_reply.started": "2021-06-10T14:30:05.697505Z"
    }
   },
   "outputs": [],
   "source": [
    "start = datetime.now()\n",
    "\n",
    "rf.fit(X_train, y_train)\n",
    "\n",
    "y_pred = rf.predict(X_test)\n",
    "\n",
    "print_learn_report(start, y_test, y_pred)"
   ]
  },
  {
   "cell_type": "markdown",
   "metadata": {
    "papermill": {
     "duration": 0.083769,
     "end_time": "2020-10-26T12:48:13.930562",
     "exception": false,
     "start_time": "2020-10-26T12:48:13.846793",
     "status": "completed"
    },
    "tags": []
   },
   "source": [
    "На данном этапе мы получили **MAPE 13.29%** - лучший результат показал **GradientBoosting**."
   ]
  },
  {
   "cell_type": "markdown",
   "metadata": {},
   "source": [
    "# Stacking. Ansambles of models"
   ]
  },
  {
   "cell_type": "code",
   "execution_count": null,
   "metadata": {},
   "outputs": [],
   "source": [
    "start = datetime.now()\n",
    "\n",
    "estimators = [('cb', CatBoostRegressor(iterations=5000,\n",
    "                                       random_seed=RANDOM_SEED,\n",
    "                                       eval_metric='MAPE',\n",
    "                                       custom_metric=['R2', 'MAE'],\n",
    "                                       silent=True)),\n",
    "              ('rf', RandomForestRegressor(n_estimators=1000,\n",
    "                                           n_jobs=-1,\n",
    "                                           max_depth=15,\n",
    "                                           max_features='log2',\n",
    "                                           random_state=RANDOM_SEED,\n",
    "                                           oob_score=True))]\n",
    "\n",
    "\n",
    "st_ensemble = StackingRegressor(estimators=estimators,\n",
    "                                final_estimator=GradientBoostingRegressor(\n",
    "                                min_samples_split=2,\n",
    "                                learning_rate=0.03,\n",
    "                                max_depth=10,\n",
    "                                n_estimators=1000))\n",
    "\n",
    "\n",
    "st_ensemble.fit(X_train, np.log(y_train))\n",
    "\n",
    "predict_ensemble = np.exp(st_ensemble.predict(X_test))\n",
    "print_learn_report(start, y_test, predict_ensemble)"
   ]
  },
  {
   "cell_type": "markdown",
   "metadata": {},
   "source": [
    "Итак, лучший результат точности показад стекинг на базе GradientBoostingRegressor c CatBoostingRegressor и RandomForest. Финальный результат - 13.45%"
   ]
  },
  {
   "cell_type": "markdown",
   "metadata": {
    "papermill": {
     "duration": 0.087712,
     "end_time": "2020-10-26T12:48:14.104388",
     "exception": false,
     "start_time": "2020-10-26T12:48:14.016676",
     "status": "completed"
    },
    "tags": []
   },
   "source": [
    "# What's next?\n",
    "Или что еще можно сделать, чтобы улучшить результат:\n",
    "\n",
    "* Спарсить свежие данные \n",
    "* Посмотреть, что можно извлечь из признаков или как еще можно обработать признаки\n",
    "* Сгенерировать новые признаки\n",
    "* Попробовать подобрать параметры модели\n",
    "* Попробовать другие алгоритмы и библиотеки ML\n",
    "* Сделать Ансамбль моделей, Blending, Stacking"
   ]
  }
 ],
 "metadata": {
  "kernelspec": {
   "display_name": "Python 3",
   "language": "python",
   "name": "python3"
  },
  "language_info": {
   "codemirror_mode": {
    "name": "ipython",
    "version": 3
   },
   "file_extension": ".py",
   "mimetype": "text/x-python",
   "name": "python",
   "nbconvert_exporter": "python",
   "pygments_lexer": "ipython3",
   "version": "3.8.3"
  }
 },
 "nbformat": 4,
 "nbformat_minor": 4
}
