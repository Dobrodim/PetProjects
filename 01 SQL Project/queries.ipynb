{
 "cells": [
  {
   "cell_type": "markdown",
   "metadata": {},
   "source": [
    "# Flights optimization"
   ]
  },
  {
   "cell_type": "markdown",
   "metadata": {},
   "source": [
    "## 4. Exploring the patterns"
   ]
  },
  {
   "cell_type": "markdown",
   "metadata": {},
   "source": [
    "### TASK 4.1. \n",
    "База данных содержит список аэропортов практически всех крупных городов России. В большинстве городов есть только один аэропорт. Исключение составляет: \n",
    "\n",
    "**Answer:** Moscow, Ulyanovsk\n",
    "\n",
    "SELECT city,\n",
    "       count(city) AS qty\n",
    "FROM dst_project.airports\n",
    "GROUP BY 1\n",
    "ORDER BY 2 DESC"
   ]
  },
  {
   "cell_type": "markdown",
   "metadata": {},
   "source": [
    "### TASK 4.2. "
   ]
  },
  {
   "cell_type": "markdown",
   "metadata": {},
   "source": [
    "**Question 1** \n",
    "\n",
    "Таблица рейсов содержит всю информацию о прошлых, текущих и запланированных рейсах. Сколько всего статусов для рейсов определено в таблице?\n",
    "\n",
    "**Answer:** 6\n",
    "\n",
    "SELECT count(DISTINCT status)\n",
    "FROM dst_project.flights"
   ]
  },
  {
   "cell_type": "markdown",
   "metadata": {},
   "source": [
    "**Question 2** \n",
    "\n",
    "Какое количество самолетов находятся в воздухе на момент среза в базе (статус рейса «самолёт уже вылетел и находится в воздухе»)?\n",
    "\n",
    "**Answer:** 58\n",
    "\n",
    "SELECT count(*)\n",
    "FROM dst_project.flights\n",
    "WHERE status = 'Departed'"
   ]
  },
  {
   "cell_type": "markdown",
   "metadata": {},
   "source": [
    "**Question 3** \n",
    "\n",
    "Места определяют схему салона каждой модели. Сколько мест имеет самолет модели  (Boeing 777-300)?\n",
    "\n",
    "**Answer:** 402\n",
    "\n",
    "SELECT count(*)\n",
    "FROM dst_project.seats\n",
    "JOIN dst_project.aircrafts \n",
    "    USING(aircraft_code)\n",
    "WHERE model = 'Boeing 777-300'"
   ]
  },
  {
   "cell_type": "markdown",
   "metadata": {},
   "source": [
    "**Question 4** \n",
    "\n",
    "Сколько состоявшихся (фактических) рейсов было совершено между 1 апреля 2017 года и 1 сентября 2017 года?\n",
    "\n",
    "**Answer:** 74227\n",
    "\n",
    "SELECT count(*)\n",
    "FROM dst_project.flights\n",
    "WHERE status = 'Arrived'\n",
    "  AND actual_arrival BETWEEN '2017-04-01' AND '2017-09-01'"
   ]
  },
  {
   "cell_type": "markdown",
   "metadata": {},
   "source": [
    "### TASK 4.3. "
   ]
  },
  {
   "cell_type": "markdown",
   "metadata": {},
   "source": [
    "**Question 1** \n",
    "\n",
    "Сколько всего рейсов было отменено по данным базы?\n",
    "\n",
    "**Answer:** 437\n",
    "\n",
    "SELECT count(*) /* выводим количество */\n",
    "FROM dst_project.flights \n",
    "WHERE status = 'Cancelled' /* фильтрация результатов по отмене рейса */"
   ]
  },
  {
   "cell_type": "markdown",
   "metadata": {},
   "source": [
    "**Question 2** \n",
    "\n",
    "Сколько самолетов моделей типа Boeing, Sukhoi Superjet, Airbus находится в базе авиаперевозок?\n",
    "\n",
    "**Answer:** 3, 1, 3\n",
    "\n",
    "SELECT \n",
    "    (SELECT COUNT(*) /* выводим количество самолётов, отобранных в запросе ниже */\n",
    "    FROM dst_project.aircrafts /* берём данные из таблицы \"Самолёты\" */\n",
    "    WHERE model like ('Boeing%')) AS Boeing, /* отбираем данные по всем модификациям Boeing */\n",
    "    (SELECT COUNT(*)\n",
    "    FROM dst_project.aircrafts\n",
    "    WHERE model like ('Sukhoi%')) AS Sukhoi_Superjet, /* отбираем данные по всем модификациям Sukhoi Superjet */\n",
    "    (SELECT COUNT(*)\n",
    "    FROM dst_project.aircrafts\n",
    "    WHERE model like ('Airbus%')) AS Airbus /* отбираем данные по всем модификациям Airbus */\n",
    "    \n",
    "FROM dst_project.aircrafts\n",
    "LIMIT 1;\n",
    "\n",
    "P.S. В условии задания речь идёт о базе авиаперевозок, а не базе самолётов. Если брать значения по базе авиаперевозок, то в ней представлены только 2 модели Airbus вместо 3 в базе самолётов.\n",
    "\n",
    "SELECT count(DISTINCT aircraft_code)\n",
    "FROM dst_project.flights\n",
    "WHERE aircraft_code in\n",
    "    (SELECT aircraft_code\n",
    "     FROM dst_project.aircrafts\n",
    "     WHERE model like ('Airbus%'))"
   ]
  },
  {
   "cell_type": "markdown",
   "metadata": {},
   "source": [
    " **Question 3** \n",
    "\n",
    "В какой части (частях) света находится больше аэропортов?\n",
    "\n",
    "**Answer:** Europe, Asia\n",
    "\n",
    "SELECT\n",
    "  (SELECT count(*) /* выводим количество */\n",
    "   FROM dst_project.airports /* берём данные из таблицы \"Аэропорты\" */\n",
    "   WHERE timezone like ('Asia%') ) AS Asia, /* прописываем условие принадлежности аэропорта к Азии */\n",
    "\n",
    "  (SELECT count(*) \n",
    "   FROM dst_project.airports\n",
    "   WHERE timezone like ('Europe%') ) AS Europe, /* прописываем условие принадлежности аэропорта к Европе */\n",
    "\n",
    "  (SELECT count(*)\n",
    "   FROM dst_project.airports\n",
    "   WHERE timezone like ('Australia%') ) AS Australia, /* прописываем условие принадлежности аэропорта к Австралии */\n",
    "       Count(*) AS Total /* считаем общее количество аэропортов, напрямую по списку в исходной таблице */\n",
    "FROM dst_project.airports\n",
    "LIMIT 1;\n",
    "    "
   ]
  },
  {
   "cell_type": "markdown",
   "metadata": {},
   "source": [
    " **Question 4** \n",
    "\n",
    "У какого рейса была самая большая задержка прибытия за все время сбора данных? Введите id рейса (flight_id)\n",
    "\n",
    "**Answer:** 157571\n",
    "\n",
    "SELECT flight_id,\n",
    "       actual_arrival - scheduled_arrival AS max_delay /* выводим конкретную задержку */\n",
    "FROM dst_project.flights\n",
    "WHERE actual_arrival IS NOT NULL /* берём данные только в тех кортежах, где указано время прибытия */\n",
    "ORDER BY 2 DESC /* фильтруем данные по убыванию, чтобы максимальная задержка расположилась первой */\n",
    "LIMIT 1;"
   ]
  },
  {
   "cell_type": "markdown",
   "metadata": {},
   "source": [
    "### TASK 4.4. "
   ]
  },
  {
   "cell_type": "markdown",
   "metadata": {},
   "source": [
    "**Question 1** \n",
    "\n",
    "Когда был запланирован самый первый вылет, сохраненный в базе данных?\n",
    "\n",
    "**Answer:** 14.08.2016\n",
    "\n",
    "SELECT scheduled_departure /* выводим данные запланированного вылета */\n",
    "FROM dst_project.flights \n",
    "ORDER BY 1 /* фильтруем данные по возрастанию, чтобы данные первый запланированный вылет расположился первым */\n",
    "LIMIT 1;"
   ]
  },
  {
   "cell_type": "markdown",
   "metadata": {},
   "source": [
    "**Question 2** \n",
    "\n",
    "Сколько минут составляет запланированное время полета в самом длительном рейсе?\n",
    "\n",
    "**Answer:** 530\n",
    "\n",
    "SELECT date_part('hour', scheduled_arrival - scheduled_departure) * 60 \n",
    "    + date_part('minute', scheduled_arrival - scheduled_departure) \n",
    "    /* выводим общее количество минут запланированного полёта */\n",
    "FROM dst_project.flights\n",
    "ORDER BY 1 DESC /* фильтруем значения по убыванию, чтобы в начале отобразился самый продолжительный запланированный полёт */\n",
    "LIMIT 1 /* выводим только одно первое значение, больше не нужно */;"
   ]
  },
  {
   "cell_type": "markdown",
   "metadata": {},
   "source": [
    "**Question 3** \n",
    "\n",
    "Между какими аэропортами пролегает самый длительный по времени запланированный рейс?\n",
    "\n",
    "**Answer:** DME - UUS\n",
    "\n",
    "SELECT departure_airport,\n",
    "       arrival_airport /* выводим коды аэропортов вылета и прилета */\n",
    "FROM dst_project.flights\n",
    "WHERE scheduled_arrival - scheduled_departure in \n",
    "/* прописываем условие по которому будем отбирать максимальную запланированную продолжительность полёта */\n",
    "    (SELECT scheduled_arrival - scheduled_departure\n",
    "     FROM dst_project.flights\n",
    "     ORDER BY 1 DESC /* фильтруем значения по убыванию, чтобы в начале отобразился самый продолжительный запланированный полёт */\n",
    "     LIMIT 1 /* выводим только одно первое значение, больше не нужно */)\n",
    "LIMIT 1;"
   ]
  },
  {
   "cell_type": "markdown",
   "metadata": {},
   "source": [
    "**Question 4** \n",
    "\n",
    " Сколько составляет средняя дальность полета среди всех самолетов в минутах? Секунды округляются в меньшую сторону (отбрасываются до минут).\n",
    "\n",
    "**Answer:** 128\n",
    "\n",
    "SELECT date_part('hour', avg(f.scheduled_arrival - f.scheduled_departure)) * 60 \n",
    "    + date_part('minute', avg(f.scheduled_arrival - f.scheduled_departure))\n",
    "/* выводим сумму в минутах средней по времени продолжительности запланированного полета */\n",
    "/* секундны не берём в расчёт, так как по условию задания они отбрасываются (поэтому и не учитываем 21 секунду) */\n",
    "FROM dst_project.flights f; "
   ]
  },
  {
   "cell_type": "markdown",
   "metadata": {},
   "source": [
    "### TASK 4.5. "
   ]
  },
  {
   "cell_type": "markdown",
   "metadata": {},
   "source": [
    "**Question 1** \n",
    "\n",
    "Мест какого класса у SU9 больше всего?\n",
    "\n",
    "**Answer:** Economy\n",
    "\n",
    "SELECT fare_conditions,\n",
    "       count(fare_conditions) /* выводим классы и количество по мест по ним */\n",
    "FROM dst_project.seats\n",
    "WHERE aircraft_code = 'SU9' /* используем условие соответствия к конкретному id модели самолёта */\n",
    "GROUP BY 1;"
   ]
  },
  {
   "cell_type": "markdown",
   "metadata": {},
   "source": [
    "**Question 2** \n",
    "\n",
    "Какую самую минимальную стоимость составило бронирование за всю историю?\n",
    "\n",
    "**Answer:** 3400\n",
    "\n",
    "SELECT total_amount\n",
    "FROM dst_project.bookings\n",
    "ORDER BY 1 ASC\n",
    "LIMIT 1;"
   ]
  },
  {
   "cell_type": "markdown",
   "metadata": {},
   "source": [
    "**Question 3** \n",
    "\n",
    "Какой номер места был у пассажира с id = 4313 788533?\n",
    "\n",
    "**Answer:** 2A\n",
    "\n",
    "SELECT bp.seat_no /* выводим номер места */\n",
    "FROM dst_project.tickets t\n",
    "JOIN dst_project.boarding_passes bp USING(ticket_no) /* объединяем таблицы tickets и boarding_passes */\n",
    "WHERE t.passenger_id = '4313 788533' /* прописываем условие по конкретному id пассажира*/;"
   ]
  },
  {
   "cell_type": "markdown",
   "metadata": {},
   "source": [
    "## 5. Preliminary analysis"
   ]
  },
  {
   "cell_type": "markdown",
   "metadata": {},
   "source": [
    "### TASK 5.1. "
   ]
  },
  {
   "cell_type": "markdown",
   "metadata": {},
   "source": [
    "**Question 1** \n",
    "\n",
    "Анапа — курортный город на юге России. Сколько рейсов прибыло в Анапу за 2017 год?\n",
    "\n",
    "**Answer:** 486\n",
    "\n",
    "SELECT count(*) /* выводим количество */\n",
    "FROM dst_project.flights\n",
    "WHERE arrival_airport in\n",
    "/* прописываем условие соответствия записей коду аэропорта Анапы и году прибытия - 2017 */\n",
    "    (SELECT airport_code\n",
    "    FROM dst_project.airports\n",
    "    WHERE city = 'Anapa')\n",
    "    AND date_part('year', actual_arrival) = 2017;"
   ]
  },
  {
   "cell_type": "markdown",
   "metadata": {},
   "source": [
    "**Question 2** \n",
    "\n",
    "Сколько рейсов из Анапы вылетело зимой 2017 года?\n",
    "\n",
    "**Answer:** 127\n",
    "\n",
    "SELECT count(*)\n",
    "FROM dst_project.flights\n",
    "WHERE departure_airport in\n",
    "/* прописываем условие соответствия записей коду аэропорта Анапы и году вылета 2017 + месяцам вылета - декабрю, январю и февралю + исключаем отменённые рейсы */\n",
    "    (SELECT airport_code\n",
    "     FROM dst_project.airports\n",
    "     WHERE city = 'Anapa')\n",
    "  AND date_part('year', actual_departure) = 2017\n",
    "  AND date_part('month', actual_departure) in (12,1,2)\n",
    "  AND status not in ('Cancelled');"
   ]
  },
  {
   "cell_type": "markdown",
   "metadata": {},
   "source": [
    "**Question 3** \n",
    "\n",
    "Посчитайте количество отмененных рейсов из Анапы за все время.\n",
    "\n",
    "**Answer:** \n",
    "\n",
    "SELECT count(*)\n",
    "FROM dst_project.flights\n",
    "WHERE departure_airport in\n",
    "/* прописываем условие соответствия записей коду аэропорта Анапы и статусы вылета рейса \"Отменён\" */\n",
    "    (SELECT airport_code\n",
    "     FROM dst_project.airports\n",
    "     WHERE city = 'Anapa')\n",
    "  AND status = 'Cancelled';"
   ]
  },
  {
   "cell_type": "markdown",
   "metadata": {},
   "source": [
    "**Question 4** \n",
    "\n",
    "Сколько рейсов из Анапы не летают в Москву?\n",
    "\n",
    "**Answer:** 453\n",
    "\n",
    "SELECT count(*)\n",
    "FROM dst_project.flights\n",
    "WHERE departure_airport in\n",
    "/* прописываем условия соответствия записей коду аэропорта Анапы (вылет) и отсутствию совпадений с кодами аэропортов Москвы (прилёт) */\n",
    "    (SELECT airport_code\n",
    "    FROM dst_project.airports\n",
    "    WHERE city = 'Anapa') \n",
    "    AND arrival_airport not in \n",
    "    (SELECT airport_code\n",
    "    FROM dst_project.airports\n",
    "    WHERE city = 'Moscow')"
   ]
  },
  {
   "cell_type": "markdown",
   "metadata": {},
   "source": [
    "**Question 5** \n",
    "\n",
    "Какая модель самолета летящего на рейсах из Анапы имеет больше всего мест?\n",
    "\n",
    "**Answer:** Boeing 737-300\n",
    "\n",
    "SELECT *\n",
    "FROM\n",
    "/* соединяем две таблицы с вложенными запросами: */\n",
    "  (SELECT DISTINCT model,\n",
    "                   aircraft_code /* первая таблица - выводим уникальные названия моделей и коды самолётов */\n",
    "   FROM dst_project.flights\n",
    "   INNER JOIN dst_project.aircrafts USING(aircraft_code) /* соединяем две таблицы - полёты и самолёты */\n",
    "   WHERE departure_airport in /* прописываем условие соответствия аэропорта вылета Анапе */\n",
    "       (SELECT airport_code\n",
    "        FROM dst_project.airports\n",
    "        WHERE city = 'Anapa')) AS models\n",
    "INNER JOIN\n",
    "  (SELECT DISTINCT aircraft_code,\n",
    "                   count(*) /* вторая таблица - выводим уникальные коды самолётов и подсчитываем количество мест в каждой модели */\n",
    "   FROM dst_project.seats\n",
    "   GROUP BY 1) AS seats_qty USING(aircraft_code)\n",
    "ORDER BY 3 DESC /* фильтруем данные по количеству мест в самолётах по убыванию */;"
   ]
  },
  {
   "cell_type": "code",
   "execution_count": null,
   "metadata": {},
   "outputs": [],
   "source": []
  }
 ],
 "metadata": {
  "kernelspec": {
   "display_name": "Python 3",
   "language": "python",
   "name": "python3"
  },
  "language_info": {
   "codemirror_mode": {
    "name": "ipython",
    "version": 3
   },
   "file_extension": ".py",
   "mimetype": "text/x-python",
   "name": "python",
   "nbconvert_exporter": "python",
   "pygments_lexer": "ipython3",
   "version": "3.8.3"
  }
 },
 "nbformat": 4,
 "nbformat_minor": 4
}
