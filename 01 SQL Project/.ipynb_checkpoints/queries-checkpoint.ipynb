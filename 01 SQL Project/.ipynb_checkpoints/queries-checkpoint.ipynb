{
 "cells": [
  {
   "cell_type": "markdown",
   "metadata": {},
   "source": [
    "# Flights optimization"
   ]
  },
  {
   "cell_type": "markdown",
   "metadata": {},
   "source": [
    "### TASK 4.1. \n",
    "База данных содержит список аэропортов практически всех крупных городов России. В большинстве городов есть только один аэропорт. Исключение составляет: \n",
    "\n",
    "**Answer:** Moscow, Ulyanovsk\n",
    "\n",
    "SELECT city,\n",
    "       count(city) AS qty\n",
    "FROM dst_project.airports\n",
    "GROUP BY 1\n",
    "ORDER BY 2 DESC"
   ]
  },
  {
   "cell_type": "markdown",
   "metadata": {},
   "source": [
    "### TASK 4.2. "
   ]
  },
  {
   "cell_type": "markdown",
   "metadata": {},
   "source": [
    "**Question 1** \n",
    "\n",
    "Таблица рейсов содержит всю информацию о прошлых, текущих и запланированных рейсах. Сколько всего статусов для рейсов определено в таблице?\n",
    "\n",
    "**Answer:** 6\n",
    "\n",
    "SELECT count(DISTINCT status)\n",
    "FROM dst_project.flights"
   ]
  },
  {
   "cell_type": "markdown",
   "metadata": {},
   "source": [
    "**Question 2** \n",
    "\n",
    "Какое количество самолетов находятся в воздухе на момент среза в базе (статус рейса «самолёт уже вылетел и находится в воздухе»)?\n",
    "\n",
    "**Answer:** 58\n",
    "\n",
    "SELECT count(*)\n",
    "FROM dst_project.flights\n",
    "WHERE status = 'Departed'"
   ]
  },
  {
   "cell_type": "markdown",
   "metadata": {},
   "source": [
    "**Question 3** \n",
    "\n",
    "Места определяют схему салона каждой модели. Сколько мест имеет самолет модели  (Boeing 777-300)?\n",
    "\n",
    "**Answer:** 402\n",
    "\n",
    "SELECT count(*)\n",
    "FROM dst_project.seats\n",
    "JOIN dst_project.aircrafts \n",
    "    USING(aircraft_code)\n",
    "WHERE model = 'Boeing 777-300'"
   ]
  },
  {
   "cell_type": "markdown",
   "metadata": {},
   "source": [
    "**Question 4** \n",
    "\n",
    "Сколько состоявшихся (фактических) рейсов было совершено между 1 апреля 2017 года и 1 сентября 2017 года?\n",
    "\n",
    "**Answer:** 74227\n",
    "\n",
    "SELECT count(*)\n",
    "FROM dst_project.flights\n",
    "WHERE status = 'Arrived'\n",
    "  AND actual_arrival BETWEEN '2017-04-01' AND '2017-09-01'"
   ]
  },
  {
   "cell_type": "markdown",
   "metadata": {},
   "source": [
    "### TASK 4.3. "
   ]
  },
  {
   "cell_type": "markdown",
   "metadata": {},
   "source": [
    "**Question 1** \n",
    "\n",
    "Сколько всего рейсов было отменено по данным базы?\n",
    "\n",
    "**Answer:** 406\n",
    "\n",
    "SELECT count(*)\n",
    "FROM dst_project.flights\n",
    "WHERE status = 'Cancelled'\n",
    "  AND actual_departure IS NULL\n",
    "  AND actual_arrival IS NULL"
   ]
  },
  {
   "cell_type": "markdown",
   "metadata": {},
   "source": [
    "**Question 2** \n",
    "\n",
    "Сколько самолетов моделей типа Boeing, Sukhoi Superjet, Airbus находится в базе авиаперевозок?\n",
    "\n",
    "**Answer:** 23200, 3000, 18000\n",
    "\n",
    "SELECT \n",
    "    (SELECT SUM(RANGE) /* выводим сумму по моделям самолётов, отобранных в запросе ниже */\n",
    "    FROM dst_project.aircrafts /* берём данные из таблицы \"Самолёты\" */\n",
    "    WHERE model like ('Boeing%')) AS Boeing, /* отбираем данные по всем модификациям Boeing */\n",
    "    \n",
    "    (SELECT SUM(RANGE)\n",
    "    FROM dst_project.aircrafts\n",
    "    WHERE model like ('Sukhoi%')) AS Sukhoi_Superjet, /* отбираем данные по всем модификациям Sukhoi Superjet */\n",
    "    \n",
    "    (SELECT SUM(RANGE)\n",
    "    FROM dst_project.aircrafts\n",
    "    WHERE model like ('Airbus%')) AS Airbus /* отбираем данные по всем модификациям Airbus */\n",
    "    \n",
    "FROM dst_project.aircrafts\n",
    "LIMIT 1; /* выводим только 1 кортеж данных, больше не нужно, так как ниже значения дублируются */"
   ]
  },
  {
   "cell_type": "markdown",
   "metadata": {},
   "source": [
    " **Question 3** \n",
    "\n",
    "В какой части (частях) света находится больше аэропортов?\n",
    "\n",
    "**Answer:** Europe, Asia\n",
    "\n",
    "SELECT\n",
    "  (SELECT count(*) /* выводим количество */\n",
    "   FROM dst_project.airports /* берём данные из таблицы \"Аэропорты\" */\n",
    "   WHERE timezone like ('Asia%') ) AS Asia, /* прописываем условие принадлежности аэропорта к Азии */\n",
    "\n",
    "  (SELECT count(*) \n",
    "   FROM dst_project.airports\n",
    "   WHERE timezone like ('Europe%') ) AS Europe, /* прописываем условие принадлежности аэропорта к Европе */\n",
    "\n",
    "  (SELECT count(*)\n",
    "   FROM dst_project.airports\n",
    "   WHERE timezone like ('Australia%') ) AS Australia, /* прописываем условие принадлежности аэропорта к Австралии */\n",
    "       Count(*) AS Total /* считаем общее количество аэропортов, напрямую по списку в исходной таблице */\n",
    "FROM dst_project.airports\n",
    "LIMIT 1; /* выводим только 1 кортеж данных, больше не нужно, так как ниже значения дублируются */\n",
    "    "
   ]
  },
  {
   "cell_type": "markdown",
   "metadata": {},
   "source": [
    " **Question 4** \n",
    "\n",
    "У какого рейса была самая большая задержка прибытия за все время сбора данных? Введите id рейса (flight_id)\n",
    "\n",
    "**Answer:** \n",
    "\n"
   ]
  },
  {
   "cell_type": "code",
   "execution_count": null,
   "metadata": {},
   "outputs": [],
   "source": []
  },
  {
   "cell_type": "code",
   "execution_count": null,
   "metadata": {},
   "outputs": [],
   "source": []
  }
 ],
 "metadata": {
  "kernelspec": {
   "display_name": "Python 3",
   "language": "python",
   "name": "python3"
  },
  "language_info": {
   "codemirror_mode": {
    "name": "ipython",
    "version": 3
   },
   "file_extension": ".py",
   "mimetype": "text/x-python",
   "name": "python",
   "nbconvert_exporter": "python",
   "pygments_lexer": "ipython3",
   "version": "3.8.3"
  }
 },
 "nbformat": 4,
 "nbformat_minor": 4
}
